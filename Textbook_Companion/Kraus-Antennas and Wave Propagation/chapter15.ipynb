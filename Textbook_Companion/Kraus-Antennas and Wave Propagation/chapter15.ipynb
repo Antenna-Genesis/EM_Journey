{
 "metadata": {
  "name": ""
 },
 "nbformat": 3,
 "nbformat_minor": 0,
 "worksheets": [
  {
   "cells": [
    {
     "cell_type": "markdown",
     "metadata": {},
     "source": [
      "<h1>Chapter 15: Antennas for Special Applications<h1>"
     ]
    },
    {
     "cell_type": "markdown",
     "metadata": {},
     "source": [
      "<h3>Example 15-2.1, Page number 524<h3>"
     ]
    },
    {
     "cell_type": "code",
     "collapsed": false,
     "input": [
      "#Variable declaration\n",
      "freq = 100e3    #Frequency (Hz)\n",
      "height = 150    #Height of antenna(m)\n",
      "RL = 2          #Loss resistance (ohm)\n",
      "c = 3e8         #Speed of light (m/s)\n",
      "\n",
      "#Calculations\n",
      "wave_lt = c/freq    #Wavelength (m)\n",
      "hp = height/wave_lt #Antenna (physical) height (lambda)\n",
      "he = hp/2           #Effective height (lambda)\n",
      "\n",
      "Rr = 400*(hp**2)  #Radiation resistance (ohm)\n",
      "\n",
      "R_E = Rr/(Rr+RL)        #Radiation efficiency (unitless)\n",
      "\n",
      "#Results\n",
      "print \"The Effective height of the antenna is \", he, \"lambda\"\n",
      "print \"The Radiation resistance for 150m vertical radiator is\", Rr, \"ohm\"\n",
      "print \"The radiation efficiency is\", round(R_E,2), \"or\", round(R_E*100,2), \"%\""
     ],
     "language": "python",
     "metadata": {},
     "outputs": [
      {
       "output_type": "stream",
       "stream": "stdout",
       "text": [
        "The Effective height of the antenna is  0.025 lambda\n",
        "The Radiation resistance for 150m vertical radiator is 1.0 ohm\n",
        "The radiation efficiency is 0.33 or 33.33 %\n"
       ]
      }
     ],
     "prompt_number": 1
    },
    {
     "cell_type": "markdown",
     "metadata": {},
     "source": [
      "<h3>Example 15-4.1, Page number: 529</h3>"
     ]
    },
    {
     "cell_type": "code",
     "collapsed": false,
     "input": [
      "%matplotlib inline\n",
      "import numpy as np\n",
      "from math import pi, sin, sqrt, radians\n",
      "from pylab import *\n",
      "from cmath import sqrt\n",
      "import matplotlib.pyplot as plt\n",
      "\n",
      "#Variable declaration\n",
      "eps_r1 = 16    #Real part of relative permittivity of ground (unitless)\n",
      "sigma = 1e-2    #conductivity of ground (mho per meter)\n",
      "eps_0 = 8.85e-12    #Air permittivity (F/m)\n",
      "f1 = 1e6       #Frequency (Hz)\n",
      "f2 = 100e6     #Frequency (Hz)\n",
      "\n",
      "#Calculation\n",
      "eps_r11 = sigma/(2*pi*f1*eps_0)    #Loss part of relative permittivity for f1 (unitless)\n",
      "eps_r11_2 = sigma/(2*pi*f2*eps_0)    #Loss part of relative permittivity for f2 (unitless)\n",
      "\n",
      "eps_ra = eps_r1 -(1j)*eps_r11    #Relative permittivity for f1 (unitless)\n",
      "eps_rb = eps_r1 -(1j)*eps_r11_2    #Relative permittivity for f2 (unitless)\n",
      "\n",
      "n1 = sqrt(eps_ra)    #Refractive index for f1 (unitless)\n",
      "n2 = sqrt(eps_rb)    #Refractive index for f2 (unitless)\n",
      "E_perp1 = [1 + (abs((sin(alpha) - n1)/(sin(alpha)+n1))*exp(1j*(2*pi*sin(alpha) + angle((sin(alpha) - n1)/(sin(alpha)+n1))))) \\\n",
      "          for alpha in arange(0,pi/2,pi/180)]    \n",
      "\n",
      "E_perp2 = [1 + (abs((sin(alpha) - n2)/(sin(alpha)+n2))*exp(1j*(2*pi*sin(alpha) + angle((sin(alpha) - n2)/(sin(alpha)+n2))))) \\\n",
      "          for alpha in arange(0,pi/2,pi/180)]\n",
      "\n",
      "E_perp1_rel = E_perp1/max(E_perp1)    #Relative electric field for f1 (unitless)\n",
      "\n",
      "E_perp2_rel = E_perp2/max(E_perp2)    #Relative electric field for f2 (unitless)\n",
      "\n",
      "theta = arange(0,pi/2,pi/180)\n",
      "\n",
      "polar(theta,E_perp1_rel,'g',label=\"1MHz\")\n",
      "polar(theta,E_perp2_rel,'b--',label=\"100MHz\")\n",
      "legend(loc=\"upper left\")\n",
      "\n",
      "\n",
      "#Result\n",
      "print \"The loss parameter for 1MHz is \", round(eps_r11)\n",
      "print \"The loss parameter for 100MHz is \", round(eps_r11_2,2)\n",
      "print \"The relative permittivity for 1MHz is \", np.around(eps_ra)\n",
      "print \"The relative permittivity for 100MHz is \", np.around(eps_rb,2)"
     ],
     "language": "python",
     "metadata": {},
     "outputs": [
      {
       "output_type": "stream",
       "stream": "stdout",
       "text": [
        "The loss parameter for 1MHz is  180.0\n",
        "The loss parameter for 100MHz is  1.8\n",
        "The relative permittivity for 1MHz is  (16-180j)\n",
        "The relative permittivity for 100MHz is  (16-1.8j)\n"
       ]
      },
      {
       "output_type": "stream",
       "stream": "stderr",
       "text": [
        "/usr/lib/python2.7/dist-packages/numpy/core/numeric.py:460: ComplexWarning: Casting complex values to real discards the imaginary part\n",
        "  return array(a, dtype, copy=False, order=order)\n"
       ]
      },
      {
       "metadata": {},
       "output_type": "display_data",
       "png": "[encoded data removed]",
       "text": [
        "<matplotlib.figure.Figure at 0x7f9dca6680d0>"
       ]
      }
     ],
     "prompt_number": 1
    },
    {
     "cell_type": "markdown",
     "metadata": {},
     "source": [
      "<h3>Example 15-12.1, Page number: 541</h3>"
     ]
    },
    {
     "cell_type": "code",
     "collapsed": false,
     "input": [
      "%matplotlib inline\n",
      "from math import pi,acos,sqrt,log10,atan\n",
      "import cmath\n",
      "import numpy as np\n",
      "from pylab import *\n",
      "\n",
      "#Variable declaration\n",
      "f = 60e6    #Frequency(Hz)\n",
      "dep = 20    #Depth of antenna location (m)\n",
      "sigma = 1.33e-2    #Conductivity (mho per m)\n",
      "eps0 = 8.85e-12    #Air Permittivity (F/m)\n",
      "epr1 = 80    #Real part of relative permittivity (unitless)\n",
      "alphat = 10    #Elevation angle (degrees)\n",
      "cl = 1    #Circumference (lambda)\n",
      "pitch = 12.5    #Pitch angle (degrees)\n",
      "c = 3e8    #Speed of light (m/s)\n",
      "\n",
      "dir_gb = 3    #Directivity of George Brown turnstile (unitless)\n",
      "Aer_gb = 6    #Effective aperture of George Brown turnstile (unitless)\n",
      "r = 1e3    #Distance between transmitter and receiver (m)\n",
      "Pt = 100    #Transmitted power (W)\n",
      "\n",
      "\n",
      "\n",
      "#Calculations\n",
      "epr11 = sigma/(eps0*2*pi*f)    #Loss term of relative permittivity (unitless)\n",
      "epr = epr1 + 1j*epr11    #Relative permittivity (unitless)\n",
      "alphac = acos(sqrt(1/epr1))    #Critical angle (degrees)\n",
      "alpha = acos(cos(radians(alphat))/sqrt(epr1))    #Angle of incidence (degrees)\n",
      "\n",
      "n1=12    #Number of turns\n",
      "rad = cl/(2*pi)    #Radius of loop (lambda)\n",
      "sl = tan(radians(12.5))\n",
      "hpbw1 = 52/(cl*sqrt(n1*sl))    #Half power beamwidth for 12 turns(degrees)\n",
      "dir1 = 12*(cl**2)*n1*sl    #Directivity for 12 turns (unitless)\n",
      "n2 = n1*2    #Number of turns\n",
      "hpbw2 = 52/(cl*sqrt(n2*sl))    #Half power beamwidth for 24 turns(degrees)\n",
      "dir2 = 12*(cl**2)*n2*sl    #Directivity for 24 turns (unitless)\n",
      "num = 20    #Number of turns chosen\n",
      "\n",
      "p_perp = [(sin(theta)-cmath.sqrt(epr - cos(theta)**2))/(sin(theta)+cmath.sqrt(epr - cos(theta)**2)) \\\n",
      "          for theta in arange(0,pi,pi/180)]\n",
      "                            #Reflection coefficient (unitless)\n",
      "p_pall = [(epr*sin(theta)-cmath.sqrt(epr - cos(theta)**2))/(epr*sin(theta)+cmath.sqrt(epr - cos(theta)**2)) \\\n",
      "            for theta in arange(0,pi,pi/180)]\n",
      "                            #Reflection coefficient (unitless)\n",
      "\n",
      "Sr = 0.5*(np.absolute(p_perp)**2 + np.absolute(p_pall)**2)    #Relative power density reflected (unitless)\n",
      "St = 1 - Sr     #Relative power density transmitted (unitless)\n",
      " \n",
      "theta = arange(0,pi,pi/180)\n",
      "subplot(1,2,1)\n",
      "plot(theta,St)\n",
      "xlim([0,pi/2])\n",
      "title(\"Relative power vs Elevation angle\")\n",
      "\n",
      "\n",
      "subplot(1,2,2, polar=True)\n",
      "plot(theta,St)\n",
      "title(\"Pattern of transmission\")\n",
      "\n",
      "wave_lt = c/f    #Wavelength (m)\n",
      "diam = wave_lt/(sqrt(epr1)*pi)    #Submerged helix diameter (m)\n",
      "att_cons = (pi*epr11)/(wave_lt*sqrt(epr1))    #Attenuation constant for water (Np/m)\n",
      "att_d = 20*log10(exp(-att_cons*dep))    #Attenuation in the water path (dB)\n",
      "Dir = 12*(cl**2)*num*sl    #Directivity for 20 turn helix (unitless)\n",
      "Ae = Dir*(wave_lt**2)/(4*pi)    #Effective aperture (m^2)\n",
      "\n",
      "Pr = Pt*Ae*dir_gb/((r**2)*(wave_lt**2))    #Received power(W)\n",
      "\n",
      "St = np.around(St,2)\n",
      "loss_inter = 10*log10(St[10])    #Loss at the interface for alpha = 83.68 (dB)\n",
      "tot_loss = round(abs(att_d + loss_inter))    #Total loss (dB)\n",
      "Pr_act = Pr/(10**(tot_loss/10))    #Net Actual received power (W)\n",
      "\n",
      "\n",
      "#Results\n",
      "print \"Half power beamwidth for 12 turns is \", round(hpbw1), \"degrees\"\n",
      "print \"Directivity for 12 turns is \", round(dir1,1)\n",
      "print \"Half power beamwidth for 24 turns is \", round(hpbw2), \"degrees\"\n",
      "print \"Directivity for 24 turns is \", round(dir2,1)\n",
      "print \"A helix of \", num, \"turns is chosen for reasonable compromise\"\n",
      "print \"The signal level at the distance of 1km is\", round(Pr_act,10), \"W\"\n"
     ],
     "language": "python",
     "metadata": {},
     "outputs": [
      {
       "output_type": "stream",
       "stream": "stdout",
       "text": [
        "Half power beamwidth for 12 turns is  32.0 degrees\n",
        "Directivity for 12 turns is  31.9\n",
        "Half power beamwidth for 24 turns is  23.0 degrees\n",
        "Directivity for 24 turns is  63.8\n",
        "A helix of  20 turns is chosen for reasonable compromise\n",
        "The signal level at the distance of 1km is 8e-09 W\n"
       ]
      },
      {
       "metadata": {},
       "output_type": "display_data",
       "png": "[encoded data removed]",
       "text": [
        "<matplotlib.figure.Figure at 0x7fdf86780510>"
       ]
      }
     ],
     "prompt_number": 43
    },
    {
     "cell_type": "markdown",
     "metadata": {},
     "source": [
      "<h3>Example 15-13.1, Page number: 546<h3>"
     ]
    },
    {
     "cell_type": "code",
     "collapsed": false,
     "input": [
      "from math import atan,pi\n",
      "\n",
      "#Variable declaration\n",
      "freq = 3e9  #Frequency (Hz)\n",
      "Re_Zc = 14.4e-3 #Real part of intrinsic impedence of copper (ohm)\n",
      "Zd = 377    #Intrinsic impedence of air (ohm)\n",
      "\n",
      "#Calculation\n",
      "tau = atan(Re_Zc/Zd)*180/pi #Tilt angle (degrees)\n",
      "\n",
      "#Result\n",
      "print \"The tilt angle is\", round(tau,4), \"degrees\""
     ],
     "language": "python",
     "metadata": {},
     "outputs": [
      {
       "output_type": "stream",
       "stream": "stdout",
       "text": [
        "The tilt angle is 0.0022 degrees\n"
       ]
      }
     ],
     "prompt_number": 88
    },
    {
     "cell_type": "markdown",
     "metadata": {},
     "source": [
      "<h3>Example 15-13.2, Page number: 546<h3>"
     ]
    },
    {
     "cell_type": "code",
     "collapsed": false,
     "input": [
      "from math import atan,pi,sqrt\n",
      "\n",
      "#Variable declaration\n",
      "freq = 3e9  #Frequency (Hz)\n",
      "eps_r = 80  #Relative permittivity of water (unitless)\n",
      "\n",
      "#Calculation\n",
      "tau = atan(1/sqrt(eps_r))*180/pi #Forward Tilt angle (degrees)\n",
      "\n",
      "#Result\n",
      "print \"The forward tilt angle is\", round(tau,1), \"degrees\""
     ],
     "language": "python",
     "metadata": {},
     "outputs": [
      {
       "output_type": "stream",
       "stream": "stdout",
       "text": [
        "The forward tilt angle is 6.4 degrees\n"
       ]
      }
     ],
     "prompt_number": 89
    },
    {
     "cell_type": "markdown",
     "metadata": {},
     "source": [
      "<h3>Example 15-13.3, Page number: 550<h3>"
     ]
    },
    {
     "cell_type": "code",
     "collapsed": false,
     "input": [
      "from math import acos,pi\n",
      "\n",
      "#Variable declaration\n",
      "lambda_g = 1.5      #Wavelength in guide (lambda)\n",
      "m = -1  #Mode number\n",
      "\n",
      "\n",
      "#Calculation\n",
      "phi = acos((1/lambda_g)+m)*180/pi #Forward Tilt angle (degrees)\n",
      "\n",
      "#Result\n",
      "print \"The beam angle is\", round(phi,1), \"degrees\""
     ],
     "language": "python",
     "metadata": {},
     "outputs": [
      {
       "output_type": "stream",
       "stream": "stdout",
       "text": [
        "The beam angle is 109.5 degrees\n"
       ]
      }
     ],
     "prompt_number": 90
    },
    {
     "cell_type": "markdown",
     "metadata": {},
     "source": [
      "<h3>Example 15-14.1, Page number:552<h3>"
     ]
    },
    {
     "cell_type": "code",
     "collapsed": false,
     "input": [
      "from math import pi, log10, sqrt\n",
      "\n",
      "#Variable declaration\n",
      "freq = 4e9      #Frequency (Hz)\n",
      "T_sys = 100     #System Temperature (K)\n",
      "S_N = 20        #Signal to Noise ratio (dB)\n",
      "bandwidth = 30e6    #Bandwidth (Hz)\n",
      "P_trans = 5     #Satellite transponder power (W)\n",
      "dia = 2         #Satellite parabolic dish diameter (m)\n",
      "sat_spacing = 2 #Spacing between satellites (degrees)\n",
      "r = 36000e3       #Downlink distance (m)\n",
      "k = 1.38e-23    #Boltzmann's constant (J/K)\n",
      "c = 3e8         #Speed of light (m/s)\n",
      "\n",
      "#Calculation\n",
      "wave_lt = c/freq\n",
      "s_n = (wave_lt**2)/(16*(pi**2)*(r**2)*k*T_sys*bandwidth)    \n",
      "s_n = 10*log10(s_n)     #Signal to noise ratio for isotropic antennas (dB)\n",
      "\n",
      "Ae = 0.5*pi*(dia**2)/4      #Effective Aperture (m^2)\n",
      "Gs = 4*pi*Ae/(wave_lt**2)   \n",
      "Gs = 10*log10(Gs)       #Antenna Gain (dB)\n",
      "\n",
      "Ge = 20 - s_n - Gs - 10*log10(P_trans) #Required earth station antenna gain(dB)\n",
      "Ae_e = (10**(Ge/10))*(wave_lt**2)/(4*pi)    \n",
      "            #Required earth station effective aperture (m^2)\n",
      "Ap = Ae_e*2     #Required Physical aperture (m^2)\n",
      "\n",
      "De = 2*sqrt(Ap/pi)      #Required diameter of earth-station antenna(m)\n",
      "hpbw = 65/(De/wave_lt)     #Half power beam width (degree)\n",
      "bwfn = 145/(De/wave_lt)    #Beamwidth between first null (degree)\n",
      "\n",
      "#Results\n",
      "print \"The required parabolic dish diameter of earth station antenna is\"\\\n",
      "                                , round(De,1), \"m\"\n",
      "print \"The Half power beamwidth is\", round(hpbw,1), \"degrees\"\n",
      "print \"The beamwidth between first null is\", round(bwfn,1), \"degrees\""
     ],
     "language": "python",
     "metadata": {},
     "outputs": [
      {
       "output_type": "stream",
       "stream": "stdout",
       "text": [
        "The required parabolic dish diameter of earth station antenna is 3.1 m\n",
        "The Half power beamwidth is 1.6 degrees\n",
        "The beamwidth between first null is 3.5 degrees\n"
       ]
      }
     ],
     "prompt_number": 93
    },
    {
     "cell_type": "markdown",
     "metadata": {},
     "source": [
      "<h3>Example 15-20.1, Page number: 568<h3>"
     ]
    },
    {
     "cell_type": "code",
     "collapsed": false,
     "input": [
      "from math import *\n",
      "\n",
      "#Variable declaration\n",
      "Tr = 45     #Satellite receiver temperature (K)\n",
      "rcp_gain = 6    #Right circularly polarized antenna gain (dBi)\n",
      "rcp_quad_gain = 3   #RCP gain of quadrifilar helix antenna (dBi)\n",
      "bandwidth = 9.6e3   #Bandwidth (Hz)\n",
      "snr = 10        #Required Signal-to-Noise ratio (dB)\n",
      "c = 3e8     #Speed of light (m/s)\n",
      "f = 1.65e9  #Frequency (Hz)\n",
      "r = 780e3   #Distance to the satellite (m)\n",
      "Ta = 300    #Antenna temperature (K)\n",
      "k = 1.4e-23 #Boltzmann's constant (J/K)\n",
      "theta = 10  #Zenith angle (degree)\n",
      "Tr_handheld = 75    #Hand held receiver temperature (K)\n",
      "Tsky = 6        #Sky Temperature (K)\n",
      "theta_horz = 80 #Zenith angle for horizontal dipole (degree)\n",
      "\n",
      "#Calculations\n",
      "wave_lt = c/f       #Wavelength (m)\n",
      "Ld = (wave_lt/(4*pi*r))**2 #Spatial loss factor(unitless)\n",
      "Ld_db = 10*log10(Ld)    #Spatial loss factor(dB)\n",
      "\n",
      "Tsys_up = Ta + Tr      #Satellite system temperature (K)\n",
      "N = k*Tsys_up*bandwidth    #Noise power(W)\n",
      "N_db = 10*log10(N)      #Noise power (dB)\n",
      "\n",
      "E_vert = cos(pi*cos(theta*pi/180)/2)/sin(theta*pi/180)\n",
      "        #Pattern factor for vertical lambda/2 dipole (unitless)\n",
      "E_vert_db = 20*log10(E_vert)\n",
      "\n",
      "Pt_vert_up = snr - (2.15 + round(E_vert_db,1) - 3) - \\\n",
      "                        rcp_gain + round(N_db) - round(Ld_db)\n",
      "                #Uplink power for vertical lambda/2 antenna (dB)\n",
      "Pt_vert_up = 10**(Pt_vert_up/10) \n",
      "                #Uplink power for vertical lambda/2 antenna (W)\n",
      "\n",
      "Ta_down = 0.5*(Ta)+0.5*(Tsky)+3   #Downlink antenna temperature (K)\n",
      "Tsys_down = Ta_down + Tr_handheld   #System temperature(K)\n",
      "N_down = k*Tsys_down*bandwidth  #Noise power (W)\n",
      "N_down_db = 10*log10(N_down)    #Noise power (dB)\n",
      "Pt_vert_down = snr -(2.15+ round(E_vert_db,1) - 3) - \\\n",
      "                        rcp_gain + round(N_down_db) - round(Ld_db)\n",
      "                #Downlink power for vertical lambda/2 antenna (dB)\n",
      "Pt_vert_down = 10**(Pt_vert_down/10)\n",
      "                #Downlink power for vertical lambda/2 antenna (W)\n",
      "\n",
      "E_horz = cos(pi*cos(theta_horz*pi/180)/2)/sin(theta_horz*pi/180)\n",
      "        #Pattern factor for horizontal lambda/2 dipole (unitless)\n",
      "E_horz_db = round(20*log10(E_horz),1)\n",
      "Pt_horz_up = snr -(2.15 + E_horz_db - 3) - \\\n",
      "                     rcp_gain + round(N_db) - round(Ld_db)\n",
      "                #Uplink power for horizonal lambda/2 dipole (dB)\n",
      "Pt_horz_up = 10**(Pt_horz_up/10)\n",
      "                #Uplink power for horizonal lambda/2 dipole (W)\n",
      "\n",
      "Pt_horz_down = snr -(2.15 + E_horz_db - 3) - \\\n",
      "                    rcp_gain + round(N_down_db) - round(Ld_db)\n",
      "                #Downlink power for horizonal lambda/2 dipole (dB)\n",
      "Pt_horz_down = 10**(Pt_horz_down/10)\n",
      "                #Downlink power for horizonal lambda/2 dipole (W)\n",
      "\n",
      "Pt_quad_up = snr -(rcp_quad_gain + E_horz_db) - \\\n",
      "                        rcp_gain + round(N_db) - round(Ld_db)\n",
      "                #Uplink power for RCP quadrifilar helix antenna (dB)\n",
      "Pt_quad_up = 10**(Pt_quad_up/10)\n",
      "                #Uplink power for RCP quadrifilar helix antenna (W)\n",
      "\n",
      "Ta_quad = 0.85*(Tsky) + 0.15*(Ta) #Downlink antenna temperature (K)\n",
      "Tsys_quad = Ta_quad + Tr_handheld   #System temperature(K)\n",
      "N_quad = k*Tsys_quad*bandwidth  #Noise power (W)\n",
      "N_quad_db = 10*log10(N_quad)    #Noise power (dB)\n",
      "\n",
      "Pt_quad_down = snr -(rcp_quad_gain + E_horz_db) - \\\n",
      "                        rcp_gain + round(N_quad_db) - round(Ld_db)\n",
      "                #Downlink power for RCP quadrifilar helix antenna (dB)\n",
      "Pt_quad_down = 10**(Pt_quad_down/10)\n",
      "                #Downlink power for RCP quadrifilar helix antenna (W)\n",
      "\n",
      "#Results\n",
      "print \"The Uplink power for vertical lambda/2 dipole is\", round(Pt_vert_up,1),\"W\"\n",
      "print \"The Uplink power for horizontal lambda/2 dipole is\", round(Pt_horz_up,3),\"W\"\n",
      "print \"The Uplink power for RCP quadrifilar helix antenna is\", round(Pt_quad_up,3),\"W\"\n",
      "\n",
      "print \"The downlink power for vertical lambda/2 dipole is\", round(Pt_vert_down,1),\"W\"\n",
      "print \"The downlink power for horizontal lambda/2 dipole is\", round(Pt_horz_down,3),\"W\"\n",
      "print \"The downlink power for RCP quadrifilar helix antenna is\",\\\n",
      "                    round(Pt_quad_down,3),\"W\""
     ],
     "language": "python",
     "metadata": {},
     "outputs": [
      {
       "output_type": "stream",
       "stream": "stdout",
       "text": [
        "The Uplink power for vertical lambda/2 dipole is 25.4 W\n",
        "The Uplink power for horizontal lambda/2 dipole is 0.507 W\n",
        "The Uplink power for RCP quadrifilar helix antenna is 0.209 W\n",
        "The downlink power for vertical lambda/2 dipole is 16.0 W\n",
        "The downlink power for horizontal lambda/2 dipole is 0.32 W\n",
        "The downlink power for RCP quadrifilar helix antenna is 0.066 W\n"
       ]
      }
     ],
     "prompt_number": 94
    },
    {
     "cell_type": "markdown",
     "metadata": {},
     "source": [
      "<h3>Example 15-20.2, Page number: 571<h3>"
     ]
    },
    {
     "cell_type": "code",
     "collapsed": false,
     "input": [
      "from math import *\n",
      "\n",
      "#Variable declaration\n",
      "f = 1.6e9       #Frequency (Hz)\n",
      "r = 1400e3      #Height (m)\n",
      "r_sep = 3500e3    #Height for 10 degree seperation (m)\n",
      "c = 3e8         #Speed of light(m/s)\n",
      "Ta = 300        #Satellite antenna temperature (K)\n",
      "Tr = 45         #Satellite receiver temperature (K)\n",
      "k = 1.3e-23     #Boltzmann's constant (J/K)\n",
      "bandwidth = 9.6e3   #Bandwidth (Hz)\n",
      "snr = 6         #Signal to noise ratio (dB)\n",
      "rcp_gain = 3    #Helix gain(dB)\n",
      "beam_angle = 25 #RCP spot beam (degree)\n",
      "Tsky = 6        #Sky Temperature (K)\n",
      "Tr_handheld = 75    #Hand held receiver temperature (K)\n",
      "\n",
      "\n",
      "#Calculations\n",
      "wave_lt = c/f       #Wavelength (m)\n",
      "Ld = (wave_lt/(4*pi*r))**2  \n",
      "Ld = 10*log10(Ld)       #Propagation loss factor (dB)\n",
      "sat_gain = 40000/(beam_angle**2)\n",
      "sat_gain = 10*log10(sat_gain)   #Satellite gain (dB)\n",
      "\n",
      "Tsys = Ta+Tr        #System temperature (K)\n",
      "N = k*Tsys*bandwidth    #Noise power (W)\n",
      "N_db = 10*log10(N)      #Noise power (dB)\n",
      "\n",
      "Pt_up = snr - (rcp_gain) - (sat_gain) + N_db - Ld   #Uplink power (dB)\n",
      "Pt_up = 10**(Pt_up/10)      #Uplink power (W)\n",
      "\n",
      "Ta_quad = 0.85*(Tsky) + 0.15*(Ta) #Downlink antenna temperature (K)\n",
      "Tsys_quad = Ta_quad + Tr_handheld   #System temperature(K)\n",
      "N_quad = k*Tsys_quad*bandwidth  #Noise power (W)\n",
      "N_quad_db = 10*log10(N_quad)    #Noise power (dB)\n",
      "\n",
      "Pt_down = snr - (rcp_gain) - (sat_gain) + round(N_quad_db) - round(Ld)  \n",
      "                                #Downlink power (dB)\n",
      "Pt_down = 10**(Pt_down/10)      #Downlink power (W)\n",
      "\n",
      "Ld_sep = (wave_lt/(4*pi*r_sep))**2  \n",
      "Ld_sep = 10*log10(Ld_sep)   #Propagation loss factor(dB)\n",
      "\n",
      "Pt_sep = snr - (rcp_gain) - sat_gain + ceil(N_db) - round(Ld_sep)\n",
      "                                #Uplink power (dB)\n",
      "Pt_sep = 10**(Pt_sep/10)        #Uplink power (W)\n",
      "\n",
      "#Results\n",
      "print \"The Satellite gain is\", round(sat_gain,1),\"dB\"\n",
      "print \"The Uplink power required is\", round(Pt_up,3),\"W\"\n",
      "print \"The Downlink power required is\",round(Pt_down,4),\"W\"\n",
      "print \"The uplink power required for 10 deg. from horizon is\",round(Pt_sep,3),\"W\""
     ],
     "language": "python",
     "metadata": {},
     "outputs": [
      {
       "output_type": "stream",
       "stream": "stdout",
       "text": [
        "The Satellite gain is 18.1 dB\n",
        "The Uplink power required is 0.012 W\n",
        "The Downlink power required is 0.0039 W\n",
        "The uplink power required for 10 deg. from horizon is 0.078 W\n"
       ]
      }
     ],
     "prompt_number": 97
    },
    {
     "cell_type": "markdown",
     "metadata": {},
     "source": [
      "<h3>Example 15-20.3, Page number: 572<h3>"
     ]
    },
    {
     "cell_type": "code",
     "collapsed": false,
     "input": [
      "from math import *\n",
      "\n",
      "#Variable declaration\n",
      "f = 30e9        #Frequency (Hz)\n",
      "Tr = 300        #Receiver temperature (K)\n",
      "Ta = 275        #Satellite antenna temperature (K)\n",
      "h = 1400e3      #Height (m)\n",
      "bw = 9.6e3      #Bandwidth per channel (Hz)\n",
      "rcp_gain = 10   #RCP satellite gain (dBi)\n",
      "rain_att = 10   #Rain attenuation (dB)\n",
      "k = 1.4e-23 #Boltzmann's constant (J/K)\n",
      "snr = 10    #Required SNR (dB)\n",
      "ap_eff = 0.7    #Aperture efficiency (unitless)\n",
      "Ta_2 = 10       #Dish antenna temperature (K)\n",
      "\n",
      "#Calculations\n",
      "wave_lt = c/f       #Wavelength (m)\n",
      "Ld = (wave_lt/(4*pi*r))**2 #Spatial loss factor(unitless)\n",
      "Ld_db = 10*log10(Ld)    #Spatial loss factor(dB)\n",
      "Tsys = Ta+Tr        #System temperature (K)\n",
      "\n",
      "N = k*Tsys*bw   #Propagation loss due to rain (W)\n",
      "N = 10*log10(N) #Propagation loss due to rain (dB)\n",
      "\n",
      "Dr = -rcp_gain + snr - Ld_db + N + rain_att #Antenna gain (dB)\n",
      "Dr = 10**(Dr/10)    #Antenna gain (unitless)\n",
      "\n",
      "Dr_req = Dr/ap_eff   #Required antenna gain (unitless)\n",
      "Dr_req_db = 10*log10(Dr_req)   #Required antenna gain (dB)\n",
      "\n",
      "dish_dia = 2*wave_lt*sqrt(Dr_req/28)    #Required diameter of dish (m)\n",
      "\n",
      "hpbw = sqrt(40000/Dr_req)   #Half power beam width (degrees)\n",
      "\n",
      "Tsys2 = Ta_2 + Tr   #System temperature(K)\n",
      "N2 = k*Tsys2*bw     #Propagation loss due to rain(W)\n",
      "N2 = 10*log10(N2)   #Propagation loss due to rain(dB)\n",
      "\n",
      "Pt_db = snr - Dr_req_db - rcp_gain + N2 - Ld_db + rain_att \n",
      "                                    #Transmitted power (dB)\n",
      "Pt = 10**(Pt_db/10)\n",
      "\n",
      "#Results\n",
      "print \"The uplink antenna gain required is\", round(Dr_req_db,0), \"dB\"\n",
      "print \"The required dish size\", round(dish_dia,3), \"m\"\n",
      "print \"The HPBW is\", round(hpbw,1), \"degrees\"\n",
      "print \"The downlink satellite power required is\", round(Pt,3), \"W\""
     ],
     "language": "python",
     "metadata": {},
     "outputs": [
      {
       "output_type": "stream",
       "stream": "stdout",
       "text": [
        "The uplink antenna gain required is 35.0 dB\n",
        "The required dish size 0.221 m\n",
        "The HPBW is 3.4 degrees\n",
        "The downlink satellite power required is 0.377 W\n"
       ]
      }
     ],
     "prompt_number": 102
    },
    {
     "cell_type": "markdown",
     "metadata": {},
     "source": [
      "<h3>Example 15-21.1, Page number: 574</h3>"
     ]
    },
    {
     "cell_type": "code",
     "collapsed": false,
     "input": [
      "from math import pi\n",
      "\n",
      "dia = 1000    #diameter of asteroid (m)\n",
      "prc = 0.4     #Power reflection coefficient of asteroid (unitless)\n",
      "f = 4e9       #Frequency (Hz)\n",
      "P = 1e9       #Power (W)\n",
      "s = 20e3      #Asteroid speed (m/s)\n",
      "ast_dis = 0.4    #Distance of asteroid (AU)\n",
      "au = 1.5e11     #Astronomical Unit (m)\n",
      "c = 3e8       #Speed of light (m/s)\n",
      "k = 1.38e-23    #Boltzmann's constant (m^2 kg s^-2 K^-1)\n",
      "Tsys = 10      #System temperature (K)\n",
      "B = 1e6     #Bandwidth (Hz)\n",
      "snr = 10    #Signal to noise ratio (dB)\n",
      "eap = 0.75    #Aperture efficiency (unitless)\n",
      "\n",
      "sigma = prc*pi*s**2    #Radar cross section (m^2)\n",
      "ast_dm = au*ast_dis    #Astroid distance (m)\n",
      "lmda = c/f     #Wavelength(m)\n",
      "\n",
      "d4 = (64*(lmda**2)*(ast_dm**4)*k*Tsys*B*snr)/((eap**2)*pi*(sigma)*P)\n",
      "d = d4**(0.25)    #Diameter of dish (m)\n",
      "\n",
      "delf = 2*s/lmda    #Doppler shift (Hz)\n",
      "delt = 2*(ast_dm)/c    #Time delay (s)\n",
      "\n",
      "timp = ast_dm/s    #Time before impact (s) \n",
      "\n",
      "\n",
      "#Result\n",
      "print \"The diameter of the dish is\", round(d), \"m\"\n",
      "print \"The doppler shift is %.1f Hz\" % delf\n",
      "print \"The time delay for the radar signal is\", delt, \"s\"\n",
      "print \"The time before impact is\", timp, \"s\""
     ],
     "language": "python",
     "metadata": {},
     "outputs": [
      {
       "output_type": "stream",
       "stream": "stdout",
       "text": [
        "The diameter of the dish is 292.0 m\n",
        "The doppler shift is 533333.3 Hz\n",
        "The time delay for the radar signal is 400.0 s\n",
        "The time before impact is 3000000.0 s\n"
       ]
      }
     ],
     "prompt_number": 153
    },
    {
     "cell_type": "markdown",
     "metadata": {},
     "source": [
      "<h3>Example 15-26.1, Page number: 584<h3>"
     ]
    },
    {
     "cell_type": "code",
     "collapsed": false,
     "input": [
      "from math import sqrt\n",
      "\n",
      "#Variable declaration\n",
      "t1 = 0.3e-9     #Echo time off the top of pavement (s)\n",
      "t2 = 2.4e-9     #Echo time off bottom of pavement (s)\n",
      "t3 = 14.4e-9    #Echo time off bottom of water pocket (s)\n",
      "er_1 = 4        #Relative permittivity of pavement (unitless)\n",
      "er_2 = 81       #Relative permittivity of water pocket (unitless)\n",
      "c = 3e8         #Speed of light (m/s)\n",
      "\n",
      "#Calculations\n",
      "d1 = (t2-t1)*c/(2*sqrt(er_1))\n",
      "d2 = (t3-t2)*c/(2*sqrt(er_2))\n",
      "\n",
      "#Result\n",
      "print \"The thickness of pavement is\", round(d1,2),\"m\"\n",
      "print \"The thickness of water pocket is\", round(d2,2), \"m\""
     ],
     "language": "python",
     "metadata": {},
     "outputs": [
      {
       "output_type": "stream",
       "stream": "stdout",
       "text": [
        "The thickness of pavement is 0.16 m\n",
        "The thickness of water pocket is 0.2 m\n"
       ]
      }
     ],
     "prompt_number": 104
    }
   ],
   "metadata": {}
  }
 ]
}