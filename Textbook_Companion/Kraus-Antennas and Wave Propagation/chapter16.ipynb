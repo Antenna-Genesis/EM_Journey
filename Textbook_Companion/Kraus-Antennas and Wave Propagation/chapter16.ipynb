{
 "metadata": {
  "name": ""
 },
 "nbformat": 3,
 "nbformat_minor": 0,
 "worksheets": [
  {
   "cells": [
    {
     "cell_type": "markdown",
     "metadata": {},
     "source": [
      "<h1>Chapter 16: Practical Design Considerations of Large Aperture Antennas<h1>"
     ]
    },
    {
     "cell_type": "markdown",
     "metadata": {},
     "source": [
      "<h3>Example 16-2.1, Page number: 608<h3>"
     ]
    },
    {
     "cell_type": "code",
     "collapsed": false,
     "input": [
      "from math import cos, pi, log10\n",
      "\n",
      "#Variable declaration\n",
      "delta = 1/20.0        #rms deviation (lambda)\n",
      "\n",
      "#Calculations\n",
      "del_phi = 4*pi*delta*180/pi #Phase error (degrees)\n",
      "kg = cos(del_phi*pi/180)**2        #Gain-loss (unitless)\n",
      "kg = 10*log10(kg)           #Gain-loss (dB)\n",
      "\n",
      "#Result\n",
      "print \"The gain reduction is\", round(abs(kg),1), \"dB\""
     ],
     "language": "python",
     "metadata": {},
     "outputs": [
      {
       "output_type": "stream",
       "stream": "stdout",
       "text": [
        " The gain reduction is 1.8 dB\n"
       ]
      }
     ],
     "prompt_number": 2
    },
    {
     "cell_type": "markdown",
     "metadata": {},
     "source": [
      "<h3>Example 16-2.2, Page number: 609<h3>"
     ]
    },
    {
     "cell_type": "code",
     "collapsed": false,
     "input": [
      "from math import tan,pi, log10\n",
      "\n",
      "#Variable declaration\n",
      "del_phi = 36.0    #rms phase error (degrees)\n",
      "n_irr = 100.0     #Number of irregularities\n",
      "\n",
      "#Calculations\n",
      "max_side = tan(del_phi*pi/180)**2\n",
      "max_side = -10*log10(max_side)\n",
      "            #Maximum side-lobe level (dB)\n",
      "ran_side = (1/n_irr)*tan(del_phi*pi/180)**2\n",
      "ran_side = -10*log10(ran_side)\n",
      "            #Random side-lobe level (dB)\n",
      "\n",
      "#Result\n",
      "print \"The maximum side lobe level from main lobe is\", round(max_side,1),\"dB\"\n",
      "print \"The random side lobe level from main lobe is\", round(ran_side,1),\"dB\""
     ],
     "language": "python",
     "metadata": {},
     "outputs": [
      {
       "output_type": "stream",
       "stream": "stdout",
       "text": [
        "The maximum side lobe level from main lobe is 2.8 dB\n",
        "The random side lobe level from main lobe is 22.8 dB\n"
       ]
      }
     ],
     "prompt_number": 4
    }
   ],
   "metadata": {}
  }
 ]
}