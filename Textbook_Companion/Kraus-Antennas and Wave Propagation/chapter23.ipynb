{
 "metadata": {
  "name": ""
 },
 "nbformat": 3,
 "nbformat_minor": 0,
 "worksheets": [
  {
   "cells": [
    {
     "cell_type": "markdown",
     "metadata": {},
     "source": [
      "<h1>Chapter 23: Ground Wave Propagation<h1>"
     ]
    },
    {
     "cell_type": "markdown",
     "metadata": {},
     "source": [
      "<h3>Example 23-1.1, Page number: 783<h3>"
     ]
    },
    {
     "cell_type": "code",
     "collapsed": false,
     "input": [
      "#Variable declaration\n",
      "f1 = 0.1      #Frequency (MHz)\n",
      "f2 = 1.0        #Frequency (MHz)\n",
      "f3 = 10.0       #Frequency (MHz)\n",
      "\n",
      "#Calculations\n",
      "d1 = 50/(f1**(1.0/3)) #Distance for f1 (miles)\n",
      "d2 = 50/(f2**(1.0/3)) #Distance for f2 (miles)\n",
      "d3 = 50/(f3**(1.0/3)) #Distance for f3 (miles)\n",
      "\n",
      "#Result\n",
      "print \"The distance for 100kHz is\", round(d1,2), \"miles\"\n",
      "print \"The distance for 1MHz is\", d2, \"miles\"\n",
      "print \"The distance for 10MHz is\", round(d3,2), \"miles\""
     ],
     "language": "python",
     "metadata": {},
     "outputs": [
      {
       "output_type": "stream",
       "stream": "stdout",
       "text": [
        "The distance for 100kHz is 107.72 miles\n",
        "The distance for 1MHz is 50.0 miles\n",
        "The distance for 10MHz is 23.21 miles\n"
       ]
      }
     ],
     "prompt_number": 1
    },
    {
     "cell_type": "markdown",
     "metadata": {},
     "source": [
      "<h3>Example 23-2.1, Page number: 786<h3>"
     ]
    },
    {
     "cell_type": "code",
     "collapsed": false,
     "input": [
      "from math import pi,sin\n",
      "\n",
      "#Variable declaration\n",
      "f = 3e6     #Frequency (Hz)\n",
      "sigma = 0.5     #Standard deviation of surface irregularities (unitless)\n",
      "theta = 30      #Angle of incidence as measured from normal angle (degrees)\n",
      "c = 3e8     #Speed of light (m/s)\n",
      "\n",
      "#Calculations\n",
      "wave_lt = c/f   #Wavelength (m)\n",
      "R = 4*pi*sigma*sin(theta*pi/180)/wave_lt\n",
      "                #Roughness factor (unitless)\n",
      "\n",
      "#Result\n",
      "print \"The roughness factor is\", round(R,9)"
     ],
     "language": "python",
     "metadata": {},
     "outputs": [
      {
       "output_type": "stream",
       "stream": "stdout",
       "text": [
        "The roughness factor is 0.031415927\n"
       ]
      }
     ],
     "prompt_number": 2
    },
    {
     "cell_type": "markdown",
     "metadata": {},
     "source": [
      "<h3>Example 23-2.2, Page number: 786<h3>"
     ]
    },
    {
     "cell_type": "code",
     "collapsed": false,
     "input": [
      "from math import pi,sin\n",
      "\n",
      "#Variable declaration\n",
      "f = 10e6        #Frequency (Hz)\n",
      "sigma = 5       #Standard deviation of surface irregularities (unitless)\n",
      "theta1 = 30      #Angle of incidence as measured from normal angle (degrees)\n",
      "theta2 = 45      #Angle of incidence as measured from normal angle (degrees)\n",
      "theta3 = 60      #Angle of incidence as measured from normal angle (degrees)\n",
      "c = 3e8         #Speed of light (m/s)\n",
      "\n",
      "#Calculations\n",
      "wave_lt = c/f       #Wavelength (m)\n",
      "R1 = 4*pi*sigma*sin(theta1*pi/180)/wave_lt  \n",
      "            #Roughness factor for theta1 (unitless)\n",
      "R2 = 4*pi*sigma*sin(theta2*pi/180)/wave_lt\n",
      "            #Roughness factor for theta2 (unitless)\n",
      "R3 = 4*pi*sigma*sin(theta3*pi/180)/wave_lt\n",
      "            #Roughness factor for theta3 (unitless)\n",
      "\n",
      "#Result\n",
      "print \"The roughness factor for 30 degrees is\", round(R1,4)\n",
      "print \"The roughness factor for 45 degrees is\", round(R2,3)\n",
      "print \"The roughness factor for 60 degrees is\", round(R3,4)"
     ],
     "language": "python",
     "metadata": {},
     "outputs": [
      {
       "output_type": "stream",
       "stream": "stdout",
       "text": [
        "The roughness factor for 30 degrees is 1.0472\n",
        "The roughness factor for 45 degrees is 1.481\n",
        "The roughness factor for 60 degrees is 1.8138\n"
       ]
      }
     ],
     "prompt_number": 4
    },
    {
     "cell_type": "markdown",
     "metadata": {},
     "source": [
      "<h3>Example 23-2.3, Page number: 787<h3>"
     ]
    },
    {
     "cell_type": "code",
     "collapsed": false,
     "input": [
      "#Variable declaration\n",
      "f1 = 0.3      #Frequency (MHz)\n",
      "f2 = 1      #Frequency (MHz)\n",
      "f3 = 3      #Frequency (MHz)\n",
      "sigma = 4e-5    #Standard deviation of surface irregularities (unitless)\n",
      "\n",
      "#Calculations\n",
      "x1 = (18e3)*sigma/f1    #Parameter x for f1 (unitless)\n",
      "x2 = (18e3)*sigma/f2    #Parameter x for f2 (unitless)\n",
      "x3 = (18e3)*sigma/f3    #Parameter x for f3 (unitless)\n",
      "\n",
      "#Result\n",
      "print \"The parameter x for 0.3MHz is\", x1\n",
      "print \"The parameter x for 1MHz is\", x2\n",
      "print \"The parameter x for 3MHz is\", x3"
     ],
     "language": "python",
     "metadata": {},
     "outputs": [
      {
       "output_type": "stream",
       "stream": "stdout",
       "text": [
        "The parameter x for 0.3MHz is 2.4\n",
        "The parameter x for 1MHz is 0.72\n",
        "The parameter x for 3MHz is 0.24\n"
       ]
      }
     ],
     "prompt_number": 13
    },
    {
     "cell_type": "markdown",
     "metadata": {},
     "source": [
      "<h3>Example 23-5.1, Page number: 790<h3>"
     ]
    },
    {
     "cell_type": "code",
     "collapsed": false,
     "input": [
      "from math import pi, sqrt\n",
      "\n",
      "#Variable declaration\n",
      "f1 = 5e3        #Frequency (Hz)\n",
      "f2 = 50e3        #Frequency (Hz)\n",
      "f3 = 500e3        #Frequency (Hz)\n",
      "sigma = 5e-5    #Standard deviation of surface irregularities (unitless)\n",
      "eps_r = 15.0      #Relative permittivity (unitless)\n",
      "mu = pi*4e-7    #Absolute Permeability (H/m)\n",
      "\n",
      "#Calculations\n",
      "w1 = 2*pi*f1    #Angular frequency (rad/s)\n",
      "w2 = 2*pi*f2    #Angular frequency (rad/s)\n",
      "w3 = 2*pi*f3    #Angular frequency (rad/s)\n",
      "\n",
      "\n",
      "Zs1 = sqrt((w1*mu)/sqrt(sigma**2 + (w1**2)*eps_r))\n",
      "                #Surface impedence for f1 (ohm)\n",
      "Zs2 = sqrt((w2*mu)/sqrt(sigma**2 + (w2**2)*eps_r))\n",
      "                #Surface impedence for f2 (ohm)\n",
      "Zs3 = sqrt((w3*mu)/sqrt(sigma**2 + (w3**2)*eps_r))\n",
      "                #Surface impedence for f3 (ohm)\n",
      "\n",
      "#Result\n",
      "print \"The surface impedence for 5kHz is\", round(Zs1,5), \"ohms\"\n",
      "print \"The surface impedence for 50kHz is\", round(Zs2,5), \"ohms\"\n",
      "print \"The surface impedence for 500kHz is\", round(Zs3,5), \"ohms\"\n",
      "\n",
      "#There has been a numerical mistake in the calculation/substitution of square root of\n",
      "#(sigma**2 + (w1**2)*eps_r) and in the second case, the mistake in the calculation of\n",
      "#(w2*mu)/sqrt(sigma**2 + (w2**2)*eps_r)"
     ],
     "language": "python",
     "metadata": {},
     "outputs": [
      {
       "output_type": "stream",
       "stream": "stdout",
       "text": [
        "The surface impedence for 5kHz is 0.00057 ohms\n",
        "The surface impedence for 50kHz is 0.00057 ohms\n",
        "The surface impedence for 500kHz is 0.00057 ohms\n"
       ]
      }
     ],
     "prompt_number": 24
    },
    {
     "cell_type": "markdown",
     "metadata": {},
     "source": [
      "<h3>Example 23-7.1, Page number: 793<h3>"
     ]
    },
    {
     "cell_type": "code",
     "collapsed": false,
     "input": [
      "from math import pi, atan, cos\n",
      "\n",
      "#Variable declaration\n",
      "f = 2.0       #Frequency (MHz)\n",
      "sigma = 5e-5    #Standard deviation of surface irregularities (unitless)\n",
      "eps_r = 15.0      #Relative permittivity (unitless)\n",
      "d = 20e3        #Distance (m)\n",
      "eff = 0.5       #Antenna efficiency (unitless)\n",
      "c = 3e8         #Speed of light (m/s)\n",
      "E1 = 0.5e-3     #Ground wave electric field strength (V/m)\n",
      "\n",
      "#Calculations\n",
      "wave_lt = c/(f*10**6)       #Wavelength (m)\n",
      "x = (18e3)*sigma/f  #Parameter x (unitless)\n",
      "\n",
      "b = atan((eps_r + 1)/x)     #Phase constant (unitless)\n",
      "\n",
      "p = (pi/x)*(d/wave_lt)*cos(b)    #Numerical distance (unitless)\n",
      "\n",
      "A = (2 + 0.3*p)/(2 + p + 0.6*(p**2))    #Reduction factor (unitless)\n",
      "\n",
      "E_t = E1 * d/A\n",
      "\n",
      "#Result\n",
      "print \"The Electric field strength at the transmitted end is\", round(E_t,2),\"V/m\""
     ],
     "language": "python",
     "metadata": {},
     "outputs": [
      {
       "output_type": "stream",
       "stream": "stdout",
       "text": [
        "The Electric field strength at the transmitted end is 445.72 V/m\n"
       ]
      }
     ],
     "prompt_number": 25
    }
   ],
   "metadata": {}
  }
 ]
}