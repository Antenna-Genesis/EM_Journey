{
 "metadata": {
  "name": ""
 },
 "nbformat": 3,
 "nbformat_minor": 0,
 "worksheets": [
  {
   "cells": [
    {
     "cell_type": "markdown",
     "metadata": {},
     "source": [
      "<h1>Chapter 9: Reflector Antennas<h1>"
     ]
    },
    {
     "cell_type": "markdown",
     "metadata": {},
     "source": [
      "<h3>Example 9-2.1, Page number: 372<h3>"
     ]
    },
    {
     "cell_type": "code",
     "collapsed": false,
     "input": [
      "from math import pi,sqrt\n",
      "\n",
      "#Variable declaration\n",
      "P_transmit = 25000.0      #Power transmitted by station transmitter (W)\n",
      "gain_dbi = 29.0           #Gain of array (dBi)\n",
      "r = 7500e3                #Distance (m)\n",
      "h = 250e3                 #Height (m)\n",
      "z = 377.0                 #Intrinsic impedence of free space (ohm)\n",
      "\n",
      "#Calculation\n",
      "gain = 10**(gain_dbi/10)    #Gain of array (unitless)\n",
      "erp = gain*P_transmit       #Effective radiated power (W)\n",
      "p_area = erp/(2*pi*r*h)     #power per unit area at distance r (W/m^2)\n",
      "field_str = sqrt(p_area*z)    #Field strength (mV/m)\n",
      "\n",
      "#Result\n",
      "print \"The effective radiated power is\", round(erp,-5),\"W\"\n",
      "print \"The field strength at the distance r is \",round(field_str,3), \"V/m^2\""
     ],
     "language": "python",
     "metadata": {},
     "outputs": [
      {
       "output_type": "stream",
       "stream": "stdout",
       "text": [
        "The effective radiated power is 19900000.0 W\n",
        "The field strength at the distance r is  0.025 V/m^2\n"
       ]
      }
     ],
     "prompt_number": 1
    }
   ],
   "metadata": {}
  }
 ]
}