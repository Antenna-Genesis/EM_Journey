{
 "metadata": {
  "name": ""
 },
 "nbformat": 3,
 "nbformat_minor": 0,
 "worksheets": [
  {
   "cells": [
    {
     "cell_type": "markdown",
     "metadata": {},
     "source": [
      "<h1>Chapter 19: The Fourier Transform Relation between Aperture Distribution and Far-field Pattern<h1>"
     ]
    },
    {
     "cell_type": "markdown",
     "metadata": {},
     "source": [
      "<h3>Example 19-8.1, Page number: 690<h3>"
     ]
    },
    {
     "cell_type": "code",
     "collapsed": false,
     "input": [
      "from math import sin, pi\n",
      "\n",
      "#Variable declaration\n",
      "gal_ext = 400000        #Extent of galaxy (light-years)\n",
      "alpha = 0.032           #Extent of galaxy (degrees)\n",
      "f = 5e9                 #Frequency (Hz)\n",
      "a = 36e3                #Maximum VLA Spacing (m)\n",
      "c = 3e8                 #Speed of light (m/s)\n",
      "wid = 0.03             #Width of image (degrees)\n",
      "hei = 0.008              #Height of image (degrees)\n",
      "flux_den = 2.5e-23      #Average flux density (W/m^2)\n",
      "bw = 1e9                #Bandwidth (Hz)\n",
      "\n",
      "#Calculations\n",
      "dist = gal_ext/sin(alpha*pi/180)    #Distance to the galaxy (light-years)\n",
      "dist_m = dist*(365*24*3600*c)\n",
      "\n",
      "wave_lt = c/f       #Wavelength (m)\n",
      "a_lambda = a/wave_lt    #Spacing in wavelength  (unitless)\n",
      "pix_size = 51/a_lambda  #Resolution or Pixel size (degrees)\n",
      "pix_size_arc = pix_size*3600    #Pixel size (arc seconds)\n",
      "\n",
      "area = wid*hei      #Area of image (square degrees)\n",
      "area_arc = area*(3600**2)    #Area of image (arc seconds)\n",
      "num_pix = area_arc/pix_size_arc**2  #Number of pixels\n",
      "\n",
      "rad_pow = flux_den*4*pi*(dist_m**2)*bw\n",
      "\n",
      "#Result\n",
      "print \"The distance to the galaxy is\", round(dist,-8), \"light years\"\n",
      "print \"The resolution or pixel size is\", round(pix_size_arc,2), \"arc seconds\"\n",
      "print \"The number of pixels is\", round(num_pix)\n",
      "print \"The radio power of the galaxy is %.1e W\" % rad_pow"
     ],
     "language": "python",
     "metadata": {},
     "outputs": [
      {
       "output_type": "stream",
       "stream": "stdout",
       "text": [
        "The distance to the galaxy is 700000000.0 light years\n",
        "The resolution or pixel size is 0.31 arc seconds\n",
        "The number of pixels is 33218.0\n",
        "The radio power of the galaxy is 1.4e+37 W\n"
       ]
      }
     ],
     "prompt_number": 17
    },
    {
     "cell_type": "markdown",
     "metadata": {},
     "source": [
      "<h3>Example 19-8.2, Page number:691<h3>"
     ]
    },
    {
     "cell_type": "code",
     "collapsed": false,
     "input": [
      "from math import pi, log10\n",
      "\n",
      "#Variable declaration\n",
      "f = 10e9    #Frequency (Hz)\n",
      "c = 3e8     #Speed of light (m/s)\n",
      "dia = 100   #Dish diameter (m)\n",
      "aper_eff = 0.725    #Aperture efficiency (unitless)\n",
      "\n",
      "#Calculation\n",
      "wave_lt = c/f       #Wavelength (m)\n",
      "hpbw = 66/(dia/wave_lt) #Half power beam width (degrees)\n",
      "\n",
      "gain = 41000/(hpbw**2)  #Gain from beamwidth (unitless)\n",
      "gain_db = 10*log10(gain)    #Gain from beamwidth (dBi)\n",
      "\n",
      "gain_ap = 4*(pi**2)*(dia/2)**2*(aper_eff)/(wave_lt**2)  \n",
      "                #Gain from effective aperture(unitless)\n",
      "gain_ap_db = 10*log10(gain_ap)  #Gain from effective aperture (dBi)\n",
      "\n",
      "side_lobe = -23     #First side lobe level from table (dB)\n",
      "\n",
      "#Result\n",
      "print \"The Half Power Beamwidth is\", round(hpbw,3), \"degrees\"\n",
      "print \"The gain from beamwidth is\", round(gain_db), \"dBi\"\n",
      "print \"The gain from effective aperture is\", round(gain_ap_db), \"dBi\"\n",
      "print \"The first side-lobe level is\", side_lobe,\"dB\""
     ],
     "language": "python",
     "metadata": {},
     "outputs": [
      {
       "output_type": "stream",
       "stream": "stdout",
       "text": [
        "The Half Power Beamwidth is 0.02 degrees\n",
        "The gain from beamwidth is 80.0 dBi\n",
        "The gain from effective aperture is 79.0 dBi\n",
        "The first side-lobe level is -23 dB\n"
       ]
      }
     ],
     "prompt_number": 19
    }
   ],
   "metadata": {}
  }
 ]
}