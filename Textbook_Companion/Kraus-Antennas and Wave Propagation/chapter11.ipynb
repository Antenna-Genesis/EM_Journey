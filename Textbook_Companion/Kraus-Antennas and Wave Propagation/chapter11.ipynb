{
 "metadata": {
  "name": ""
 },
 "nbformat": 3,
 "nbformat_minor": 0,
 "worksheets": [
  {
   "cells": [
    {
     "cell_type": "markdown",
     "metadata": {},
     "source": [
      "<h1>Chapter 11: Broadband and Frequency-Independent Antennas<h1>"
     ]
    },
    {
     "cell_type": "markdown",
     "metadata": {},
     "source": [
      "<h3>Example 11-1.1, Page number: 423<h3>"
     ]
    },
    {
     "cell_type": "code",
     "collapsed": false,
     "input": [
      "#Variable declaration\n",
      "d = 4       #spacing (mm)\n",
      "D = 100     #distance between the openings (mm)\n",
      "\n",
      "#Calculation\n",
      "lambda_short = 10*d     #Shortest wavelength (mm)\n",
      "lambda_long = 2*D       #Longest wavelength (mm)\n",
      "bandwidth = lambda_long/lambda_short    #Bandwidth (unitless)\n",
      "\n",
      "#Result\n",
      "print \"The approximate bandwidth is\", bandwidth,\"to 1\""
     ],
     "language": "python",
     "metadata": {},
     "outputs": [
      {
       "output_type": "stream",
       "stream": "stdout",
       "text": [
        "The approximate bandwidth is 5 to 1\n"
       ]
      }
     ],
     "prompt_number": 1
    },
    {
     "cell_type": "markdown",
     "metadata": {},
     "source": [
      "<h3>Example 11-7.1, Page number: 438<h3>"
     ]
    },
    {
     "cell_type": "code",
     "collapsed": false,
     "input": [
      "from math import atan,pi,log\n",
      "\n",
      "#Variable declaration\n",
      "gain_dbi = 7.0        #Gain (dBi)\n",
      "bandwidth = 4          #Relative bandwidth (unitless)\n",
      "s_lambda = 0.15       #Spacing (lambda)\n",
      "k = 1.2               #Scale constant (unitless)\n",
      "\n",
      "#Calculation\n",
      "alpha = atan((1-1/k)/(4*s_lambda))*180/pi   #Apex angle (degrees)\n",
      "n = round(log(bandwidth)/log(k))    #Number of elements(unitless)\n",
      "n += 1\n",
      "n += 2      #Number of elements considering conservative design (unitless)\n",
      "\n",
      "#Result\n",
      "print \"The apex angle is\", round(alpha,1), \"degrees\"\n",
      "print \"The number of elements is\", n"
     ],
     "language": "python",
     "metadata": {},
     "outputs": [
      {
       "output_type": "stream",
       "stream": "stdout",
       "text": [
        "The apex angle is 15.5 degrees\n",
        "The number of elements is 11.0\n"
       ]
      }
     ],
     "prompt_number": 2
    }
   ],
   "metadata": {}
  }
 ]
}