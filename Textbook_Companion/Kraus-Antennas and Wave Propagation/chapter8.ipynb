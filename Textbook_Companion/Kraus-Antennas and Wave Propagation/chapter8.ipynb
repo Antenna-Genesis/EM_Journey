{
 "metadata": {
  "name": ""
 },
 "nbformat": 3,
 "nbformat_minor": 0,
 "worksheets": [
  {
   "cells": [
    {
     "cell_type": "markdown",
     "metadata": {},
     "source": [
      "<h1>Chapter 8: Helical Antennas<h1>"
     ]
    },
    {
     "cell_type": "markdown",
     "metadata": {},
     "source": [
      "<h3>Example 8-5.1, Page number: 309<h3>"
     ]
    },
    {
     "cell_type": "code",
     "collapsed": false,
     "input": [
      "from math import sqrt\n",
      "\n",
      "#Variable declaration\n",
      "w = 5       #Width of flattened tubing at termination (mm)\n",
      "Er = 2.7    #Relative permittivity of the sheet\n",
      "Z0 = 50     #Characteristic impdence of the sheet\n",
      "\n",
      "#Calculation\n",
      "h = w/((377/(sqrt(Er)*Z0))-2)\n",
      "\n",
      "#Result\n",
      "print \"The required thickness of the polystyrene sheet is\", round(h,1),\"mm\""
     ],
     "language": "python",
     "metadata": {},
     "outputs": [
      {
       "output_type": "stream",
       "stream": "stdout",
       "text": [
        "The required thickness of the polystyrene sheet is 1.9 mm\n"
       ]
      }
     ],
     "prompt_number": 1
    },
    {
     "cell_type": "markdown",
     "metadata": {},
     "source": [
      "<h3>Example 8-5.2, Page number:315<h3>"
     ]
    },
    {
     "cell_type": "code",
     "collapsed": false,
     "input": [
      "from math import sqrt, log10\n",
      "\n",
      "#Variable declaration\n",
      "n = 16.0        #Number of turns (unitless)\n",
      "C = 1       #Circumference (lambda)\n",
      "S = 0.25        #Turn Spacing (lambda)\n",
      "\n",
      "#Calculation\n",
      "hpbw = 52/(C*sqrt(n*S)) #Half power beamwidth (degrees)\n",
      "ax_rat = (2*n + 1)/(2*n)    #Axial ratio (unitless)\n",
      "gain = 12*(C**2)*n*S        #Gain of antenna (unitless)\n",
      "gain_db = 10*log10(gain)    #Gain of antenna (in dBi)\n",
      "\n",
      "print \"The half power beam width is\", hpbw, \"degrees\"\n",
      "print \"The axial ratio is\", round(ax_rat,2)\n",
      "print \"The gain is\", gain,\"or\",round(gain_db,1),\"dBi\""
     ],
     "language": "python",
     "metadata": {},
     "outputs": [
      {
       "output_type": "stream",
       "stream": "stdout",
       "text": [
        "The half power beam width is 26.0 degrees\n",
        "The axial ratio is 1.03\n",
        "The gain is 48.0 or 16.8 dBi\n"
       ]
      }
     ],
     "prompt_number": 2
    },
    {
     "cell_type": "markdown",
     "metadata": {},
     "source": [
      "<h3>Example 8-5.3, Page number:316<h3>"
     ]
    },
    {
     "cell_type": "code",
     "collapsed": false,
     "input": [
      "from math import pi, sqrt, log10\n",
      "\n",
      "#Variable declaration\n",
      "n = 10.0    #Number of turns (unitless)\n",
      "S = 0.236   #Spacing between turns (lambda)\n",
      "n_a = 4.0   #Number of helical antennas in the array (unitless)\n",
      "\n",
      "#Calculation\n",
      "D = 12*n*S  #Directivity of a single antenna(unitless)\n",
      "Ae = D/(4*pi)   #Effective aperture (lambda^2)\n",
      "\n",
      "A = sqrt(Ae)    #Area of square/spacing between helixes (lambda)\n",
      "Ae_total = Ae*n_a   #Total effective aperture (lambda^2)\n",
      "D_array = (4*pi*Ae_total)   #Directivity of the array (unitless)\n",
      "D_array_db = 10*log10(D_array)  #Direcitivity of the array (dBi)\n",
      "\n",
      "#Result\n",
      "print \"The best spacing between the helixes is\", round(A,1), \"lambda\"\n",
      "print \"The directivity of the array is\", round(D_array),\"or\",round(D_array_db,1),\"dBi\""
     ],
     "language": "python",
     "metadata": {},
     "outputs": [
      {
       "output_type": "stream",
       "stream": "stdout",
       "text": [
        "The best spacing between the helixes is 1.5 lambda\n",
        "The directivity of the array is 113.0 or 20.5 dBi\n"
       ]
      }
     ],
     "prompt_number": 4
    },
    {
     "cell_type": "markdown",
     "metadata": {},
     "source": [
      "<h3>Example 8-16.1, Page number:347<h3>"
     ]
    },
    {
     "cell_type": "code",
     "collapsed": false,
     "input": [
      "from math import pi\n",
      "\n",
      "#Variable declaration\n",
      "gain = 24.0   #Gain (dB)\n",
      "alpha = 12.7    #Pitch angle (degrees)\n",
      "c_lambda = 1.05 #Circumference (lambda)\n",
      "s_lambda = 0.236    #Spacing between turns (lambda)\n",
      "\n",
      "#Calculation\n",
      "D = 10**(gain/10)   #Directivity (unitless)\n",
      "L = D/(12*(c_lambda**2))    #Helix length (lambda)\n",
      "n = L/s_lambda              #Number of turns (unitless)\n",
      "D = D/4             #Directivity for four 20-turn helixes(unitless)\n",
      "Ae = D/(4*pi)       #Effective aperture of each helix (lambda^2)\n",
      "\n",
      "#Result\n",
      "print \"The Axial length is\", round(L),\"lambda\"\n",
      "print \"The number of turns for the axial length is\",round(n)\n",
      "print \"The effective aperture for 20 turns is\",round(Ae),\"lambda^2\""
     ],
     "language": "python",
     "metadata": {},
     "outputs": [
      {
       "output_type": "stream",
       "stream": "stdout",
       "text": [
        "The Axial length is 19.0 lambda\n",
        "The number of turns for the axial length is 80.0\n",
        "The effective aperture for 20 turns is 5.0 lambda^2\n"
       ]
      }
     ],
     "prompt_number": 4
    }
   ],
   "metadata": {}
  }
 ]
}