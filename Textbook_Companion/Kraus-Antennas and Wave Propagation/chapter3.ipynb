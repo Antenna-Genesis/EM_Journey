{
 "metadata": {
  "name": ""
 },
 "nbformat": 3,
 "nbformat_minor": 0,
 "worksheets": [
  {
   "cells": [
    {
     "cell_type": "markdown",
     "metadata": {},
     "source": [
      "<h1>Chapter 3: The Antenna Family<h1>"
     ]
    },
    {
     "cell_type": "markdown",
     "metadata": {},
     "source": [
      "<h3>Example 3-3.2, Page number: 58<h3>"
     ]
    },
    {
     "cell_type": "code",
     "collapsed": false,
     "input": [
      "#Variable declaration\n",
      "Z_0 = 377   #Intrinsic impedence of free space(ohm)\n",
      "Z_d = 710 +0j   #Terminal impedence of dipole cylinder (ohm)\n",
      "\n",
      "#Calculation\n",
      "Z_s = (Z_0**2)/(4*Z_d)  #Terminal impedence of the slot (ohm)\n",
      "\n",
      "#Result\n",
      "print \"The terminal impedence of the slot is\", round(Z_s.real), \"ohms\""
     ],
     "language": "python",
     "metadata": {},
     "outputs": [
      {
       "output_type": "stream",
       "stream": "stdout",
       "text": [
        "The terminal impedence of the slot is 50.0 ohms\n"
       ]
      }
     ],
     "prompt_number": 1
    },
    {
     "cell_type": "markdown",
     "metadata": {},
     "source": [
      "<h3>Example 3-6.1, Page number: 61<h3>"
     ]
    },
    {
     "cell_type": "code",
     "collapsed": false,
     "input": [
      "import math\n",
      "\n",
      "#Variable declaration\n",
      "L = 10              #Horn length (lambda)\n",
      "delta = 0.25        #Path length difference (lambda)\n",
      "\n",
      "#Calculation\n",
      "theta = 2*math.acos(L/(L+delta))    #Horn flare angle (radians)\n",
      "theta = theta*180/math.pi           #Horn flare angle (degrees)\n",
      "\n",
      "\n",
      "#Result\n",
      "print \"The largest flare angle for given delta is\",round(theta,1), \"degrees\""
     ],
     "language": "python",
     "metadata": {},
     "outputs": [
      {
       "output_type": "stream",
       "stream": "stdout",
       "text": [
        "The largest flare angle for given delta is 25.4 degrees\n"
       ]
      }
     ],
     "prompt_number": 2
    },
    {
     "cell_type": "markdown",
     "metadata": {},
     "source": [
      "<h3>Example 3-7.1, Page number: 62<h3>"
     ]
    },
    {
     "cell_type": "code",
     "collapsed": false,
     "input": [
      "import math\n",
      "\n",
      "#Variable declaration\n",
      "f = 599e6     #Frequency of TV Station (Hz)\n",
      "E = 1e-6      #Field strength (V/m)\n",
      "D = 20        #Diameter of antenna (m)\n",
      "c = 3e8       #Speed of light (m/s)\n",
      "Z_0 = 377     #Intrinsic impedence of free space (ohm)    \n",
      "\n",
      "#Calculation\n",
      "wave_lt = c/f                       #Wavelength (m)\n",
      "A_e = (D*(wave_lt**2))/(4*math.pi)  #Effective aperture (m^2)\n",
      "P_r = (E**2)*A_e/Z_0                #Received power (W)\n",
      "\n",
      "#Result\n",
      "print \"The received power is\", round(P_r,17), \"W\""
     ],
     "language": "python",
     "metadata": {},
     "outputs": [
      {
       "output_type": "stream",
       "stream": "stdout",
       "text": [
        "The received power is 1.06e-15 W\n"
       ]
      }
     ],
     "prompt_number": 4
    },
    {
     "cell_type": "markdown",
     "metadata": {},
     "source": [
      "<h3>Example 3-11.1, Page number: 66<h3>"
     ]
    },
    {
     "cell_type": "code",
     "collapsed": false,
     "input": [
      "import math\n",
      "\n",
      "#Variable declaration\n",
      "n = 4               #Number of patch antennas (lambda)\n",
      "diameter = 0.5      #diameter of patch antennas (lambda)\n",
      "\n",
      "#Calculation\n",
      "A_e = n*diameter            #Effective aperture (lambda^2)\n",
      "D = (4*math.pi*A_e)         #Directivity (unitless)\n",
      "D_dbi = 10*math.log10(D)    #Directivity (dBi)\n",
      "ohm_a = (4*math.pi)/D       #Beam area (steradians)\n",
      "\n",
      "#Result\n",
      "print \"The directivity is\", round(D), \"or\", round(D_dbi), \"dBi\"\n",
      "print \"The beam area is\", ohm_a, \"sr\""
     ],
     "language": "python",
     "metadata": {},
     "outputs": [
      {
       "output_type": "stream",
       "stream": "stdout",
       "text": [
        "The directivity is 25.0 or 14.0 dBi\n",
        "The beam area is 0.5 sr\n"
       ]
      }
     ],
     "prompt_number": 5
    }
   ],
   "metadata": {}
  }
 ]
}