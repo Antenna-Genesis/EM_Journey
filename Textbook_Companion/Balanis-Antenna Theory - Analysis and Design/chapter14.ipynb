{
 "metadata": {
  "name": "chapter 14.ipynb"
 },
 "nbformat": 3,
 "nbformat_minor": 0,
 "worksheets": [
  {
   "cells": [
    {
     "cell_type": "heading",
     "level": 1,
     "metadata": {},
     "source": [
      "Chapter 14: Microstrip Antennas"
     ]
    },
    {
     "cell_type": "heading",
     "level": 2,
     "metadata": {},
     "source": [
      "Example 14.1, Page no. 820"
     ]
    },
    {
     "cell_type": "code",
     "collapsed": false,
     "input": [
      "import math\n",
      "#Given\n",
      "h=0.1588\n",
      "epsilon=2.2\n",
      "v=3*10**8\n",
      "f=10*10**9\n",
      "\n",
      "W=(float(v)/(2*f))*(math.sqrt(2/(epsilon+1)))\n",
      "W_cm=W*100\n",
      "print \"Width of the patch:\",W_cm,\"cm\"\n",
      "\n",
      "epsilon_eff=((epsilon+1)/2.0)+((epsilon-1)/2.0)*(1.0+12.0*h/W)**(-0.5)\n",
      "print \"Effective dielectric constant:\",epsilon_eff\n",
      "\n",
      "delta_L=(h*0.412*(epsilon_eff+0.3)*((W/h)+0.264))/((epsilon_eff-0.258)*((W/h)+0.8))\n",
      "print \"Extended incremental length of the patch:\",delta_L,\"cm\"\n",
      "\n",
      "lamda=v*100/f\n",
      "L=(lamda/2)-(2*delta_L)\n",
      "print \"Actual length of patch:\",L,\"cm\"\n",
      "\n",
      "L_e=L+2*delta_L\n",
      "print \"Effective length of the patch:\",L_e,\"cm\""
     ],
     "language": "python",
     "metadata": {},
     "outputs": [
      {
       "output_type": "stream",
       "stream": "stdout",
       "text": [
        "Width of the patch: 1.18585412256 cm\n",
        "Effective dielectric constant: 1.64718499279\n",
        "Extended incremental length of the patch: 0.0355084748459 cm\n",
        "Actual length of patch: 0.928983050308 cm\n",
        "Effective length of the patch: 1.0 cm\n"
       ]
      }
     ],
     "prompt_number": 12
    },
    {
     "cell_type": "heading",
     "level": 2,
     "metadata": {},
     "source": [
      "Example 14.2, Page No. 825"
     ]
    },
    {
     "cell_type": "code",
     "collapsed": false,
     "input": [
      "import scipy.integrate\n",
      "import math\n",
      "def S_i(a):\n",
      "    temp=scipy.integrate.quad(lambda x:sin(x)/x,0,a)\n",
      "    return temp[0]\n",
      "\n",
      "def J0(s):\n",
      "    temp=scipy.integrate.quad(lambda x:cos(s*sin(x)),0,pi)\n",
      "    temp=(1/pi)*temp[0]\n",
      "    return temp\n",
      "    \n",
      "\n",
      "#Given\n",
      "v=3*10**10\n",
      "f=10*10**9\n",
      "L=0.906\n",
      "W=1.186\n",
      "h=0.1588\n",
      "epsilon=2.2\n",
      "\n",
      "lamda_0=v/f\n",
      "k0=(2*pi)/lamda_0\n",
      "X=k0*W\n",
      "I1=-2+cos(X)+X*S_i(X)+sin(X)/X\n",
      "G1=I1/(120*pi**2)\n",
      "\n",
      "temp=scipy.integrate.quad(lambda x:(((sin(k0*W*cos(x)/2)/cos(x))**2)*J0(k0*L*sin(x))*sin(x)**3),0,pi)\n",
      "G12=(1/(120*pi**2))*temp[0]\n",
      "\n",
      "Rin=1/(2*(G1+G12))\n",
      "print \"Input Impedance:\",Rin,\"ohms\"\n",
      "\n",
      "R=50.0\n",
      "y0=(L/pi)*(math.acos(sqrt(R/Rin)))\n",
      "print \"The position of the inset feed point where input impedance is 50 ohms:\",y0,\"cm\""
     ],
     "language": "python",
     "metadata": {},
     "outputs": [
      {
       "output_type": "stream",
       "stream": "stdout",
       "text": [
        "1.86272719218\n",
        "Input Impedance: 228.350793292 ohms\n",
        "The position of the inset feed point where input impedance is 50 ohms: 0.312568937286 cm\n"
       ]
      }
     ],
     "prompt_number": 26
    },
    {
     "cell_type": "heading",
     "level": 2,
     "metadata": {},
     "source": [
      "Example 14.3, Page no. 843"
     ]
    },
    {
     "cell_type": "code",
     "collapsed": false,
     "input": [
      "#All these values are taken or calculated from the previous examples\n",
      "lamda=50.0\n",
      "v=3*10**10\n",
      "f=10*10**9\n",
      "L=0.906\n",
      "W=1.186\n",
      "h=0.1588\n",
      "epsilon=2.2\n",
      "lamda_0=v/f\n",
      "G1=0.00157\n",
      "G12=0.00061683\n",
      "I1=1.863\n",
      "\n",
      "g_12=G12/G1\n",
      "D_AF=2/(1+g_12)\n",
      "D0=((2*pi*W)/lamda_0)**2*(1/I1)\n",
      "D2=D0*D_AF\n",
      "print \"Directivity:\",10*log10(D2),\"dB\"\n",
      "\n",
      "I2=3.59801\n",
      "D_2=((2*pi*W)/lamda_0)**2*(pi/I2)\n",
      "print \"Directivity:\",10*log10(D_2),\"dB\""
     ],
     "language": "python",
     "metadata": {},
     "outputs": [
      {
       "output_type": "stream",
       "stream": "stdout",
       "text": [
        "Directivity: 6.77188375387 dB\n",
        "Directivity: 7.31374111976 dB\n"
       ]
      }
     ],
     "prompt_number": 27
    },
    {
     "cell_type": "heading",
     "level": 2,
     "metadata": {},
     "source": [
      "Example 14.4, Page no. 847"
     ]
    },
    {
     "cell_type": "code",
     "collapsed": false,
     "input": [
      "#given\n",
      "epsilon=2.2\n",
      "h=0.1588\n",
      "fr=10*10**9\n",
      "\n",
      "F=(8.791*10**9)/(fr*sqrt(epsilon))\n",
      "\n",
      "a=F/(1+((2*h)/(pi*epsilon*F))*((log(pi*F/(2*h))+1.7726)))**0.5\n",
      "print \"Actual radius of the microstrip patch antenna: %f cm\"% a"
     ],
     "language": "python",
     "metadata": {},
     "outputs": [
      {
       "output_type": "stream",
       "stream": "stdout",
       "text": [
        "Actual radius of the microstrip patch antenna: 0.524986 cm\n"
       ]
      }
     ],
     "prompt_number": 32
    },
    {
     "cell_type": "heading",
     "level": 2,
     "metadata": {},
     "source": [
      "Example 14.5, Page no. 864"
     ]
    },
    {
     "cell_type": "code",
     "collapsed": false,
     "input": [
      "#given\n",
      "fc=10*10**9\n",
      "h=0.1588\n",
      "frac_bw=0.05\n",
      "VSWR=2\n",
      "\n",
      "Qt=(VSWR-1)/(frac_bw*VSWR**0.5)\n",
      "print \"The total Quality Factor: %f\" % Qt\n",
      "\n",
      "f1=fc/(sqrt(1+(1/Qt)))\n",
      "f2=fc*(sqrt(1+(1/Qt)))\n",
      "\n",
      "print \"The resonant frequencies are : %f GHz, %f GHz\" %(f1/10**9,f2/10**9)\n",
      "\n",
      "rel_ratio=1+1/Qt\n",
      "\n",
      "print \"The relative ratio is %f. Thus the patch is nearly square,\" % rel_ratio"
     ],
     "language": "python",
     "metadata": {},
     "outputs": [
      {
       "output_type": "stream",
       "stream": "stdout",
       "text": [
        "The total Quality Factor: 14.142136\n",
        "The resonant frequencies are : 9.664156 GHz, 10.347515 GHz\n",
        "The relative ratio is 1.070711. Thus the patch is nearly square,\n"
       ]
      }
     ],
     "prompt_number": 34
    }
   ],
   "metadata": {}
  }
 ]
}