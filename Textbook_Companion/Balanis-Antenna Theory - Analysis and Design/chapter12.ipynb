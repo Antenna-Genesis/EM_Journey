{
 "metadata": {
  "name": "chapter 12.ipynb"
 },
 "nbformat": 3,
 "nbformat_minor": 0,
 "worksheets": [
  {
   "cells": [
    {
     "cell_type": "heading",
     "level": 1,
     "metadata": {},
     "source": [
      "Chapter 12: Aperture Antennas"
     ]
    },
    {
     "cell_type": "heading",
     "level": 2,
     "metadata": {},
     "source": [
      "Example 12.2, Page no. 675"
     ]
    },
    {
     "cell_type": "code",
     "collapsed": false,
     "input": [
      "import math\n",
      "#Assume lamda = 50\n",
      "lamda=50.0\n",
      "a=3*lamda\n",
      "b=2*lamda\n",
      "n=1\n",
      "\n",
      "theta_1=114.6*(math.asin(n*lamda/b))\n",
      "print \"First Null Beamwidth:\",theta_1,\"deg\"\n",
      "\n",
      "theta_h=114.6*math.asin(0.443*lamda/b)\n",
      "print \"Half-power beamwidth:\",theta_h,\"deg\"\n",
      "\n",
      "theta_s=114.6*math.asin(1.43*lamda/b)\n",
      "print \"First Sidelobe Beamwidth:\",theta_s,\"deg\"\n",
      "\n",
      "E_s=0.217\n",
      "print \"Maximum of first side lobe:\",20*log10(E_s),\"dB\"\n",
      "\n",
      "D0=4*pi*a*b/lamda**2\n",
      "print \"Maximum directivity:\",10*log10(D0),\"dB\""
     ],
     "language": "python",
     "metadata": {},
     "outputs": [
      {
       "output_type": "stream",
       "stream": "stdout",
       "text": [
        "First Null Beamwidth: 60.0044196836 deg\n",
        "Half-power beamwidth: 25.5961863013 deg\n",
        "First Sidelobe Beamwidth: 91.2931226067 deg\n",
        "Maximum of first side lobe: -13.270805323\n",
        "Maximum directivity: 18.7736111441 dB\n"
       ]
      }
     ],
     "prompt_number": 9
    },
    {
     "cell_type": "heading",
     "level": 2,
     "metadata": {},
     "source": [
      "Example 12.4, Page no. 683"
     ]
    },
    {
     "cell_type": "code",
     "collapsed": false,
     "input": [
      "#Given \n",
      "lamda=50.0\n",
      "\n",
      "#For a=b=20*lamda\n",
      "print \"For a=b=20*lamda, the efficiency for the uniform aperture is 94%.\"\n",
      "\n",
      "a=b=3*lamda\n",
      "k=2*pi/lamda\n",
      "theta1=10*pi/180\n",
      "u=(k*a/2)*sin(theta1)\n",
      "\n",
      "print \"For u = %f, the efficiency is 58.\"%u"
     ],
     "language": "python",
     "metadata": {},
     "outputs": [
      {
       "output_type": "stream",
       "stream": "stdout",
       "text": [
        "For a=b=20*lamda, the efficiency for the uniform aperture is 94%.\n",
        "For u = 1.636596, the efficiency is 58.\n"
       ]
      }
     ],
     "prompt_number": 4
    },
    {
     "cell_type": "heading",
     "level": 2,
     "metadata": {},
     "source": [
      "Example 12.5, Page no. 696"
     ]
    },
    {
     "cell_type": "code",
     "collapsed": false,
     "input": [
      "#Given \n",
      "lamda=50.0\n",
      "theta=30*pi/180\n",
      "a_sq=b_sq=lamda/(2*sin(theta))\n",
      "D0=pi/sin(theta)**2\n",
      "print \"Directivity of square patch is : %f dB\" %(10*log10(D0))\n",
      "\n",
      "a_cir=lamda/(3.413*sin(theta))\n",
      "D0cir=(1.079*pi)/(sin(theta)**2)\n",
      "print \"Directivity of circular patch is : %f dB\" %(10*log10(D0cir))"
     ],
     "language": "python",
     "metadata": {},
     "outputs": [
      {
       "output_type": "stream",
       "stream": "stdout",
       "text": [
        "Directivity of square patch is : 10.992099 dB\n",
        "Directivity of circular patch is : 11.322313 dB\n"
       ]
      }
     ],
     "prompt_number": 5
    },
    {
     "cell_type": "heading",
     "level": 2,
     "metadata": {},
     "source": [
      "Example 12.6, Page no. 699"
     ]
    },
    {
     "cell_type": "code",
     "collapsed": false,
     "input": [
      "#Given\n",
      "Zc=73+42.5j    #Characteristic impedance\n",
      "eta=376.7\n",
      "\n",
      "Zs=eta**2/(4*Zc)\n",
      "print \"Terminal(input) impedance od the slot:\",Zs,\"Ohms\""
     ],
     "language": "python",
     "metadata": {},
     "outputs": [
      {
       "output_type": "stream",
       "stream": "stdout",
       "text": [
        "Terminal(input) impedance od the slot: (362.948424022-211.305589328j) Ohms\n"
       ]
      }
     ],
     "prompt_number": 7
    }
   ],
   "metadata": {}
  }
 ]
}