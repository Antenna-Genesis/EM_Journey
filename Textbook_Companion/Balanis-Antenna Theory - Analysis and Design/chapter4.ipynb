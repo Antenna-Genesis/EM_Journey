{
 "metadata": {
  "name": "chapter 4.ipynb"
 },
 "nbformat": 3,
 "nbformat_minor": 0,
 "worksheets": [
  {
   "cells": [
    {
     "cell_type": "heading",
     "level": 1,
     "metadata": {},
     "source": [
      "Chapter 4. Linear Wire Antennas"
     ]
    },
    {
     "cell_type": "heading",
     "level": 2,
     "metadata": {},
     "source": [
      "Example 4.1, Page 156"
     ]
    },
    {
     "cell_type": "code",
     "collapsed": false,
     "input": [
      "#lambda is very small\n",
      "lamda=0.0001\n",
      "\n",
      "#Length of infinitesimal dipole\n",
      "l=lamda/50\n",
      "\n",
      "#Calculation of radiation resistance\n",
      "R_r=80*(pi**2)*(l/lamda)**2\n",
      "\n",
      "print 'Radiation resisitance:',R_r,'Ohms'"
     ],
     "language": "python",
     "metadata": {},
     "outputs": [
      {
       "output_type": "stream",
       "stream": "stdout",
       "text": [
        "Radiation resisitance: 0.315827340835\n"
       ]
      }
     ],
     "prompt_number": 1
    },
    {
     "cell_type": "heading",
     "level": 2,
     "metadata": {},
     "source": [
      "Example 4.3, Page 168"
     ]
    },
    {
     "cell_type": "code",
     "collapsed": false,
     "input": [
      "#Lamda is a variable value in this example and therefore we will write a function to calculate the differences by passing different values of lambda\n",
      "\n",
      "def phase_diff(z,r,lamda):\n",
      "    R1=sqrt(z**2+r**2)\n",
      "    R2=r\n",
      "    phase_diff=(2*pi/lamda)*(R1-R2)\n",
      "    print 'The phase difference is:',phase_diff,'radians.'\n",
      "    \n",
      "    \n",
      "def amp_diff(z,r,lamda):\n",
      "    R1=sqrt(z**2+r**2)\n",
      "    R2=r\n",
      "    amp_diff=(1/R1)-(1/R2)\n",
      "    print 'The amplitude difference is:',amp_diff\n",
      "    \n",
      "#We will assume lamda = 50\n",
      "lamda=50\n",
      "\n",
      "#Given\n",
      "l=5*lamda\n",
      "r=60*lamda\n",
      "\n",
      "#z=2.5lamda at 90 degree\n",
      "z=2.5*lamda\n",
      "\n",
      "phase_diff(z,r,lamda)\n",
      "amp_diff(z,r,lamda)"
     ],
     "language": "python",
     "metadata": {},
     "outputs": [
      {
       "output_type": "stream",
       "stream": "stdout",
       "text": [
        "The phase difference is: 0.327107322652 radians.\n",
        "The amplitude difference is: 0.000333044357697\n"
       ]
      }
     ],
     "prompt_number": 3
    },
    {
     "cell_type": "heading",
     "level": 2,
     "metadata": {},
     "source": [
      "Example 4.4, Page 194"
     ]
    },
    {
     "cell_type": "code",
     "collapsed": false,
     "input": [
      "#Given is the input resistance of dipole\n",
      "R=50\n",
      "\n",
      "#Calculation of gain G\n",
      "G=pow(float(R)/24.7,1/2.5)\n",
      "\n",
      "print G"
     ],
     "language": "python",
     "metadata": {},
     "outputs": [
      {
       "output_type": "stream",
       "stream": "stdout",
       "text": [
        "1.32589526731\n"
       ]
      }
     ],
     "prompt_number": 4
    }
   ],
   "metadata": {}
  }
 ]
}