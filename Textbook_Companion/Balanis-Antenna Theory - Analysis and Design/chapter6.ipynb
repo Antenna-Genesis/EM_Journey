{
 "metadata": {
  "name": "chapter 6.ipynb"
 },
 "nbformat": 3,
 "nbformat_minor": 0,
 "worksheets": [
  {
   "cells": [
    {
     "cell_type": "heading",
     "level": 1,
     "metadata": {},
     "source": [
      "Chapter 6. Arrays: Linear, Planar and Circular"
     ]
    },
    {
     "cell_type": "heading",
     "level": 2,
     "metadata": {},
     "source": [
      "Example 6.1, Page No. 286"
     ]
    },
    {
     "cell_type": "code",
     "collapsed": false,
     "input": [
      "import math\n",
      "#We know that E=cos(theta)*cos(pi*cos(theta)/4)\n",
      "#To find the nulls we equate the above equation with 0 at null angle\n",
      "theta_b0=math.acos(0)\n",
      "print \"Nulls for beta equal to 0: %d deg\" %(math.degrees(theta_b0))\n",
      "\n",
      "theta_b_pi_2_p=math.acos(0)\n",
      "print \"Nulls for beta equal to +pi/2: %d deg\" %(math.degrees(theta_b_pi_2_p))\n",
      "\n",
      "theta_b_pi_2_n=math.acos(0)\n",
      "theta_b_pi_2_n2=math.acos(1+(4/pi)*(-pi/2))\n",
      "print \"Nulls for beta equal to -pi/2: %d deg %d deg\" %(math.degrees(theta_b_pi_2_n),math.degrees(theta_b_pi_2_n2))"
     ],
     "language": "python",
     "metadata": {},
     "outputs": [
      {
       "output_type": "stream",
       "stream": "stdout",
       "text": [
        "Nulls for beta equal to 0: 90 deg\n",
        "Nulls for beta equal to +pi/2: 90 deg\n",
        "Nulls for beta equal to -pi/2: 90 deg 180 deg\n"
       ]
      }
     ],
     "prompt_number": 6
    },
    {
     "cell_type": "heading",
     "level": 2,
     "metadata": {},
     "source": [
      "Example 6.2, Page No. 290"
     ]
    },
    {
     "cell_type": "code",
     "collapsed": false,
     "input": [
      "import math\n",
      "import numpy as np\n",
      "#To find the nulls we have to equate E=cos(theta)*cos(0.5*(k*d*cos(theta)+beta))\n",
      "theta_n=math.acos(0)\n",
      "print \"Nulls occur at : %d deg\" %math.degrees(theta_n)\n",
      "\n",
      "#lamda=50.0\n",
      "#d=lamda/2\n",
      "#beta=pi/2\n",
      "#theta_n1=np.zeros(11)\n",
      "#n=np.linspace(0,10,11,'int')\n",
      "#for i in range(0,11):\n",
      " #   theta_n1[i]=math.acos((lamda/(2*pi*d))*(-beta+(2*int(n[i])+1)*pi))\"\"\"\n"
     ],
     "language": "python",
     "metadata": {},
     "outputs": [
      {
       "output_type": "stream",
       "stream": "stdout",
       "text": [
        "Nulls occur at : 90 deg\n"
       ]
      }
     ],
     "prompt_number": 17
    },
    {
     "cell_type": "heading",
     "level": 2,
     "metadata": {},
     "source": [
      "Example 6.3, Page No. 315"
     ]
    },
    {
     "cell_type": "code",
     "collapsed": false,
     "input": [
      "#Let us assume lambda = 50\n",
      "lamda=50\n",
      "N=10\n",
      "d=lamda/4\n",
      "\n",
      "D0=(2*N)*(float(d)/lamda)\n",
      "D0_dB=10*log10(D0)\n",
      "print \"Directivity of the array antenna:\",D0_dB,\"dB\""
     ],
     "language": "python",
     "metadata": {},
     "outputs": [
      {
       "output_type": "stream",
       "stream": "stdout",
       "text": [
        "Directivity of the array antenna: 6.81241237376 dB\n"
       ]
      }
     ],
     "prompt_number": 5
    },
    {
     "cell_type": "heading",
     "level": 2,
     "metadata": {},
     "source": [
      "Example 6.4, Page No. 317"
     ]
    },
    {
     "cell_type": "code",
     "collapsed": false,
     "input": [
      "#assume lamda = 50\n",
      "\n",
      "lamda=50\n",
      "d=float(lamda)/4\n",
      "N=10\n",
      "\n",
      "D0=(4*N)*(d/lamda)\n",
      "D0_dB=10*log10(D0)\n",
      "\n",
      "print \"Directivity of antenna:\",D0_dB,\"dB\""
     ],
     "language": "python",
     "metadata": {},
     "outputs": [
      {
       "output_type": "stream",
       "stream": "stdout",
       "text": [
        "Directivity of antenna: 10.0 dB\n"
       ]
      }
     ],
     "prompt_number": 6
    },
    {
     "cell_type": "heading",
     "level": 2,
     "metadata": {},
     "source": [
      "Example 6.5, Page No. 318"
     ]
    },
    {
     "cell_type": "code",
     "collapsed": false,
     "input": [
      "#assume lamda = 50\n",
      "\n",
      "lamda=50\n",
      "d=float(lamda)/4\n",
      "\n",
      "D0=1.805*(4*N)*(d/lamda)\n",
      "D0_dB=10*log10(D0)\n",
      "\n",
      "print \"Directivity of Hansen-Woodyard antenna:\",D0_dB,\"dB\""
     ],
     "language": "python",
     "metadata": {},
     "outputs": [
      {
       "output_type": "stream",
       "stream": "stdout",
       "text": [
        "Directivity of Hansen-Woodyard antenna: 12.5647720624 dB\n"
       ]
      }
     ],
     "prompt_number": 7
    },
    {
     "cell_type": "heading",
     "level": 2,
     "metadata": {},
     "source": [
      "Example 6.6, Page No. 319"
     ]
    },
    {
     "cell_type": "code",
     "collapsed": false,
     "input": [
      "import scipy\n",
      "#assume lamda=50\n",
      "lamda=50.0\n",
      "\n",
      "#Given data\n",
      "theta=30\n",
      "theta0=theta*pi/180\n",
      "d=lamda/4\n",
      "k=(2*pi)/lamda\n",
      "\n",
      "beta=-k*d*cos(theta0)\n",
      "\n",
      "print \"Progressive phase:\",beta,\"radians\""
     ],
     "language": "python",
     "metadata": {},
     "outputs": [
      {
       "output_type": "stream",
       "stream": "stdout",
       "text": [
        "1.36034952318\n",
        "Progressive phase: -1.36034952318 radians\n"
       ]
      }
     ],
     "prompt_number": 17
    },
    {
     "cell_type": "heading",
     "level": 2,
     "metadata": {},
     "source": [
      "Example 6.8, Page No. 331"
     ]
    },
    {
     "cell_type": "code",
     "collapsed": false,
     "input": [
      "#Given N=10\n",
      "N=10\n",
      "#function to calculate HPBW\n",
      "def hp(N):\n",
      "    return 1.06/(sqrt(N-1))\n",
      "\n",
      "HPBW=hp(N)\n",
      "\n",
      "print \"Half-power Beamwidth:\",HPBW,\"radians, \",HPBW*180/pi,\"degrees\"\n",
      "\n",
      "#directivity given by formula d0=((2N-2)(2N-4)...2)/((2N-3)(2N-5)...1) here N=10\n",
      "\n",
      "#Function to calculate the directivity\n",
      "def d0(N):\n",
      "    nume=numer(N)\n",
      "    deno=denom(N)\n",
      "    return float(nume)/deno\n",
      "\n",
      "#Function to calculate the numerator of the above formula\n",
      "def numer(N):\n",
      "    temp=1\n",
      "    i=2\n",
      "    while(2*N-i)>1:\n",
      "        temp=temp*(2*N-i)\n",
      "        i=i+2\n",
      "    return temp\n",
      "\n",
      "#Function to calculate denominator of the above formula\n",
      "def denom(N):\n",
      "    temp=1\n",
      "    i=3\n",
      "    while(2*N-i)>0:\n",
      "        temp=temp*(2*N-i)\n",
      "        i=i+2\n",
      "    return temp\n",
      "\n",
      "\n",
      "D01=d0(N)\n",
      "D0_dB=10*log10(D01)\n",
      "print \"Directivity:\",D0_dB,\"dB\"\n",
      "\n",
      "D02=1.77*sqrt(N)\n",
      "print \"Directivity using other formula:\",10*log10(D02),\"dB\""
     ],
     "language": "python",
     "metadata": {},
     "outputs": [
      {
       "output_type": "stream",
       "stream": "stdout",
       "text": [
        "Half-power Beamwidth: 0.353333333333 radians,  20.2445087613 degrees\n",
        "Directivity: 7.31724967444 dB\n",
        "Directivity using other formula: 7.47973266362 dB\n"
       ]
      }
     ],
     "prompt_number": 6
    },
    {
     "cell_type": "heading",
     "level": 2,
     "metadata": {},
     "source": [
      "Example 6.10, Page No. 343"
     ]
    },
    {
     "cell_type": "code",
     "collapsed": false,
     "input": [
      "import scipy\n",
      "import math\n",
      "#Given R0=26db\n",
      "R0_dB=26.0\n",
      "\n",
      "R0=pow(10,(R0_dB/20))\n",
      "R0=int(math.ceil(R0))\n",
      "#broadening factor f\n",
      "f=1+(0.636)*((2.0/R0)*cosh(sqrt(math.acosh(R0)**2-pi**2)))**2\n",
      "print \"Broadening factor:\",f\n",
      "\n",
      "#theta_h from the graph\n",
      "theta_h=10.17\n",
      "\n",
      "beamwidth=theta_h*f\n",
      "print \"Beamwidth:\",beamwidth,\"deg.\"\n",
      "\n",
      "#Assume lamda = 50\n",
      "lamda=50\n",
      "L_plus_d=5*lamda\n",
      "\n",
      "D0=(2*R0**2)/(1+(R0**2-1)*f*(float(lamda)/L_plus_d))\n",
      "print \"Directivity:\",D0,\",\",10*log10(D0),\"dB\""
     ],
     "language": "python",
     "metadata": {},
     "outputs": [
      {
       "output_type": "stream",
       "stream": "stdout",
       "text": [
        "Broadening factor: 1.079024504\n",
        "Beamwidth: 10.9736792057 deg.\n",
        "Directivity: 9.18419595205 , 9.63041141167 dB\n"
       ]
      }
     ],
     "prompt_number": 46
    },
    {
     "cell_type": "heading",
     "level": 2,
     "metadata": {},
     "source": [
      "Example 6.11, Page No. 361"
     ]
    },
    {
     "cell_type": "code",
     "collapsed": false,
     "input": [
      "import math\n",
      "\n",
      "#Function to calculate sec(x)\n",
      "def sec(t):\n",
      "    return sqrt(1+tan(t)**2)\n",
      "\n",
      "x=pi/180 #Factor to convert degrees to radians, in-built function is also present\n",
      "\n",
      "#this example relies on data of Example 6.10\n",
      "lamda=50\n",
      "L_plus_d=5*lamda\n",
      "theta_x0=theta_y0=10.97 #from example 6.10\n",
      "\n",
      "theta_0=30 #Given\n",
      "theta_h=theta_x0*sec(theta_0*x)\n",
      "\n",
      "psi_h=theta_x0\n",
      "\n",
      "omega_a=theta_h*psi_h\n",
      "print \"Solid angle:\",omega_a,\"deg_square\"\n",
      "\n",
      "D0x=D0y=9.18  #from ex 6.10\n",
      "\n",
      "#Directivity of the array \n",
      "D0=pi*cos(theta_0*x)*D0x*D0x\n",
      "\n",
      "print \"Directivity:\",D0,\", in dB:\",10*log10(D0),\"dB\"\n",
      "\n",
      "D01=32400.0/(omega_a)\n",
      "\n",
      "print \"Directivity using 6-101:\",D01,\", in dB:\",10*log10(D01),\"dB\""
     ],
     "language": "python",
     "metadata": {},
     "outputs": [
      {
       "output_type": "stream",
       "stream": "stdout",
       "text": [
        "Solid angle: 138.957702019 deg_square\n",
        "Directivity: 229.279838314 , in dB: 23.6036586679 dB\n",
        "Directivity using 6-101: 233.164477602 , in dB: 23.6766238675 dB\n"
       ]
      }
     ],
     "prompt_number": 54
    }
   ],
   "metadata": {}
  }
 ]
}