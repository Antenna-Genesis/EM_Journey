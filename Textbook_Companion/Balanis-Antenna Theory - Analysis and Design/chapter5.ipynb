{
 "metadata": {
  "name": "chapter 5.ipynb"
 },
 "nbformat": 3,
 "nbformat_minor": 0,
 "worksheets": [
  {
   "cells": [
    {
     "cell_type": "heading",
     "level": 1,
     "metadata": {},
     "source": [
      "Chapter 5. Loop Antennas"
     ]
    },
    {
     "cell_type": "heading",
     "level": 2,
     "metadata": {},
     "source": [
      "Example 5.1, Page 239"
     ]
    },
    {
     "cell_type": "code",
     "collapsed": false,
     "input": [
      "#Assuming lamda = 50\n",
      "lamda=50\n",
      "\n",
      "#Given radius = lamda/25\n",
      "radius=lamda/25\n",
      "\n",
      "def rad_res(radius,turns,lamda):\n",
      "    S=pi*radius**2\n",
      "    res=31171*turns**2*S**2/lamda**4\n",
      "    print 'Radiation resistance for %d turns is: %f Ohms'%(turns,res)\n",
      "    \n",
      "rad_res(radius,1,lamda)\n",
      "rad_res(radius,8,lamda)"
     ],
     "language": "python",
     "metadata": {},
     "outputs": [
      {
       "output_type": "stream",
       "stream": "stdout",
       "text": [
        "Radiation resistance for 1 turns is: 0.787572 Ohms\n",
        "Radiation resistance for 8 turns is: 50.404629 Ohms\n"
       ]
      }
     ],
     "prompt_number": 2
    },
    {
     "cell_type": "code",
     "collapsed": false,
     "input": [
      "#Given data is radius of loop and wire, frequency, conductivity\n",
      "\n",
      "lamda=50.0\n",
      "\n",
      "a=lamda/25\n",
      "b=lamda*10**-4\n",
      "f=100*10**6\n",
      "space=4*10**-4*lamda\n",
      "cond=5.7*10**7\n",
      "omega=2*pi*f\n",
      "mu_0=4*pi*10**-7\n",
      "rad_res1=0.788\n",
      "rad_res50=50.43\n",
      "\n",
      "Rl=(a/b)*sqrt(omega*mu_0/(2*cond))\n",
      "ecd1=rad_res1/(rad_res1+Rl)\n",
      "print \"Radiation efficiency of a single turn loop antenna is : %f\"%(ecd1*100)\n",
      "\n",
      "N=8\n",
      "Rp_R0=0.38\n",
      "R_ohmic=(N*a/b)*sqrt(omega*mu_0/(2*cond))*(1+Rp_R0)\n",
      "ecd2=rad_res50/(rad_res50+R_ohmic)\n",
      "print \"Radiation efficiency of an 8 turn loop antenna is : %f\"%(ecd2*100)"
     ],
     "language": "python",
     "metadata": {},
     "outputs": [
      {
       "output_type": "stream",
       "stream": "stdout",
       "text": [
        "Radiation efficiency of a single turn loop antenna is : 42.809924\n",
        "Radiation efficiency of an 8 turn loop antenna is : 81.270876\n"
       ]
      }
     ],
     "prompt_number": 5
    },
    {
     "cell_type": "heading",
     "level": 2,
     "metadata": {},
     "source": [
      "Example 5.3, Page 243"
     ]
    },
    {
     "cell_type": "code",
     "collapsed": false,
     "input": [
      "lamda=50\n",
      "\n",
      "#Radius\n",
      "a=lamda/25\n",
      "\n",
      "S=pi*a**2\n",
      "\n",
      "print 'Physical area of loop:',S\n",
      "\n",
      "#Effective aperture\n",
      "Aem=(3*lamda**2)/(8*pi)\n",
      "\n",
      "comp=Aem/S\n",
      "\n",
      "print 'Electrically the loop is',comp,'times bigger than physical area,'"
     ],
     "language": "python",
     "metadata": {},
     "outputs": [
      {
       "output_type": "stream",
       "stream": "stdout",
       "text": [
        "Physical area of loop: 12.5663706144\n",
        "Electrically the loop is 23.7471524162 times bigger than physical area,\n"
       ]
      }
     ],
     "prompt_number": 4
    },
    {
     "cell_type": "heading",
     "level": 2,
     "metadata": {},
     "source": [
      "Example 5.4, Page no. 260"
     ]
    },
    {
     "cell_type": "code",
     "collapsed": false,
     "input": [
      "#To design a resonant loop antenna omega=12 & circumference=1.125*lamda\n",
      "omega=12\n",
      "f=100*10**6\n",
      "v=3*10**8\n",
      "lamda=v/f\n",
      "circum=1.125*lamda\n",
      "a=circum/(2*pi)\n",
      "print \"The radius of the loop is: %f m\"%(a)\n",
      "\n",
      "b=(2*pi*a)/(exp(omega/2.0))\n",
      "print \"The radius of the wire is : %f m\"%b\n",
      "\n",
      "print \"The axial directivity is calculated as 3.6 dB.\"\n",
      "print \"There is no need of a lumped element to resonate the radiator, since the antenna is self-resonant.\""
     ],
     "language": "python",
     "metadata": {},
     "outputs": [
      {
       "output_type": "stream",
       "stream": "stdout",
       "text": [
        "The radius of the loop is: 0.537148 m\n",
        "The radius of the wire is : 0.008366 m\n",
        "The axial directivity is calculated as 3.6 dB.\n",
        "There is no need of a lumped element to resonate the radiator, since the antenna is self-resonant.\n"
       ]
      }
     ],
     "prompt_number": 7
    }
   ],
   "metadata": {}
  }
 ]
}