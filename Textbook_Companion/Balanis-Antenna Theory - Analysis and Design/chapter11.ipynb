{
 "metadata": {
  "name": "chapter 11.ipynb"
 },
 "nbformat": 3,
 "nbformat_minor": 0,
 "worksheets": [
  {
   "cells": [
    {
     "cell_type": "heading",
     "level": 1,
     "metadata": {},
     "source": [
      "Chapter 11: Frequency Independent Antennas, Antenna Miniaturization and Fractal Antennas"
     ]
    },
    {
     "cell_type": "heading",
     "level": 2,
     "metadata": {},
     "source": [
      "Example 11.1, Page No. 634"
     ]
    },
    {
     "cell_type": "code",
     "collapsed": false,
     "input": [
      "import scipy\n",
      "import math\n",
      "#For a given D0 of 8dB optimum sigma is 0.157\n",
      "\n",
      "sigma=0.157\n",
      "tau=0.865\n",
      "\n",
      "alpha=math.degrees(math.atan((1-tau)/(4*sigma)))\n",
      "print \"Angle between edges:\",alpha\n",
      "\n",
      "B_ar=1.1+7.7*(1-tau)**2*(1/math.tan(math.radians(alpha)))\n",
      "print \"Active Region Bandwidth:\",B_ar\n",
      "\n",
      "f_max=(216000000.0)\n",
      "f_min=(54000000.0)\n",
      "B=f_max/f_min\n",
      "B_s=B*B_ar\n",
      "print \"Designed Bandwidth:\",B_s\n",
      "\n",
      "v=300000000\n",
      "lamda_max=v/f_min\n",
      "print \"Maximum wavelength:\",lamda_max,\"m\"\n",
      "\n",
      "L=(lamda_max/4)*(1-1/B_s)*(math.cos(math.radians(alpha)))/(math.sin(math.radians(alpha)))\n",
      "print \"Total length of structure:\",L,\"m\"\n",
      "\n",
      "N=1+(log(B_s)/(log(1/tau)))\n",
      "print \"Number of elements:\",int(N)\n",
      "\n",
      "sigma_1=sigma/sqrt(tau)\n",
      "print \"Relative mean spacing:\",sigma_1\n",
      "\n",
      "def toFeet(m):\n",
      "    return m*3.2804\n",
      "\n",
      "l_max=toFeet(lamda_max)/2\n",
      "ratio=l_max*int(alpha)/0.75\n",
      "\n",
      "Z_a=120*(log(ratio)-2.25)\n",
      "print \"Average characteristic impedance of elements:\",Z_a,\"ohms\"\n",
      "\n",
      "R_in=50.0\n",
      "ratio_2=Z_a/R_in\n",
      "\n",
      "Z0=1.2*R_in\n",
      "print \"Average characteristic impedance of feeder line:\",Z0,\"ohms\"\n",
      "\n",
      "s=(3.0/4)*cosh(Z0/120.0)\n",
      "print \"Center-to-center spacing of feeder conductors:\",s,\"in.\""
     ],
     "language": "python",
     "metadata": {},
     "outputs": [
      {
       "output_type": "stream",
       "stream": "stdout",
       "text": [
        "Angle between edges: 12.1321360732\n",
        "Active Region Bandwidth: 1.752806\n",
        "Designed Bandwidth: 7.011224\n",
        "Maximum wavelength: 5.55555555556 m\n",
        "Total length of structure: 5.53939644496 m\n",
        "Number of elements: 14\n",
        "Relative mean spacing: 0.168807445799\n",
        "Average characteristic impedance of elements: 327.864640314 ohms\n",
        "Average characteristic impedance of feeder line: 60.0 ohms\n",
        "Center-to-center spacing of feeder conductors: 0.845719473905 in.\n"
       ]
      }
     ],
     "prompt_number": 19
    }
   ],
   "metadata": {}
  }
 ]
}