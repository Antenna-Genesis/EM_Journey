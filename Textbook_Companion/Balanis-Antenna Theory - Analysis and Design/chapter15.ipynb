{
 "metadata": {
  "name": "chapter 15.ipynb"
 },
 "nbformat": 3,
 "nbformat_minor": 0,
 "worksheets": [
  {
   "cells": [
    {
     "cell_type": "heading",
     "level": 1,
     "metadata": {},
     "source": [
      "Chapter 15: Reflector Antennas"
     ]
    },
    {
     "cell_type": "heading",
     "level": 2,
     "metadata": {},
     "source": [
      "Example 15.3, Page no. 923"
     ]
    },
    {
     "cell_type": "code",
     "collapsed": false,
     "input": [
      "import math\n",
      "import scipy.integrate\n",
      "#Given\n",
      "d=10.0\n",
      "fd_ratio=0.5\n",
      "f=3*10**9\n",
      "v=3*10**8\n",
      "lamda=float(v)/f\n",
      "theta=math.atan((0.5*fd_ratio)/(fd_ratio**2-(1/16.)))\n",
      "\n",
      "eff=24*((sin(theta/2))**2+log(cos(theta/2)))**2*(1/tan(theta/2))**2\n",
      "print \"Aperture Efficiency: %d\" %(100*eff)\n",
      "\n",
      "D=eff*((pi*d)/lamda)**2\n",
      "print \"Total directivity: %f dB\" %(10*log10(D))\n",
      "\n",
      "spill_eff=(scipy.integrate.quad(lambda x:(cos(x*pi/180)**2)*sin(x*pi/180),0,53.13)[0])/(scipy.integrate.quad(lambda x:(cos(x*pi/180)**2)*sin(x*pi/180),0,90)[0])\n",
      "print \"Spillover efficiency : %f \" %(100*spill_eff)\n",
      "\n",
      "taper_eff=2*eff/1.568\n",
      "print \"Taper efficiency: %f\" %(100*taper_eff)\n",
      "\n",
      "m=pi/8\n",
      "direc=(1-(m**2)/2)**2*D\n",
      "print \"directivity for phase error of pi/8 : %f dB\" %(10*log10(direc))"
     ],
     "language": "python",
     "metadata": {},
     "outputs": [
      {
       "output_type": "stream",
       "stream": "stdout",
       "text": [
        "Aperture Efficiency: 75\n",
        "Total directivity: 48.697528 dB\n",
        "Spillover efficiency : 78.399846 \n",
        "Taper efficiency: 95.749602\n",
        "directivity for phase error of pi/8 : 48.000562 dB\n"
       ]
      }
     ],
     "prompt_number": 34
    },
    {
     "cell_type": "heading",
     "level": 2,
     "metadata": {},
     "source": [
      "Example 15.4, Page no 936"
     ]
    },
    {
     "cell_type": "code",
     "collapsed": false,
     "input": [
      "#Given\n",
      "v=3*3.28083*10**8\n",
      "f=11.2*10**9\n",
      "lamda=v/f\n",
      "print \"wavelength: %f ft\" %lamda\n",
      "delta=lamda/16\n",
      "R=5\n",
      "a=((14.7*(delta/lamda)*R**4)/(R/lamda))**(0.25)\n",
      "print \"Maximum permissible aperture: %f feet\"%a"
     ],
     "language": "python",
     "metadata": {},
     "outputs": [
      {
       "output_type": "stream",
       "stream": "stdout",
       "text": [
        "wavelength: 0.087879 ft\n",
        "Maximum permissible aperture: 1.782373 feet\n"
       ]
      }
     ],
     "prompt_number": 37
    }
   ],
   "metadata": {}
  }
 ]
}