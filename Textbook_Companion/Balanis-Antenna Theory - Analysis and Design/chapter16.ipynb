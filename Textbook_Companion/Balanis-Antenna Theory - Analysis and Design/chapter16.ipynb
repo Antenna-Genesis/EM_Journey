{
 "metadata": {
  "name": "chapter 16.ipynb"
 },
 "nbformat": 3,
 "nbformat_minor": 0,
 "worksheets": [
  {
   "cells": [
    {
     "cell_type": "heading",
     "level": 1,
     "metadata": {},
     "source": [
      "Chapter 16: Smart Antennas"
     ]
    },
    {
     "cell_type": "heading",
     "level": 2,
     "metadata": {},
     "source": [
      "Example 16.1, Page no. 966"
     ]
    },
    {
     "cell_type": "code",
     "collapsed": false,
     "input": [
      "#in this example we have to solve a system of linear equations\n",
      "\n",
      "w=np.mat('1 1;0.7071-0.7071j 0.7071+0.7071j')\n",
      "a=np.array([1,0])\n",
      "\n",
      "x=np.linalg.solve(w,a)\n",
      "print \"The optimum values of w1 and w2 which guarantee maximum signal-to-interference ratio at theta=0:\",x"
     ],
     "language": "python",
     "metadata": {},
     "outputs": [
      {
       "output_type": "stream",
       "stream": "stdout",
       "text": [
        "The optimum values of w1 and w2 which guarantee maximum signal-to-interference ratio at theta=0: [ 0.5-0.5j  0.5+0.5j]\n"
       ]
      }
     ],
     "prompt_number": 17
    },
    {
     "cell_type": "code",
     "collapsed": false,
     "input": [],
     "language": "python",
     "metadata": {},
     "outputs": []
    }
   ],
   "metadata": {}
  }
 ]
}