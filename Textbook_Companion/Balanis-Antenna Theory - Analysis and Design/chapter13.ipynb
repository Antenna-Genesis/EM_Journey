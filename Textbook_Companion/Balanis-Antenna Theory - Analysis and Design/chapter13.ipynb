{
 "metadata": {
  "name": "chapter 13.ipynb"
 },
 "nbformat": 3,
 "nbformat_minor": 0,
 "worksheets": [
  {
   "cells": [
    {
     "cell_type": "heading",
     "level": 1,
     "metadata": {},
     "source": [
      "Chapter 13: Horn Antennas"
     ]
    },
    {
     "cell_type": "heading",
     "level": 2,
     "metadata": {},
     "source": [
      "Example 13.1, Page no. 742"
     ]
    },
    {
     "cell_type": "code",
     "collapsed": false,
     "input": [
      "#assume lamda=50\n",
      "lamda=50.0\n",
      "\n",
      "#Given\n",
      "delta_phi_max=56.72\n",
      "a=0.5*lamda\n",
      "b=0.25*lamda\n",
      "b1=2.75*lamda\n",
      "k=2*pi/lamda\n",
      "rho_1=(k*b1**2)/(4*2*(delta_phi_max*pi/180))\n",
      "\n",
      "flare_ang=2*math.degrees(math.atan((b1/2)/rho_1))\n",
      "print \"Total flare angle:\",flare_ang,\"deg\""
     ],
     "language": "python",
     "metadata": {},
     "outputs": [
      {
       "output_type": "stream",
       "stream": "stdout",
       "text": [
        "Total flare angle: 25.8153672096 deg\n"
       ]
      }
     ],
     "prompt_number": 4
    },
    {
     "cell_type": "heading",
     "level": 2,
     "metadata": {},
     "source": [
      "Example 13.2, Page no. 750"
     ]
    },
    {
     "cell_type": "code",
     "collapsed": false,
     "input": [
      "#Given\n",
      "lamda=50.0\n",
      "a=0.5*lamda\n",
      "b=0.25*lamda\n",
      "b1=0.275*lamda\n",
      "rho_1=6*lamda     #From example 13.1\n",
      "s=b1**2/(8*lamda*rho_1)\n",
      "\n",
      "#for the above s, theta = 90 and normalized field of -20dB\n",
      "theta=90\n",
      "En=-20\n",
      "\n",
      "E_theta_dB=En+20.0*log10((1+cos(theta*pi/180))/2.0)\n",
      "E_theta=10**(E_theta_dB/20)\n",
      "\n",
      "print \"Normalized voltage ratio:\",E_theta"
     ],
     "language": "python",
     "metadata": {},
     "outputs": [
      {
       "output_type": "stream",
       "stream": "stdout",
       "text": [
        "Normalized voltage ratio: 0.05\n"
       ]
      }
     ],
     "prompt_number": 1
    },
    {
     "cell_type": "heading",
     "level": 2,
     "metadata": {},
     "source": [
      "Example 13.3, Page no. 755"
     ]
    },
    {
     "cell_type": "code",
     "collapsed": false,
     "input": [
      "#Given\n",
      "lamda=50.0\n",
      "a=0.5*lamda\n",
      "b=0.25*lamda\n",
      "b1=2.75*lamda\n",
      "rho_1=6*lamda\n",
      "\n",
      "x=b1/sqrt(2*lamda*rho_1)\n",
      "\n",
      "C2_x=0.518\n",
      "S2_x=0.0576\n",
      "\n",
      "DE=((64*a*rho_1)/(pi*lamda*b1))*(C2_x+S2_x)\n",
      "print \"Directivity:\",10*log10(DE),\"dB\"\n",
      "\n",
      "rho_e=sqrt(rho_1**2+(b1**2)/2)\n",
      "B=(b1/lamda)*sqrt(50/(rho_e/lamda))\n",
      "print \"B=\",B\n",
      "\n",
      "#for the above value of B, GE=73.5\n",
      "GE=73.5\n",
      "DE1=(a/lamda)*(GE/sqrt(50/(rho_e/lamda)))\n",
      "print \"Directivity:\",10*log10(DE1),\"dB\""
     ],
     "language": "python",
     "metadata": {},
     "outputs": [
      {
       "output_type": "stream",
       "stream": "stdout",
       "text": [
        "Directivity: 11.0693944744 dB\n",
        "B= 7.74280086072\n",
        "Directivity: 11.1569194759 dB\n"
       ]
      }
     ],
     "prompt_number": 19
    },
    {
     "cell_type": "heading",
     "level": 2,
     "metadata": {},
     "source": [
      "Example 13.4, Page no. 768"
     ]
    },
    {
     "cell_type": "code",
     "collapsed": false,
     "input": [
      "#given\n",
      "lamda=50.0\n",
      "a=0.5*lamda\n",
      "b=0.25*lamda\n",
      "a1=5.5*lamda\n",
      "rho_2=6*lamda\n",
      "\n",
      "u=(1/sqrt(2))*((sqrt(lamda*rho_2)/a1)+(a1/(sqrt(lamda*rho_2))))\n",
      "v=(1/sqrt(2))*((sqrt(lamda*rho_2)/a1)-(a1/(sqrt(lamda*rho_2))))\n",
      "\n",
      "C_u=0.394      #Values are from appendix\n",
      "C_v=-0.659\n",
      "S_u=0.373\n",
      "S_v=-0.669\n",
      "\n",
      "D_h=(4*pi*b*rho_2/(a1*lamda))*((C_u-C_v)**2+(S_u-S_v)**2)\n",
      "print \"Directivity:\",10*log10(D_h),\"dB\"\n",
      "\n",
      "rho_h=sqrt(rho_2**2+(a1/2)**2)\n",
      "x=sqrt(50/(rho_h/lamda))\n",
      "A=(a1/lamda)*x\n",
      "\n",
      "#for the above value of A G_h=91.8\n",
      "G_h=91.8\n",
      "D_h1=(b/lamda)*(G_h/x)\n",
      "print \"Directivity:\",10*log10(D_h1),\"dB\""
     ],
     "language": "python",
     "metadata": {},
     "outputs": [
      {
       "output_type": "stream",
       "stream": "stdout",
       "text": [
        "Directivity: 8.76288465322 dB\n",
        "Directivity: 9.21075886566 dB\n"
       ]
      }
     ],
     "prompt_number": 20
    },
    {
     "cell_type": "heading",
     "level": 2,
     "metadata": {},
     "source": [
      "Example 13.5, Page no. 779"
     ]
    },
    {
     "cell_type": "code",
     "collapsed": false,
     "input": [
      "#Given\n",
      "lamda=50.0\n",
      "rho_1=rho_2=6*lamda\n",
      "a1=5.5*lamda\n",
      "b1=2.75*lamda\n",
      "a=0.5*lamda\n",
      "b=0.25*lamda\n",
      "\n",
      "rho_e=6.1555*lamda  #From previous\n",
      "rho_h=6.6*lamda     #examples\n",
      "\n",
      "p_e=(b1-b)*(sqrt((rho_e/b1)**2-(1/4)))\n",
      "p_h=(a1-a)*(sqrt((rho_h/a1)**2-(1/4)))\n",
      "print \"The values of rho-e and rho-h are not equal.\"\n",
      "\n",
      "DE=12.79    #Using previous example values\n",
      "DH=7.52\n",
      "\n",
      "Dp=(pi*lamda**2/(32*a*b))*DE*DH\n",
      "print \"Directivity: %f dB\" % (10*log10(Dp))\n",
      "\n",
      "DE1=12.89\n",
      "DH1=8.338\n",
      "Dp1=(pi*lamda**2/(32*a*b))*DE1*DH1\n",
      "print \"Directivity: %f dB\" % (10*log10(Dp1))\n",
      "\n",
      "s=b1**2/(8*lamda*rho_1)\n",
      "t=a1**2/(8*lamda*rho_2)\n",
      "print \"The values of s and t are %f, %f\" %(s,t)\n",
      "LE=0.20\n",
      "LH=2.75\n",
      "print \"For the given values of s and t, LE=%f dB and LH=%f dB\" %(LE,LH)\n",
      "\n",
      "Dp2=10*(1.008+log10(a1*b1/lamda**2))-(LE+LH)\n",
      "print \"Directivity: %f dB\" %Dp2"
     ],
     "language": "python",
     "metadata": {},
     "outputs": [
      {
       "output_type": "stream",
       "stream": "stdout",
       "text": [
        "The values of rho-e and rho-h are not equal.\n",
        "Directivity: 18.781783 dB\n",
        "Directivity: 19.264047 dB\n",
        "The values of s and t are 0.157552, 0.630208\n",
        "For the given values of s and t, LE=0.200000 dB and LH=2.750000 dB\n",
        "Directivity: 18.926954 dB\n"
       ]
      }
     ],
     "prompt_number": 21
    },
    {
     "cell_type": "heading",
     "level": 2,
     "metadata": {},
     "source": [
      "Example 13.6, Page no. 782"
     ]
    },
    {
     "cell_type": "code",
     "collapsed": false,
     "input": [
      "#Given\n",
      "G0_db=22.6\n",
      "G0=10**(G0_db/10)\n",
      "\n",
      "f=11*10**9\n",
      "v=30000000000.0\n",
      "lamda=v/f\n",
      "\n",
      "a=0.8382*lamda\n",
      "b=0.3725*lamda\n",
      "\n",
      "#The Value x1 is calculated on a trial and error basis\n",
      "x=11.1157\n",
      "\n",
      "rho_e=x*lamda\n",
      "rho_h=lamda*(G0**2/(8*pi**3))*(1/x)\n",
      "print \"The values of rho-e and rho-h are %f and %f.\" %(rho_e,rho_h)\n",
      "\n",
      "a1=(G0/(2*pi))*sqrt(3/(2*pi*x))*lamda\n",
      "b1=sqrt(2*x)*lamda\n",
      "\n",
      "print \"Corresponding values of a1 and b1: %f cm, %f cm\" %(a1,b1)\n",
      "\n",
      "p_e=(b1-b)*(sqrt((rho_e/b1)**2-(1/4)))\n",
      "p_h=(a1-a)*(sqrt((rho_h/a1)**2-(1/4)))\n",
      "print \"Values of pE and pH: %f cm, %f cm\" %(p_e,p_h)\n",
      "\n",
      "G0_1=(2*pi/lamda**2)*sqrt(3*lamda*rho_h)*sqrt(2*lamda*rho_e)\n",
      "print \"Directivity:\",10*log10(G0_1)"
     ],
     "language": "python",
     "metadata": {},
     "outputs": [
      {
       "output_type": "stream",
       "stream": "stdout",
       "text": [
        "The values of rho-e and rho-h are 30.315545 and 32.753080.\n",
        "Corresponding values of a1 and b1: 16.370087 cm, 12.859142 cm\n",
        "Values of pE and pH: 27.920530 cm, 28.179278 cm\n",
        "Directivity: 22.4998569101\n"
       ]
      }
     ],
     "prompt_number": 22
    }
   ],
   "metadata": {}
  }
 ]
}