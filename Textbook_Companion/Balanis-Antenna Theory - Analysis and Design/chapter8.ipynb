{
 "metadata": {
  "name": "chapter8.ipynb"
 },
 "nbformat": 3,
 "nbformat_minor": 0,
 "worksheets": [
  {
   "cells": [
    {
     "cell_type": "heading",
     "level": 1,
     "metadata": {},
     "source": [
      "Chapter 8: Integral Equations, Moment Method and Self and Mutual impedances"
     ]
    },
    {
     "cell_type": "heading",
     "level": 2,
     "metadata": {},
     "source": [
      "Example 8.1, Page no. 438"
     ]
    },
    {
     "cell_type": "code",
     "collapsed": false,
     "input": [
      "import numpy as np\n",
      "import matplotlib.pyplot as plt\n",
      "\n",
      "#given\n",
      "a=0.001\n",
      "delta=0.2\n",
      "N=5\n",
      "epsilon=8.854*10**-12\n",
      "V_m=4*pi*epsilon\n",
      "\n",
      "z=np.zeros([N,N])\n",
      "b=np.zeros(N)\n",
      "\n",
      "for i in range(0,N):\n",
      "    b[i]=V_m\n",
      "\n",
      "def m_eq_n(d,a):\n",
      "    temp=2*log(((d/2.0)+sqrt((a**2)+((d/2)**2)))/(a))\n",
      "    return temp\n",
      "\n",
      "def m_less(m,n,d,a):\n",
      "    l_m=abs(d*n-d*m)\n",
      "    d_mn_p=l_m+d/2\n",
      "    d_mn_n=l_m-d/2\n",
      "    \n",
      "    temp=log((d_mn_p+(d_mn_p**2+a**2)**(0.5))/(d_mn_n+(d_mn_n**2+a**2)**(0.5)))\n",
      "    return temp\n",
      "\n",
      "def m_grt(m,n,d,a):\n",
      "    l_m=abs(d*n-d*m)\n",
      "    d_mn_p=l_m+d/2\n",
      "    d_mn_n=l_m-d/2\n",
      "    \n",
      "    temp=log(d_mn_p/d_mn_n)\n",
      "    return temp\n",
      "\n",
      "for i in range(0,N):\n",
      "    for j in range(0,N):\n",
      "        if i==j:\n",
      "            z[i][j]=m_eq_n(delta,a)\n",
      "        elif abs(i-j) <= 2:\n",
      "            z[i][j]=m_less(i,j,delta,a)\n",
      "        else:\n",
      "            z[i][j]=m_grt(i,j,delta,a)\n",
      "print \"The Z-matrix is:\"\n",
      "print z\n",
      "\n",
      "print \"The Vm matrix is:\"\n",
      "print b\n",
      "\n",
      "a=np.linalg.solve(z,b)\n",
      "print \"Charge distribution:\\n\"\n",
      "for i in range(0,N):\n",
      "    print \"a%d:\"%i,a[i]*10**12,\"pC/m\"\n",
      "    \n",
      "m=np.linspace(0,1,11)\n",
      "C=np.zeros(N*2+1)\n",
      "i=j=0\n",
      "while j<5 and i<10:\n",
      "    C[i]=a[j]*10**12\n",
      "    C[i+1]=a[j]*10**12\n",
      "    i=i+2\n",
      "    j=j+1\n",
      "print C\n",
      "\n",
      "\n",
      "plt.plot(m,C)\n",
      "plt.xlabel(\"Length(m)\")\n",
      "plt.ylabel(\"Charge Density(pC/m)\")\n",
      "plt.axis([0.0,1.0,7,10])\n",
      "plt.show()"
     ],
     "language": "python",
     "metadata": {},
     "outputs": [
      {
       "output_type": "stream",
       "stream": "stdout",
       "text": [
        "The Z-matrix is:\n",
        "[[ 10.59668473   1.09859007   0.51082385   0.33647224   0.25131443]\n",
        " [  1.09859007  10.59668473   1.09859007   0.51082385   0.33647224]\n",
        " [  0.51082385   1.09859007  10.59668473   1.09859007   0.51082385]\n",
        " [  0.33647224   0.51082385   1.09859007  10.59668473   1.09859007]\n",
        " [  0.25131443   0.33647224   0.51082385   1.09859007  10.59668473]]\n",
        "The Vm matrix is:\n",
        "[  1.11262645e-10   1.11262645e-10   1.11262645e-10   1.11262645e-10\n",
        "   1.11262645e-10]\n",
        "Charge distribution:\n",
        "\n",
        "a0: 8.81086751577 pC/m\n",
        "a1: 8.08998670069 pC/m\n",
        "a2: 7.97286010025 pC/m\n",
        "a3: 8.08998670069 pC/m\n",
        "a4: 8.81086751577 pC/m\n",
        "[ 8.81086752  8.81086752  8.0899867   8.0899867   7.9728601   7.9728601\n",
        "  8.0899867   8.0899867   8.81086752  8.81086752  0.        ]\n"
       ]
      },
      {
       "metadata": {},
       "output_type": "display_data",
       "png": "[encoded data removed]",
       "text": [
        "<matplotlib.figure.Figure at 0x5f35cb0>"
       ]
      }
     ],
     "prompt_number": 36
    },
    {
     "cell_type": "heading",
     "level": 2,
     "metadata": {},
     "source": [
      "Example 8.6, Page no. 474"
     ]
    },
    {
     "cell_type": "code",
     "collapsed": false,
     "input": [
      "Z11 = 73 + 42.5j\n",
      "Z12 = 25-38j\n",
      "\n",
      "Z_1d = Z11 + Z12\n",
      "\n",
      "print 'Z1d:',Z_1d"
     ],
     "language": "python",
     "metadata": {},
     "outputs": [
      {
       "output_type": "stream",
       "stream": "stdout",
       "text": [
        "Z1d: (98+4.5j)\n"
       ]
      }
     ],
     "prompt_number": 1
    },
    {
     "cell_type": "code",
     "collapsed": false,
     "input": [],
     "language": "python",
     "metadata": {},
     "outputs": []
    }
   ],
   "metadata": {}
  }
 ]
}