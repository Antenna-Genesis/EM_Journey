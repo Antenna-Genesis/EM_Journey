{
 "metadata": {
  "name": "chapter10.ipynb"
 },
 "nbformat": 3,
 "nbformat_minor": 0,
 "worksheets": [
  {
   "cells": [
    {
     "cell_type": "heading",
     "level": 1,
     "metadata": {},
     "source": [
      "Chapter 10: Travelling Wave and Broadband Antennas"
     ]
    },
    {
     "cell_type": "heading",
     "level": 2,
     "metadata": {},
     "source": [
      "Example 10.1, Page no. 573"
     ]
    },
    {
     "cell_type": "code",
     "collapsed": false,
     "input": [
      "#Given example parameters have to be found in terms of lambda, we assume lamda = 50\n",
      "lamda0=50\n",
      "N=10.0\n",
      "\n",
      "C=lamda0\n",
      "print \"Circumference:\",C\n",
      "\n",
      "alpha=13\n",
      "print \"Optimum pitch angle:\",alpha\n",
      "\n",
      "S=C*tan(alpha*pi/180)\n",
      "print \"Seperation between turns:\",S\n",
      "\n",
      "L0=sqrt(S**2+C**2)\n",
      "print \"Length of single turn:\",L0\n",
      "\n",
      "vh=L0/lamda0\n",
      "v0=(S/lamda0)+1\n",
      "p_end=vh/v0\n",
      "print \"Relative wave velocity of ordinary end-fire antenna:\",p_end\n",
      "\n",
      "p_wood=vh/((S/lamda0)+((2*N+1)/(2*N)))\n",
      "print \"Relative wave velocity of Hansen-Woodyard end-fire antenna:\",p_wood\n",
      "\n",
      "HPBW=((52*lamda0)**(1.5))/(C*sqrt(N*S))\n",
      "print \"Half-power Beamwidth:\",HPBW\n",
      "\n",
      "D0=15*N*C**2*S/lamda0**3\n",
      "print \"Directivity:\",10*log10(D0),\"dB\"\n",
      "\n",
      "AR=(2*N+1)/(2*N)\n",
      "print \"Axial Ratio:\",10*log10(AR)"
     ],
     "language": "python",
     "metadata": {},
     "outputs": [
      {
       "output_type": "stream",
       "stream": "stdout",
       "text": [
        "Circumference: 50\n",
        "Optimum pitch angle: 13\n",
        "Seperation between turns: 11.5434095563\n",
        "Length of single turn: 51.3152053897\n",
        "Relative wave velocity of ordinary end-fire antenna: 0.833805045246\n",
        "Relative wave velocity of Hansen-Woodyard end-fire antenna: 0.801256612432\n",
        "Half-power Beamwidth: 246.787390223\n",
        "Directivity: 15.3945535927 dB\n",
        "Axial Ratio: 0.211892990699\n"
       ]
      }
     ],
     "prompt_number": 1
    }
   ],
   "metadata": {}
  }
 ]
}