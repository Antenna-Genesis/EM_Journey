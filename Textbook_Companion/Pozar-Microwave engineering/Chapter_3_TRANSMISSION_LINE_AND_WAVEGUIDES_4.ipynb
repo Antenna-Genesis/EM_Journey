{
 "cells": [
  {
   "cell_type": "markdown",
   "metadata": {},
   "source": [
    "# Chapter 3 TRANSMISSION LINE AND WAVEGUIDES"
   ]
  },
  {
   "cell_type": "markdown",
   "metadata": {},
   "source": [
    "## example:3.1 page no.127"
   ]
  },
  {
   "cell_type": "code",
   "execution_count": 1,
   "metadata": {
    "collapsed": false
   },
   "outputs": [
    {
     "name": "stdout",
     "output_type": "stream",
     "text": [
      "cut off frequency for TE01 mode in GHZ= 14.7637795276\n",
      "cut off frequency for TE10 mode in GHZ= 6.56167979003\n",
      "cut off frequency for TE20 mode in GHZ= 13.1233595801\n",
      "cut off frequency for TE11 mode in GHZ= 16.1562627982\n",
      "surface resistance in ohm= 0.0260895069422\n",
      "attenuation constant in dB/m= 0.108405591329\n"
     ]
    }
   ],
   "source": [
    "# program to find the cut off frequency fo the first four propagating modes .\n",
    "\n",
    "from math import pi,sqrt,log10,e\n",
    "\n",
    "a=0.02286;\n",
    "b=0.01016;\n",
    "f=10*10**9;\n",
    "k=209.44;\n",
    "sigma =5.8*10**7;\n",
    "mue =4*pi*10**-7;\n",
    "c=3*10**8;\n",
    "m=0;n=1;\n",
    "fc=(c/(pi*2))*sqrt(((pi*m)/a)**2+((pi*n)/b)**2); \n",
    "fc=fc/(10**9);\n",
    "print \"cut off frequency for TE01 mode in GHZ=\",fc\n",
    "m=1;n=0;\n",
    "fc=(c/(pi*2))*sqrt(((pi*m)/a)**2+((pi*n)/b)**2); \n",
    "fc=fc/(10**9);\n",
    "print \"cut off frequency for TE10 mode in GHZ=\",fc \n",
    "m=2;n=0;\n",
    "fc=(c/(pi*2))*sqrt(((pi*m)/a)**2+((pi*n)/b)**2); \n",
    "fc=fc/(10**9);\n",
    "print \"cut off frequency for TE20 mode in GHZ=\",fc \n",
    "m=1;n=1;\n",
    "fc=(c/(pi*2))*sqrt(((pi*m)/a)**2+((pi*n)/b)**2);\n",
    "fc=fc/(10**9);\n",
    "print \"cut off frequency for TE11 mode in GHZ=\",fc\n",
    "B=sqrt(k**2-(pi/a)**2) # for TE10 mode\n",
    "Rs=sqrt(((2*pi*f)*mue)/(2*sigma)); # surface resistance .\n",
    "print \"surface resistance in ohm=\",Rs\n",
    "ac=(Rs/(a**3*b*B*k*377))*((2*b*pi**2)+(a**3*k**2)) # attenuation constant .\n",
    "ac=-20*(-ac)*log10(e);\n",
    "print \"attenuation constant in dB/m=\",ac"
   ]
  },
  {
   "cell_type": "markdown",
   "metadata": {},
   "source": [
    "## example:3.2 page no.138."
   ]
  },
  {
   "cell_type": "code",
   "execution_count": 2,
   "metadata": {
    "collapsed": false
   },
   "outputs": [
    {
     "name": "stdout",
     "output_type": "stream",
     "text": [
      "cut off frequency for TE11 mode in GHZ= 11.7201700093\n",
      "cut off frequency for TE01 mode in GHZ= 15.3107055254\n",
      "k in m1= 408.407044967\n",
      "propagation constant of TE11 mode = 176.706180929\n",
      "total attenuation factor in dB= 2.37559081601\n"
     ]
    }
   ],
   "source": [
    "#program to find the cut off frequency of two propagating modes of a circular waveguide .\n",
    "\n",
    "from math import pi,sqrt,e,log10\n",
    "\n",
    "a=0.005;eipsilar=2.25;f=13*10**9;c=3*10**8;d=0.001; sigma=6.17*01**7;muo=4*pi*10**-7;\n",
    "m=1;n=1;\n",
    "p11 =1.841; p01 =2.405;\n",
    "fc=(p11*c)/(2*pi*a*sqrt(eipsilar));\n",
    "kc=p11/a;\n",
    "fc=fc/(10**9);\n",
    "print \"cut off frequency for TE11 mode in GHZ=\",fc\n",
    "m=0;n=1;\n",
    "fc=(p01*c)/(2*pi*a*sqrt(eipsilar));\n",
    "fc=fc/(10**9);\n",
    "print \"cut off frequency for TE01 mode in GHZ=\",fc\n",
    "# so ,TE01 can ’ t be propagating mode. only TE11 will be.\n",
    "k=(2*pi*f*sqrt(eipsilar))/c;\n",
    "print \"k in m1=\",k\n",
    "B=sqrt(k**2-kc**2);\n",
    "print \"propagation constant of TE11 mode =\",B\n",
    "ac=(k**2*d)/(2*B);\n",
    "Rs=sqrt((2*pi*f*muo)/(2*sigma)); # surface resistance .\n",
    "acm=(Rs/(a*k*377*B))*(kc**2+((k**2)/(p11**2-1)));\n",
    "a=ac+acm;\n",
    "a=-20*(-0.547*0.5)*log10(e);\n",
    "print \"total attenuation factor in dB=\",a"
   ]
  },
  {
   "cell_type": "markdown",
   "metadata": {},
   "source": [
    "## example:3.3 page no.145"
   ]
  },
  {
   "cell_type": "code",
   "execution_count": 3,
   "metadata": {
    "collapsed": false
   },
   "outputs": [
    {
     "name": "stdout",
     "output_type": "stream",
     "text": [
      "maximum usable frequency in GHZ= 16.1677560714\n"
     ]
    }
   ],
   "source": [
    "#program to find out the highest usable frequency.\n",
    "from math import sqrt,pi\n",
    "\n",
    "a=0.000889;b=0.0029464;eipsilar=2.2;c=3*10**8;\n",
    "# here (b/a)=3.3,so for this kc⇤a=0.47\n",
    "kc=0.47/a;\n",
    "fc=(c*kc)/(2*pi*sqrt(eipsilar))\n",
    "fc=fc/(10**9);\n",
    "fmax=0.95*fc;\n",
    "print \"maximum usable frequency in GHZ=\",fmax"
   ]
  },
  {
   "cell_type": "markdown",
   "metadata": {},
   "source": [
    "## example:3.4 page no.153"
   ]
  },
  {
   "cell_type": "code",
   "execution_count": 4,
   "metadata": {
    "collapsed": false
   },
   "outputs": [
    {
     "data": {
      "image/png": "[encoded data removed]",
      "text/plain": [
       "<matplotlib.figure.Figure at 0x1049112d0>"
      ]
     },
     "metadata": {},
     "output_type": "display_data"
    }
   ],
   "source": [
    "# program to calculate and plot the propagation constant of first three propagating surface wave mode .\n",
    "%matplotlib inline\n",
    "from pylab import plot,title,xlabel,ylabel,legend,xlim,ylim\n",
    "from numpy import arange,sqrt,seterr\n",
    "\n",
    "old_settings = seterr(all='ignore')\n",
    "eipsilar=2.55;c=3*10**8; # x=d/lamdao ;\n",
    "x=arange(0.001,1.2,0.01);\n",
    "for n in range(0,4):\n",
    "    y=sqrt(eipsilar -((n**2)/(4.*(x**2)*(eipsilar -1))));# y=beta/lamdao;\n",
    "    plot(x,y)\n",
    "x=arange(0.001,1.2,0.01);\n",
    "for n in range(1,4):\n",
    "    y=sqrt(eipsilar -((((2.*n)-1)**2)/(16.*(x**2)*(eipsilar -1)))) \n",
    "    plot(x,y)\n",
    "title ('plot of propagation constant of first 4 mode');\n",
    "xlabel('d/lamdao');\n",
    "ylabel('beta/Ko'); \n",
    "xlim(0,1)\n",
    "ylim(1,1.6);"
   ]
  },
  {
   "cell_type": "markdown",
   "metadata": {},
   "source": [
    "## example:3.5 page no.157."
   ]
  },
  {
   "cell_type": "code",
   "execution_count": 5,
   "metadata": {
    "collapsed": false
   },
   "outputs": [
    {
     "name": "stdout",
     "output_type": "stream",
     "text": [
      "width of copper strip line conductor is 0.00266m\n",
      "wave number= 310.648995795\n",
      "dielectric aattenuation= 0.155324497897\n",
      "conductor attenuation= 0.121743652883\n",
      "total attenuation constant= 2.4065833799\n",
      "attenuation in dB/lamda= 0.048675545512\n"
     ]
    }
   ],
   "source": [
    "# program to find width of a copper strip line conductor .\n",
    "from math import pi,e,sqrt,log10\n",
    "\n",
    "eipsilar=2.20;\n",
    "Zo=50;b=0.0032;d=0.001;f=10**10;t =0.00001;\n",
    "c=3*10**8;Rs=0.026;A=4.74;\n",
    "x=(30*pi)/(sqrt(eipsilar)*Zo);\n",
    "x=x-0.441;\n",
    "w=b*x;\n",
    "if ((sqrt(eipsilar)*Zo)<120):\n",
    "    print \"width of copper strip line conductor is 0.00266m\"\n",
    "K=(2*pi*f*sqrt(eipsilar))/c;\n",
    "ad=(K*d)/2;\n",
    "ac=(2.7*(10**-3)*Rs*eipsilar*Zo*A)/(30*pi*(b-t));\n",
    "a=ac+ad;\n",
    "a=20*a*log10(e);\n",
    "lamda=c/(sqrt(eipsilar)*f);\n",
    "alamda=lamda*a;\n",
    "print \"wave number=\",K\n",
    "print \"dielectric aattenuation=\",ad\n",
    "print \"conductor attenuation=\",ac\n",
    "print \"total attenuation constant=\",a\n",
    "print \"attenuation in dB/lamda=\",alamda"
   ]
  },
  {
   "cell_type": "markdown",
   "metadata": {},
   "source": [
    "## example:3.7 page no.163"
   ]
  },
  {
   "cell_type": "code",
   "execution_count": 6,
   "metadata": {
    "collapsed": false
   },
   "outputs": [
    {
     "name": "stdout",
     "output_type": "stream",
     "text": [
      "width in centi meter= 0.391287\n",
      "length of microstrip in centi meter= 2.19381727238\n"
     ]
    }
   ],
   "source": [
    "#program to calculate the width and length of microstrip line .\n",
    "from math import sqrt,pi,e\n",
    "\n",
    "eipsilae=1.87;# effective dielectric constant .\n",
    "Zo=50;q=pi/2;c=3*10**8;\n",
    "f=2.5*10**9;\n",
    "ko=(2*pi*f)/c;\n",
    "d=0.00127;\n",
    "eipsilar =2.20;\n",
    "# for w/d>2;\n",
    "B=7.985;\n",
    "w=3.081*d*100;\n",
    "print \"width in centi meter=\",w\n",
    "l=(q*100)/(sqrt(eipsilae)*ko);\n",
    "print \"length of microstrip in centi meter=\",l"
   ]
  },
  {
   "cell_type": "markdown",
   "metadata": {},
   "source": [
    "## example:3.9 page no.173"
   ]
  },
  {
   "cell_type": "code",
   "execution_count": 7,
   "metadata": {
    "collapsed": false
   },
   "outputs": [
    {
     "name": "stdout",
     "output_type": "stream",
     "text": [
      "group velocity= c**2*sqrt(-kc**2 + w**2/c**2)/w\n",
      "phase velocity= w/sqrt(-kc**2 + w**2/c**2)\n",
      "conclusion:since B<ko,we have that vg<c<vp, which indicates that the phase velocity of a waveguide mode may be greater than the speed of light.but the group velocity will be lesser than the speed of light .\n"
     ]
    }
   ],
   "source": [
    "#program to calculate the group velocity.\n",
    "from sympy import symbols,sqrt,diff\n",
    "\n",
    "w,c,v,B,ko,kc=symbols('w,c,v,B,ko,kc');\n",
    "ko=w/c;\n",
    "B=sqrt(ko**2-kc**2);\n",
    "v=diff(B,w);\n",
    "vg=v**(-1);\n",
    "vg=(c*B)/ko;\n",
    "vp=w/B;\n",
    "print \"group velocity=\",vg\n",
    "print \"phase velocity=\",vp\n",
    "print \"conclusion:since B<ko,we have that vg<c<vp, which indicates that the phase velocity of a waveguide mode may be greater than the speed of light.but the group velocity will be lesser than the speed of light .\""
   ]
  }
 ],
 "metadata": {
  "kernelspec": {
   "display_name": "Python 2",
   "language": "python",
   "name": "python2"
  },
  "language_info": {
   "codemirror_mode": {
    "name": "ipython",
    "version": 2
   },
   "file_extension": ".py",
   "mimetype": "text/x-python",
   "name": "python",
   "nbconvert_exporter": "python",
   "pygments_lexer": "ipython2",
   "version": "2.7.10"
  }
 },
 "nbformat": 4,
 "nbformat_minor": 0
}
