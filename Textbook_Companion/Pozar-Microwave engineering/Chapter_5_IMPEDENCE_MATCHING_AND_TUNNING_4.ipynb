{
 "cells": [
  {
   "cell_type": "markdown",
   "metadata": {},
   "source": [
    "# Chapter 5 IMPEDENCE MATCHING AND TUNNING"
   ]
  },
  {
   "cell_type": "markdown",
   "metadata": {},
   "source": [
    "## Exa 5.1 page no:254"
   ]
  },
  {
   "cell_type": "code",
   "execution_count": 1,
   "metadata": {
    "collapsed": false
   },
   "outputs": [
    {
     "name": "stdout",
     "output_type": "stream",
     "text": [
      "inductor of first circuit in nH = 38.985\n",
      "capacitor of the first circuit in pF = 0.923\n",
      "inductor of second circuit in nH = 46.139\n",
      "capacitor of the second circuit in pF = 2.599\n",
      "\"NOTE:−for above specific problem Rl>Zo, positive X implies inductor , negative X implies capacitor , positive B implies capacitor and negative B implies inductor .\"\n"
     ]
    }
   ],
   "source": [
    "#program to design an L section matching network\n",
    "from math import pi,sqrt\n",
    "from sympy import I\n",
    "\n",
    "# program to design an L section matching network to match a series RC load.\n",
    "Zl=200-I*100; # load impedence .\n",
    "Rl=200;Xl=-100;f=500*10**6;Zo=100;\n",
    "B1=(Xl+sqrt(Rl/Zo)*sqrt(Rl**2+Xl**2-(Rl*Zo)))/(Rl**2+Xl**2);\n",
    "B2=(Xl-sqrt(Rl/Zo)*sqrt(Rl**2+Xl**2-(Rl*Zo)))/(Rl**2+Xl**2);\n",
    "C1=(B1/(2*pi*f))*10**12;\n",
    "L2=(-1/(B2*2*pi*f))*10**9;\n",
    "X1=(1/B1)+((Xl*Zo)/Rl)-(Zo/(B1*Rl));\n",
    "X2=(1/B2)+((Xl*Zo)/Rl)-(Zo/(B2*Rl));\n",
    "L1=(X1/(2*pi*f))*10**9;\n",
    "C2=(-1/(X2*2*pi*f))*10**12;\n",
    "print\"inductor of first circuit in nH = %.3f\"%L1\n",
    "print\"capacitor of the first circuit in pF = %.3f\"%C1\n",
    "print\"inductor of second circuit in nH = %.3f\"%L2\n",
    "print\"capacitor of the second circuit in pF = %.3f\"%C2 \n",
    "print\"\\\"NOTE:−for above specific problem Rl>Zo, positive X implies inductor , negative X implies capacitor , positive B implies capacitor and negative B implies inductor .\\\"\""
   ]
  },
  {
   "cell_type": "markdown",
   "metadata": {},
   "source": [
    "## Exa 5.5 page no:275"
   ]
  },
  {
   "cell_type": "code",
   "execution_count": 2,
   "metadata": {
    "collapsed": false
   },
   "outputs": [
    {
     "name": "stdout",
     "output_type": "stream",
     "text": [
      "charecteristic impedence of matching section = 22.36\n",
      " fractional bandwidth = 0.29\n"
     ]
    }
   ],
   "source": [
    "#design quarter wave matching transformer\n",
    "from math import sqrt,pi,acos\n",
    "\n",
    "#program to design a single section quarter wave matching transformer .\n",
    "Zl=10; # load impedence .\n",
    "Zo=50; # characteristic impedence .\n",
    "fo=3*10**9;swr=1.5; # maximum limit of swr.\n",
    "Z1=sqrt(Zo*Zl); # characteristic impedence of the matching section .\n",
    "taom=(swr-1)/(swr+1);\n",
    "frac_bw=2-(4/pi)*acos((taom/sqrt(1-taom**2))*(2*sqrt(Zo*Zl)/abs(Zl-Zo))); # fractional bandwidth .\n",
    "print \"charecteristic impedence of matching section = %.2f\"%Z1\n",
    "print \" fractional bandwidth = %.2f\"%frac_bw"
   ]
  },
  {
   "cell_type": "markdown",
   "metadata": {},
   "source": [
    "## Exa 5.6 page no:280"
   ]
  },
  {
   "cell_type": "code",
   "execution_count": 3,
   "metadata": {
    "collapsed": false
   },
   "outputs": [
    {
     "name": "stdout",
     "output_type": "stream",
     "text": [
      "Z1 = 91.70\n",
      "Z2 = 84.09\n",
      "Z3 = 77.11\n"
     ]
    }
   ],
   "source": [
    "#design three section binomial transformer\n",
    "from math import pi,acos\n",
    "\n",
    "Zl=50.;Zo=100.;N=3;taom=0.05;\n",
    "A=(2**-N)*abs((Zl-Zo)/(Zl+Zo));\n",
    "frac_bw=2.-(4/pi)*acos(0.5*(taom/A)**2);\n",
    "c=1.\n",
    "Z1=Zo*((Zl/Zo)**((2.**-N)*(c**N)));\n",
    "print \"Z1 = %.2f\"%Z1\n",
    "c=3.**(1/3)\n",
    "Z2=Z1*((Zl/Zo)**((2.**-N)*(c**N)));\n",
    "print \"Z2 = %.2f\"%Z2\n",
    "c=3.**(1/3)\n",
    "Z3=Z2*((Zl/Zo)**((2.**-N)*(c**N)));\n",
    "print \"Z3 = %.2f\"%Z3\n",
    "# answers may vary due to round off errors"
   ]
  },
  {
   "cell_type": "markdown",
   "metadata": {},
   "source": [
    "## Exa 5.7 page no:288"
   ]
  },
  {
   "cell_type": "code",
   "execution_count": 4,
   "metadata": {
    "collapsed": false
   },
   "outputs": [
    {
     "name": "stdout",
     "output_type": "stream",
     "text": [
      "the characteristic impedences are = 57.27 ,69.84 ,87.30\n"
     ]
    }
   ],
   "source": [
    "#design three section chebysev transfomer\n",
    "from math import pi,cosh\n",
    "from sympy import asec,acosh\n",
    "\n",
    "Zl=100.;Zo=50.;taom=0.05;N=3;A=0.05;\n",
    "thetam=asec(cosh((1/N)*acosh((1/taom)*abs((Zl-Zo)/(Zl+Zo)))))*(180/pi);\n",
    "x=(cosh((1./N)*acosh((1./taom)*abs((Zl-Zo)/(Zl+Zo)))))\n",
    "tao_o=A*(x**3)/2;\n",
    "tao_1=(3*A*(x**3-x))/2; # from symmetry tao 3=tao \n",
    "Z1=Zo*((1+tao_o)/(1-tao_o));\n",
    "Z2=Z1*((1+tao_1)/(1-tao_1));\n",
    "Z3=Zl*((1-tao_o)/(1+tao_o));\n",
    "print \"the characteristic impedences are = %.2f ,%.2f ,%.2f\"%(Z1,Z2,Z3)"
   ]
  }
 ],
 "metadata": {
  "kernelspec": {
   "display_name": "Python 2",
   "language": "python",
   "name": "python2"
  },
  "language_info": {
   "codemirror_mode": {
    "name": "ipython",
    "version": 2
   },
   "file_extension": ".py",
   "mimetype": "text/x-python",
   "name": "python",
   "nbconvert_exporter": "python",
   "pygments_lexer": "ipython2",
   "version": "2.7.10"
  }
 },
 "nbformat": 4,
 "nbformat_minor": 0
}
