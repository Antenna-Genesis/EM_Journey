{
 "cells": [
  {
   "cell_type": "markdown",
   "metadata": {},
   "source": [
    "# Chapter 7 POWER DIVIDERS DIRECTIONAL COUPLERS AND HYBRIDS"
   ]
  },
  {
   "cell_type": "markdown",
   "metadata": {},
   "source": [
    "## exa 7.1 page.no:360"
   ]
  },
  {
   "cell_type": "code",
   "execution_count": 1,
   "metadata": {
    "collapsed": false
   },
   "outputs": [
    {
     "name": "stdout",
     "output_type": "stream",
     "text": [
      "not matched\n",
      "reflection coefficient looking at 150 ohm  line = -0.71\n",
      "reflection coefficient looking at 75 ohm line = -0.14\n"
     ]
    }
   ],
   "source": [
    "#function:\n",
    "def parallel_impedence(Z1,Z2):\n",
    "    return (Z1*Z2)/(Z1+Z2);\n",
    "\n",
    "# program to compute the reflection coefficients seen looking in to the output port.\n",
    "# as the power is divided in to 2:1 ratio. and Pin=(1/2)⇤Voˆ2/Zo;\n",
    "# so,P1=(1/3)⇤Pin;and P2=(2/3)⇤Pin ............( i)\n",
    "Zo =50.;\n",
    "Z1=3.*Zo; # from above condition .............( i)\n",
    "Z2=(3/2)*Zo;\n",
    "Zin=parallel_impedence(Z1,Z2); # input impedence to the junction .\n",
    "if Zin==Zo:\n",
    "    print \"input is matched to the 50 ohm sources\"\n",
    "else:\n",
    "    print \"not matched\"\n",
    "Zin1=parallel_impedence(Zo,Z2); # looking in to the 150 ohm source.\n",
    "Zin2=parallel_impedence(Zo,Z1); # looking in to the 75 ohm source.\n",
    "tao1=(Zin1-Z1)/(Zin1+Z1);\n",
    "tao2=(Zin2-Z2)/(Zin2+Z2);\n",
    "print \"reflection coefficient looking at 150 ohm  line = %.2f\"%tao1\n",
    "print \"reflection coefficient looking at 75 ohm line = %.2f\"%tao2"
   ]
  },
  {
   "cell_type": "markdown",
   "metadata": {},
   "source": [
    "## exa 7.2 page.no:365"
   ]
  },
  {
   "cell_type": "code",
   "execution_count": 2,
   "metadata": {
    "collapsed": false
   },
   "outputs": [
    {
     "name": "stdout",
     "output_type": "stream",
     "text": [
      "the shunt resistance value should be in ohm=  100\n",
      "the quarter wave transmission line in the divide should have a characteristic impedence in ohm =  70.7106781187\n"
     ]
    }
   ],
   "source": [
    "# program to design an equisplit wilkinson power divider for 50 ohm system impedence .\n",
    "from math import sqrt\n",
    "\n",
    "Zo =50;\n",
    "Z=sqrt(2)*Zo; # impedence of quarter wave transmission line .\n",
    "R=2*Zo; # shunt resistor .\n",
    "print \"the shunt resistance value should be in ohm= \",R\n",
    "print \"the quarter wave transmission line in the divide should have a characteristic impedence in ohm = \",Z"
   ]
  },
  {
   "cell_type": "markdown",
   "metadata": {},
   "source": [
    "## exa 7.3 page.no:372"
   ]
  },
  {
   "cell_type": "code",
   "execution_count": 3,
   "metadata": {
    "collapsed": false
   },
   "outputs": [
    {
     "name": "stdout",
     "output_type": "stream",
     "text": [
      "the aperture position in mm = 9.72\n",
      "the aperture size in mm =  1000.0\n",
      "NOTE:the above shown results completes the design of the betha hole coupler \n"
     ]
    }
   ],
   "source": [
    "# program to design bethe-hole coupler for x-band wave guide .\n",
    "from math import pi,asin\n",
    "\n",
    "f=9*10**9;C=20;a=0.02286;b=0.01016;\n",
    "Ko=188.5;B=129;Z10 =550.9;\n",
    "P10=4.22*10**-7;lamdao=0.0333;\n",
    "uo=4*pi*10**-7;eo=8.854*10**-12;w=2*pi*f;\n",
    "s=(a/pi)*asin(lamdao/sqrt(2*(lamdao**2-a**2)))*10**3; \n",
    "# a=10⇤b;# as C=20db; # take x=a/b; so x=10;\n",
    "ro=(P10/((10*w)*((((2*eo/3)+(4*uo)/(3*Z10**2))*0.944)-((4*pi**2*uo*0.056)/(3*B**2*a**2*Z10**2)))))**(1/3)*10**3;\n",
    "print \"the aperture position in mm = %.2f\"%s\n",
    "print \"the aperture size in mm = \",ro\n",
    "print \"NOTE:the above shown results completes the design of the betha hole coupler \""
   ]
  },
  {
   "cell_type": "markdown",
   "metadata": {},
   "source": [
    "## exa 7.4 page.no:378"
   ]
  },
  {
   "cell_type": "code",
   "execution_count": 4,
   "metadata": {
    "collapsed": false
   },
   "outputs": [
    {
     "name": "stdout",
     "output_type": "stream",
     "text": [
      "kf = 394835.06\n",
      "kb = 345030.82\n",
      "thetam in degree = 70.59\n",
      "ro in mm= 3009.49\n",
      "r1 in mm= 1000.00\n"
     ]
    }
   ],
   "source": [
    "# program to design a four hole chebysev coupler in xband wave guide using round aperture located at s=a/4.\n",
    "from math import pi\n",
    "from mpmath import cosh,acosh,sin,cos,asec\n",
    "\n",
    "a=0.02286;b=0.01016;lamdao=0.0333;\n",
    "ko=188.5;bta=129; Z10=550.9;\n",
    "P10=4.22*10**-7;f=9*10**9;no=377;N=3;\n",
    "s=a/4;\n",
    "kf=((2*ko)/(3*no*P10))*((sin(pi*s/a)**2) -(2*(bta**2)/(ko**2))*((sin(pi*s/a)**2)+((pi**2)/((bta**2)*(a**2)))*(cos(pi*s/a)**2)));\n",
    "kf=abs(kf)\n",
    "kb=((2*ko)/(3*no*P10))*((sin(pi*s/a)**2)+(2*(bta**2) /(ko**2))*((sin(pi*s/a)**2)-((pi**2)/((bta**2)*(a **2)))*(cos(pi*s/a)**2)));\n",
    "kb=abs(kb)\n",
    "x=cosh(acosh(100)/3); # x=sec(thetam).\n",
    "thetam=asec(x)*180/pi; # so , thetam=70.6 and at the band edge .\n",
    "k=10**(-171.94/20);\n",
    "ro=(((k/2)**(1/3))*x)*1000;\n",
    "r1=(1.5*k*((x**3)-x))**(1/3)*1000;\n",
    "print \"kf = %.2f\"%kf\n",
    "print \"kb = %.2f\"%kb\n",
    "print \"thetam in degree = %.2f\"%thetam\n",
    "print \"ro in mm= %.2f\"%ro\n",
    "print \"r1 in mm= %.2f\"%r1"
   ]
  },
  {
   "cell_type": "markdown",
   "metadata": {},
   "source": [
    "## exa 7.5 page.no:382"
   ]
  },
  {
   "cell_type": "code",
   "execution_count": 5,
   "metadata": {
    "collapsed": false
   },
   "outputs": [
    {
     "name": "stdout",
     "output_type": "stream",
     "text": [
      "the branch line impedence in ohm will be = 35.36\n"
     ]
    }
   ],
   "source": [
    "#program to design a 50 ohm branchline quadrature hybrid junction \n",
    "from math import sqrt\n",
    "\n",
    "Zo =50.;\n",
    "Z=Zo/sqrt(2)\n",
    "print \"the branch line impedence in ohm will be = %.2f\"%Z"
   ]
  },
  {
   "cell_type": "markdown",
   "metadata": {},
   "source": [
    "## exa 7.6 page.no:387"
   ]
  },
  {
   "cell_type": "code",
   "execution_count": 6,
   "metadata": {
    "collapsed": false
   },
   "outputs": [
    {
     "name": "stdout",
     "output_type": "stream",
     "text": [
      "Zoe =  sqrt(eo*er*uo)/(W*eo*er/(b/2 + s/2) + W*eo*er/(b/2 - s/2))  zoo =  sqrt(eo*er*uo)/(W*eo*er/(b/2 + s/2) + W*eo*er/(b/2 - s/2) + 2*W*eo*er/s)\n"
     ]
    }
   ],
   "source": [
    "# program to determine the even and odd mode characteristic impedence.\n",
    "from sympy import symbols,sqrt\n",
    "\n",
    "C,A,d,W,C11,C12,Ce,Co,v,eo,er,s,b,uo,Zoe,Zoo,eipsila=symbols('C,A,d,W,C11,C12,Ce,Co,v,eo,er,s,b,uo,Zoe,Zoo,eipsila');\n",
    "C=A*eipsila/d;\n",
    "C11=(eo*er*W)/((b-s)/2)+(eo*er*W)/((b+s)/2);\n",
    "C12=er*eo*W/s;\n",
    "Ce=C11;\n",
    "Co=C11+2*C12\n",
    "v=1/sqrt(er*eo*uo);\n",
    "Zoe=1/(v*C11); # as Ce=C11; \n",
    "Zoo=1/(v*Co);\n",
    "print \"Zoe = \",Zoe,\" zoo = \",Zoo"
   ]
  },
  {
   "cell_type": "markdown",
   "metadata": {},
   "source": [
    "## exa 7.7 page.no:394"
   ]
  },
  {
   "cell_type": "code",
   "execution_count": 7,
   "metadata": {
    "collapsed": false
   },
   "outputs": [
    {
     "name": "stdout",
     "output_type": "stream",
     "text": [
      "conductor width in cm = 0.114\n",
      "conductor seperation in cm = 0.054\n"
     ]
    }
   ],
   "source": [
    "#design a 20 db single section coupled line coupler in stripline .\n",
    "from math import sqrt\n",
    "\n",
    "C=10**(-20/20);f=3*10**9;eipsila=2.56;Zo=50;b=0.00158; \n",
    "Zoe=Zo*sqrt((1+C)/(1-C));\n",
    "Zoo=Zo*sqrt((1-C)/(1+C));\n",
    "Zoe=eipsila*Zoe;\n",
    "Zoo=eipsila*Zoo; \n",
    "x=0.72; #x=w/b. \n",
    "y=0.34; # y=s/b.\n",
    "w=0.72*b*100;\n",
    "s=0.34*b*100;\n",
    "print \"conductor width in cm = %.3f\"%w\n",
    "print \"conductor seperation in cm = %.3f\"%s"
   ]
  },
  {
   "cell_type": "markdown",
   "metadata": {},
   "source": [
    "## exa 7.8 page.no:396"
   ]
  },
  {
   "cell_type": "code",
   "execution_count": 8,
   "metadata": {
    "collapsed": false
   },
   "outputs": [
    {
     "name": "stdout",
     "output_type": "stream",
     "text": [
      "for a maximally flat response for a three= section coupler doupble derivative of C will be zero\n",
      "the even and odd mode characteristic impedences for each section are :\n",
      "Zoe1 = 50.63 \n",
      "Zoo1= 49.38 \n",
      "Zoe2= 56.69 \n",
      "Zoo2= 56.69 \n",
      "Zoe3= 50.63 \n",
      "Zoo3= 49.38\n"
     ]
    }
   ],
   "source": [
    "# design a three section 20 db coupler with a binomial response .\n",
    "from sympy import symbols,sqrt\n",
    "\n",
    "Zo=50;f=3*10**9;N=3;\n",
    "C,C1,C2,theta=symbols('C,C1,C2,theta')\n",
    "C=10**(-20/20);\n",
    "print \"for a maximally flat response for a three= section coupler doupble derivative of C will be zero\"\n",
    "C1=0.0125;C2=0.125;C3=0.0125;\n",
    "Zoe1=Zo*sqrt((1+C1)/(1-C1));\n",
    "Zoe3=Zo*sqrt((1+C3)/(1-C3));\n",
    "Zoo1=Zo*sqrt((1-C1)/(1+C1));\n",
    "Zoo3=Zo*sqrt((1-C1)/(1+C1));\n",
    "Zoe2=Zo*sqrt((1+C2)/(1-C2));\n",
    "Zoo2=Zo*sqrt((1+C2)/(1-C2));\n",
    "print \"the even and odd mode characteristic impedences for each section are :\"\n",
    "print \"Zoe1 = %.2f\"%Zoe1,\"\\nZoo1= %.2f\"%Zoo1,\"\\nZoe2= %.2f\"%Zoe2,\"\\nZoo2= %.2f\"%Zoo2,\"\\nZoe3= %.2f\"%Zoe3,\"\\nZoo3= %.2f\"%Zoo3"
   ]
  },
  {
   "cell_type": "markdown",
   "metadata": {},
   "source": [
    "## exa 7.9 page.no:407"
   ]
  },
  {
   "cell_type": "code",
   "execution_count": 9,
   "metadata": {
    "collapsed": false
   },
   "outputs": [
    {
     "name": "stdout",
     "output_type": "stream",
     "text": [
      "the characteristic impedence of the ring transmission line in ohm is = 70.71\n"
     ]
    }
   ],
   "source": [
    "#design a 180 deg. ring hybrid for a 50 ohm system impedence .\n",
    "from math import sqrt\n",
    "\n",
    "Zo =50;\n",
    "Z=sqrt(2)*Zo;\n",
    "print \"the characteristic impedence of the ring transmission line in ohm is = %.2f\"%Z"
   ]
  }
 ],
 "metadata": {
  "kernelspec": {
   "display_name": "Python 2",
   "language": "python",
   "name": "python2"
  },
  "language_info": {
   "codemirror_mode": {
    "name": "ipython",
    "version": 2
   },
   "file_extension": ".py",
   "mimetype": "text/x-python",
   "name": "python",
   "nbconvert_exporter": "python",
   "pygments_lexer": "ipython2",
   "version": "2.7.10"
  }
 },
 "nbformat": 4,
 "nbformat_minor": 0
}
