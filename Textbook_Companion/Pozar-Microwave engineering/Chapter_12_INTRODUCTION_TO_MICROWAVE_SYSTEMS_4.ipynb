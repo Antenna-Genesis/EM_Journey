{
 "cells": [
  {
   "cell_type": "markdown",
   "metadata": {},
   "source": [
    "# Chapter 12 INTRODUCTION TO MICROWAVE SYSTEMS"
   ]
  },
  {
   "cell_type": "markdown",
   "metadata": {
    "collapsed": true
   },
   "source": [
    "## Example 12.1 page.no:660"
   ]
  },
  {
   "cell_type": "code",
   "execution_count": 2,
   "metadata": {
    "collapsed": false
   },
   "outputs": [
    {
     "name": "stdout",
     "output_type": "stream",
     "text": [
      "the radiation intensity is given by =  Io*ko*l*no*r*exp(-I*ko*r)*exp(I*conjugate(ko)*conjugate(r))*sin(theta)*sin(conjugate(theta))*conjugate(Io)*conjugate(ko)*conjugate(l)/(16*pi**2*conjugate(r))\n",
      "directivity is given by =  3/2\n",
      "the effective area of the dipole =  3*lamda**2/(8*pi)\n"
     ]
    }
   ],
   "source": [
    "#program to compute directivity , radiation intensity,F,the effective area.\n",
    "from sympy import symbols,conjugate,integrate,sin,I,exp,pi\n",
    "\n",
    "Etheta,Hphi,ko,no,Io,l,r,theta,C,phi,lamda=symbols('Etheta,Hphi,ko,no,Io,l,r,theta,C,phi,lamda')\n",
    "Etheta=((I*ko*no*Io*l)/(4*pi*r))*sin(theta)*exp(-I*ko*r);\n",
    "Hphi=((I*ko*Io*l)/(4*pi*r))*sin(theta)*exp(-I*ko*r);\n",
    "F=(r**2)*(Etheta*conjugate(Hphi));\n",
    "Prad=C*integrate(integrate(sin(theta)**3,(theta,0,pi)),(phi,0,2*pi));\n",
    "Prad=8*pi*C/3; \n",
    "D=4*pi*C/Prad;\n",
    "Ac=((lamda**2)*D)/(4*pi);\n",
    "print \"the radiation intensity is given by = \",F\n",
    "print \"directivity is given by = \",D\n",
    "print \"the effective area of the dipole = \",Ac"
   ]
  },
  {
   "cell_type": "markdown",
   "metadata": {
    "collapsed": true
   },
   "source": [
    "## Example 12.2 page.no:666"
   ]
  },
  {
   "cell_type": "code",
   "execution_count": 2,
   "metadata": {
    "collapsed": false
   },
   "outputs": [
    {
     "name": "stdout",
     "output_type": "stream",
     "text": [
      "received power in dBm will be = -75.31\n"
     ]
    }
   ],
   "source": [
    "# program to find the reactive power in dbm.\n",
    "from math import pi,log10\n",
    "\n",
    "Pt=120;f=6*10**9;\n",
    "Gt =10**4.2; Gr =10**3.1;\n",
    "lamda=0.05;R=3.59*10**7;\n",
    "Pr=(Pt*Gt*Gr*(lamda**2))/((4*pi*R)**2);\n",
    "Pr=10*log10(Pr/0.001);\n",
    "print \"received power in dBm will be = %.2f\"%Pr"
   ]
  },
  {
   "cell_type": "markdown",
   "metadata": {
    "collapsed": true
   },
   "source": [
    "## Example 12.3 page.no:669"
   ]
  },
  {
   "cell_type": "code",
   "execution_count": 3,
   "metadata": {
    "collapsed": false
   },
   "outputs": [
    {
     "name": "stdout",
     "output_type": "stream",
     "text": [
      "input SNR in dB = 35.38\n",
      "output SNR in dB = 29.78\n"
     ]
    }
   ],
   "source": [
    "# program to calculate the input and output SNR.\n",
    "from math import log10\n",
    "\n",
    "f=4*10**9;B=1*10**6;Grf=10**2;Gif=10**3;\n",
    "Lt=10**0.15;Lm=10**0.6;To=290;\n",
    "Fm=10**0.7;Tm=(Fm-1)*To;Tp=300;Tb=200;eta=0.9;\n",
    "Frf=10**0.3;Fif=10**0.11;k=1.38*10**-23;\n",
    "Trf=(Frf-1)*To;\n",
    "Tif=(Fif-1)*To;\n",
    "Trec=Trf+(Tm/Grf)+((Tif*Lm)/Grf);\n",
    "Ttl=(Lt-1)*Tp;\n",
    "Ta=eta*Tb+(1-eta)*Tp;\n",
    "Ni=k*B*Ta;\n",
    "Ni=10*log10(Ni/0.001); # converting in to dBm.\n",
    "si=-80; # in dBm.\n",
    "SNRi=si-Ni; # input SNR.\n",
    "Tsys=Ta+Ttl+Lt*Trec;\n",
    "SNRo=si-10*log10((k*B*Tsys)/0.001);\n",
    "print \"input SNR in dB = %.2f\"%SNRi\n",
    "print \"output SNR in dB = %.2f\"%SNRo"
   ]
  },
  {
   "cell_type": "markdown",
   "metadata": {
    "collapsed": true
   },
   "source": [
    "## Example 12.4 page.no:675"
   ]
  },
  {
   "cell_type": "code",
   "execution_count": 4,
   "metadata": {
    "collapsed": false
   },
   "outputs": [
    {
     "name": "stdout",
     "output_type": "stream",
     "text": [
      "the maximum range of the radar in meter = 8113.46\n"
     ]
    }
   ],
   "source": [
    "# program to find the maximum range of radar.\n",
    "from math import pi\n",
    "\n",
    "G=10**2.8;Pt=2000;sigma=12;\n",
    "Pmin =10**-12; lamda =0.03;\n",
    "Rmax=((Pt*(G**2)*sigma*(lamda**2))/(((4*pi)**3)*Pmin))**(0.25);\n",
    "print \"the maximum range of the radar in meter = %.2f\"%Rmax"
   ]
  },
  {
   "cell_type": "markdown",
   "metadata": {},
   "source": [
    "## Example 12.5 page.no:693"
   ]
  },
  {
   "cell_type": "code",
   "execution_count": 5,
   "metadata": {
    "collapsed": false
   },
   "outputs": [
    {
     "name": "stdout",
     "output_type": "stream",
     "text": [
      "THE J/S ration for the SSJ case in dB is = 16.50\n",
      "THE J/S ratio for the SOJ case in dB is = 0.01\n"
     ]
    }
   ],
   "source": [
    "# program to find the J/S ratio.\n",
    "from math import pi,log10\n",
    "\n",
    "Gr=3162;Pj=1000.;R=3000.;Br=1e6;Bj=20e6;\n",
    "Gj=10.;lamda=0.03;Pt=1e5;sigma=4.;Rj=10000.;\n",
    "x=(Pj/Pt)*((4.*pi*(R**2)*Gj)/(sigma*Gr))*(Br/Bj); #x=J/S\n",
    "x=10.*log10(x);\n",
    "Grsl=10**(3.5-2);# radar anteena gain in its sidelobe region .\n",
    "x1=(Pj/Pt)*(((R**4)*Gj*Grsl)/((Gr**2)*(Rj**2)))*(Br/Bj) ;\n",
    "#x1=10*log10(x1);\n",
    "print \"THE J/S ration for the SSJ case in dB is = %.2f\"%x\n",
    "print \"THE J/S ratio for the SOJ case in dB is = %.2f\"%x1"
   ]
  },
  {
   "cell_type": "markdown",
   "metadata": {
    "collapsed": true
   },
   "source": [
    "## Example 12.6 page.no:695"
   ]
  },
  {
   "cell_type": "code",
   "execution_count": 6,
   "metadata": {
    "collapsed": false
   },
   "outputs": [
    {
     "name": "stdout",
     "output_type": "stream",
     "text": [
      "the power density in the main beam of the anteena at a distance of 20 m in mw/cmˆ2 = 1.0\n"
     ]
    }
   ],
   "source": [
    "# program to calculate the power density of 20 m from the anteena .\n",
    "from math import pi\n",
    "\n",
    "G=10**4;Pin=5;R=20;\n",
    "S=(Pin*G)/(4*pi*(R**2))*0.1;\n",
    "print \"the power density in the main beam of the anteena at a distance of 20 m in mw/cmˆ2 = %.1f\"%S"
   ]
  }
 ],
 "metadata": {
  "kernelspec": {
   "display_name": "Python 2",
   "language": "python",
   "name": "python2"
  },
  "language_info": {
   "codemirror_mode": {
    "name": "ipython",
    "version": 2
   },
   "file_extension": ".py",
   "mimetype": "text/x-python",
   "name": "python",
   "nbconvert_exporter": "python",
   "pygments_lexer": "ipython2",
   "version": "2.7.10"
  }
 },
 "nbformat": 4,
 "nbformat_minor": 0
}
