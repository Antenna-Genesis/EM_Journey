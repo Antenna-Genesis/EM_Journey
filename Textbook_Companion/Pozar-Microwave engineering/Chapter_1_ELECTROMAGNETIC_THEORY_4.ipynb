{
 "cells": [
  {
   "cell_type": "markdown",
   "metadata": {},
   "source": [
    "# Chapter 1 ELECTROMAGNETIC THEORY"
   ]
  },
  {
   "cell_type": "markdown",
   "metadata": {},
   "source": [
    "## example 1.1,page no.17"
   ]
  },
  {
   "cell_type": "code",
   "execution_count": 1,
   "metadata": {
    "collapsed": false
   },
   "outputs": [
    {
     "name": "stdout",
     "output_type": "stream",
     "text": [
      "phase velocity in meter per second= 6.54e+07 \n",
      "wavelength in meter= 2.18e-02 \n",
      "wave impedence in ohm= 2.47e+02 \n"
     ]
    }
   ],
   "source": [
    "# program to calculate wavelength , phase velocity and wave impedence .\n",
    "from math import pi,sqrt\n",
    "\n",
    "f=3*10**9;\n",
    "mur =3;\n",
    "muo =4*pi*10**-7;\n",
    "eipsilao =8.854*10**-12;\n",
    "eipsilar =7;\n",
    "mue=muo*mur;\n",
    "eipsila=eipsilao*eipsilar;\n",
    "Vp=sqrt(1/(mue*eipsila));\n",
    "lamda=Vp/f;\n",
    "eta=sqrt(mue/eipsila);\n",
    "#Result\n",
    "print\"phase velocity in meter per second= %.2e \"%Vp;\n",
    "# phase velocity .\n",
    "print\"wavelength in meter= %.2e \"%lamda # wavelength.\n",
    "print\"wave impedence in ohm= %.2e \"%eta # wave impedence ."
   ]
  },
  {
   "cell_type": "markdown",
   "metadata": {},
   "source": [
    "## example:−1.2  page no.−20"
   ]
  },
  {
   "cell_type": "code",
   "execution_count": 2,
   "metadata": {
    "collapsed": false
   },
   "outputs": [
    {
     "name": "stdout",
     "output_type": "stream",
     "text": [
      "skin depth of aluminium in meter=8.15e-07 \n",
      "skin depth of copper in meter= 6.60e-07\n",
      "skin depth of gold in meter= 7.86e-07\n",
      "skin depth of silver in meter= 6.41e-07\n"
     ]
    }
   ],
   "source": [
    "# progarm to find out skin depth of aluminium, copper , gold and silver at frequency 10GHZ.\n",
    "from math import sqrt\n",
    "\n",
    "f=10*10**9;\n",
    "muo=4*pi*10**-7; # permeability in free space.\n",
    "omega=2*pi*f;\n",
    "sigma_aluminium =3.816*10**7;\n",
    "sigma_copper =5.813*10**7;\n",
    "sigma_gold =4.098*10**7;\n",
    "sigma_silver =6.173*10**7;\n",
    "delta1=sqrt(2/(omega*muo*sigma_aluminium));\n",
    "delta2=sqrt(2/(omega*muo*sigma_copper));\n",
    "delta3=sqrt(2/(omega*muo*sigma_gold));\n",
    "delta4=sqrt(2/(omega*muo*sigma_silver));\n",
    "#result\n",
    "print\"skin depth of aluminium in meter=%.2e \"%delta1; # skin depth of aluminium\n",
    "print\"skin depth of copper in meter= %.2e\"%delta2; # skin depth of copper .\n",
    "print\"skin depth of gold in meter= %.2e\"%delta3; #skin depth of gold .\n",
    "print\"skin depth of silver in meter= %.2e\"%delta4; # skin depth of silver ."
   ]
  },
  {
   "cell_type": "markdown",
   "metadata": {},
   "source": [
    "## example:−1.3 page no.−24"
   ]
  },
  {
   "cell_type": "code",
   "execution_count": 3,
   "metadata": {
    "collapsed": false
   },
   "outputs": [
    {
     "name": "stdout",
     "output_type": "stream",
     "text": [
      "for z<0, E1= A*N*x*exp(I*ko*z)\n",
      "for z<0, H1= -A*N*y*exp(I*ko*z)\n",
      "for z>0, E2= B*N*x*exp(-I*ko*z)\n",
      "for z>0, H2= B*N*y*exp(-I*ko*z)\n",
      "Matrix([[-Jo/2], [-Jo/2]])\n"
     ]
    }
   ],
   "source": [
    "#program to find the resulting fields by assuming plane waves on either side of the current sheet and enforcing the boundary conditions.\n",
    "from sympy import symbols,Matrix,exp,I\n",
    "\n",
    "E,x,E1,E2,H1,H2,z,Jo,A,B,N,n,ko,y,l,m = symbols('E,x,E1,E2,H1,H2,z,Jo,A,B,N,n,ko,y,l,m');\n",
    "E1=A*N*exp(I*ko*z)*x; # x component of elec tricfield (region z<0).\n",
    "H1=A*N*exp(I*ko*z)*(-y); # y component of magnetic field (region z<0).\n",
    "E2=B*N*exp(-I*ko*z)*x;# x component of electric field (region z>0).\n",
    "H2=B*N*exp(-I*ko*z)*y;  # y component of electric field (region z>0).\n",
    "print \"for z<0, E1=\",E1\n",
    "print \"for z<0, H1=\",H1\n",
    "print \"for z>0, E2=\",E2\n",
    "print \"for z>0, H2=\",H2\n",
    "#from boundary conditions\n",
    "c=Matrix([[-1,-1],[1,-1]]);\n",
    "d=Matrix([[A],[B]]);\n",
    "d=c.inv()*Matrix([[Jo],[0]]);\n",
    "print d;\n",
    "#result\n",
    "# A=−Jo/2; B=−Jo/2."
   ]
  },
  {
   "cell_type": "markdown",
   "metadata": {},
   "source": [
    "## example:−1.4 page no.−38."
   ]
  },
  {
   "cell_type": "code",
   "execution_count": 4,
   "metadata": {
    "collapsed": false
   },
   "outputs": [
    {
     "name": "stdout",
     "output_type": "stream",
     "text": [
      "skin depth in meter= 2.087e-06\n",
      "propagation comstant = 479049.101381194 + 479049.101381194*I\n",
      "intrinsic impedence in ohm= 0.00824099606711155 + 0.00824099606711155*I\n",
      "reflection coefficient= (-376.991759003933 + 0.00824099606711155*I)/(377.008240996067 + 0.00824099606711155*I)\n",
      "transmission coefficient=  (0.0164819921342231 + 0.0164819921342231*I)/(377.008240996067 + 0.00824099606711155*I)\n"
     ]
    }
   ],
   "source": [
    "# program to compute propagation constan , impedence , skin depth , reflection and transmission coefficient\n",
    "from sympy import I\n",
    "from numpy import pi,sqrt\n",
    "\n",
    "f=1*10**9;\n",
    "omega=2*pi*f;\n",
    "sigma=5.813*10**7; # for copper .\n",
    "mue=4*pi*10**-7; # permeability in free space.\n",
    "delta=sqrt(2/(mue*sigma*omega)); # skin depth .\n",
    "gama=((1+I)/delta); # propagation constant .\n",
    "eta=gama/sigma; # impedence\n",
    "etao=377; # intrinsic impedence in free space .\n",
    "tao=((eta-etao)/(eta+etao)); # reflection coefficient .\n",
    "t=(2*eta)/(eta+etao); # transmission coefficient\n",
    "# result\n",
    "print \"skin depth in meter= %.3e\"%delta\n",
    "print \"propagation comstant =\",gama\n",
    "print \"intrinsic impedence in ohm=\",eta\n",
    "print \"reflection coefficient=\",tao\n",
    "print \"transmission coefficient= \",t"
   ]
  },
  {
   "cell_type": "markdown",
   "metadata": {},
   "source": [
    "## example:−1.5 page no.−42."
   ]
  },
  {
   "cell_type": "code",
   "execution_count": 6,
   "metadata": {
    "collapsed": false
   },
   "outputs": [
    {
     "name": "stdout",
     "output_type": "stream",
     "text": [
      "The wave impendaces are 377 ohm , 236 ohm\n"
     ]
    },
    {
     "data": {
      "image/png": "[encoded data removed]",
      "text/plain": [
       "<matplotlib.figure.Figure at 0x10b2c4d10>"
      ]
     },
     "metadata": {},
     "output_type": "display_data"
    }
   ],
   "source": [
    "# example:−2.7.page no.−50.\n",
    "# program to plot the reflection coefficients for parallel and perpendicular polarized plane waves incident from free space on to a dielectric region with Er=2.55,versus incidence angle.\n",
    "\n",
    "%matplotlib inline\n",
    "from pylab import plot,subplot,title,xlabel,ylabel\n",
    "from sympy import acos,asin\n",
    "import numpy as n\n",
    "import math as m\n",
    "\n",
    "Er=2.55; # relaitve permittivity of dielectric medium .\n",
    "N1=377.; # intrinsic impedence\n",
    "N2=N1/m.sqrt(Er); # intrinsic impedence of dielectric medium.\n",
    "xb=asin(m.sqrt(1./(1.+1/2.55)));# brewster angle valid only in case of parallel polarization.\n",
    "xt=acos(m.sqrt(1.-(1./Er)**2.*m.sin(xb))); # angle of transmission .\n",
    "xi=n.arange(0,m.pi/2,0.05); # incidence\n",
    "print \"The wave impendaces are %d ohm , %d ohm\"%(N1,N2)\n",
    "# for parallel polarization angle .\n",
    "N2=N2*m.cos(xt);\n",
    "N1=N1*n.cos(xi);\n",
    "Tpar=(N2-N1)/(N2+N1);\n",
    "w=abs(Tpar);\n",
    "\n",
    "# result\n",
    "subplot(121)\n",
    "title ('parallel polarization');\n",
    "xlabel('xi(incidence angle)');\n",
    "ylabel('Tpar(reflection coefficient)');\n",
    "plot(xi,w)\n",
    "# for perpendicular polarization .\n",
    "#NOTE:− in case of this polarization . there is no brewster angle .\n",
    "xt=acos(n.sqrt(1-(1/Er)**2.*m.sin(xb)));\n",
    "n1=377.*m.cos(xt);\n",
    "n2=(377/m.sqrt(Er))*n.cos(xi);\n",
    "Tper=(n2-n1)/(n1+n2);\n",
    "z=abs(Tper);\n",
    "#result\n",
    "subplot(122)\n",
    "\n",
    "title ('perpendicular polarization');\n",
    "xlabel('xi(incidence angle)');\n",
    "#ylabel('Tper(reflection coefficient)');\n",
    "plot(xi,z);"
   ]
  }
 ],
 "metadata": {
  "kernelspec": {
   "display_name": "Python 2",
   "language": "python",
   "name": "python2"
  },
  "language_info": {
   "codemirror_mode": {
    "name": "ipython",
    "version": 2
   },
   "file_extension": ".py",
   "mimetype": "text/x-python",
   "name": "python",
   "nbconvert_exporter": "python",
   "pygments_lexer": "ipython2",
   "version": "2.7.10"
  }
 },
 "nbformat": 4,
 "nbformat_minor": 0
}
