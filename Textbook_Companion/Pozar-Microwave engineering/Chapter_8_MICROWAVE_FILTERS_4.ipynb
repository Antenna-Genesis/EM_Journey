{
 "cells": [
  {
   "cell_type": "markdown",
   "metadata": {},
   "source": [
    "# Chapter 8 MICROWAVE FILTERS"
   ]
  },
  {
   "cell_type": "markdown",
   "metadata": {},
   "source": [
    "## Example:8.1 page.no:429"
   ]
  },
  {
   "cell_type": "code",
   "execution_count": 1,
   "metadata": {
    "collapsed": false
   },
   "outputs": [
    {
     "data": {
      "image/png": "[encoded data removed]",
      "text/plain": [
       "<matplotlib.figure.Figure at 0x104a20910>"
      ]
     },
     "metadata": {},
     "output_type": "display_data"
    }
   ],
   "source": [
    "# program to compute the propagation constant , phase velocity and bloch impedence .\n",
    "%matplotlib inline\n",
    "from pylab import arange,plot,axis,title,xlabel,ylabel,subplot\n",
    "from numpy import cos,sin,pi,arccos,seterr\n",
    "from mpmath import acos\n",
    "\n",
    "Co=2.666*10**-12;\n",
    "d=0.01;c=3*10**8;\n",
    "Zo=50.;f=3*10**9;\n",
    "p=(Co*Zo*c)/(2*d); # constant of equation given below .\n",
    "y=arange(0,0.96,0.001)\n",
    "x=arccos(cos(y)-p*y*sin(y)); # x=ko⇤d; and y=beta⇤d;\n",
    "subplot(121)\n",
    "plot(x,y)\n",
    "plot(-x,y)\n",
    "axis([-3,3,0,1])\n",
    "title (\"k-beta diagram for first pass band \")\n",
    "xlabel (\"beta-d\")\n",
    "ylabel (\"ko-d\")\n",
    "y=arange(3,4,0.001)\n",
    "seterr(all='ignore')\n",
    "x=arccos(cos(y)-p*y*sin(y)); # x=ko⇤d; and y=beta⇤d ;\n",
    "subplot(122)\n",
    "plot(x,y)\n",
    "axis([0,3,3,4]);"
   ]
  },
  {
   "cell_type": "markdown",
   "metadata": {},
   "source": [
    "## Example:8.2 page.no:441"
   ]
  },
  {
   "cell_type": "code",
   "execution_count": 3,
   "metadata": {
    "collapsed": false
   },
   "outputs": [
    {
     "name": "stdout",
     "output_type": "stream",
     "text": [
      "design parameter for m=0.2195 ==> 1.3101e-06 4.6582e-10 1.2939e-05 \n",
      "\n",
      "design parameter for m=0.6 ==> 3.5810e-06 6.3662e-10 6.3662e-06 \n",
      "\n"
     ]
    }
   ],
   "source": [
    "# program to design a low pass composite filter with cutoff frequency of 2 MHZ.\n",
    "from math import sqrt,pi\n",
    "\n",
    "fc=2*10**6;f=2.05*10**6;Ro=75;\n",
    "L=(2*Ro)/(2*pi*fc);\n",
    "C=2/(Ro*2*pi*fc);\n",
    "m=sqrt(1-(fc/f)**2)\n",
    "x=m*L/2;\n",
    "y=m*C;\n",
    "z=((1-m**2)/(4*m))*L; # x,y,z are design parameter assumed .\n",
    "print \"design parameter for m=0.2195 ==> %.4e %.4e %.4e \\n\"%(x,y,z)\n",
    "m=0.6\n",
    "x=m*L/2;\n",
    "y=m*C/2;\n",
    "z=((1-m**2)/(2*m))*L; # x,y,z are design parameter assumed .\n",
    "print \"design parameter for m=0.6 ==> %.4e %.4e %.4e \\n\"%(x,y,z)"
   ]
  },
  {
   "cell_type": "markdown",
   "metadata": {},
   "source": [
    "## Example:8.3 page.no:449"
   ]
  },
  {
   "cell_type": "code",
   "execution_count": 4,
   "metadata": {
    "collapsed": false
   },
   "outputs": [
    {
     "name": "stdout",
     "output_type": "stream",
     "text": [
      "from table we see that an attenuation of 20 db at this frequency requires that N>=8 for x =  0.375\n"
     ]
    }
   ],
   "source": [
    "# program to find out number of filter elements required .\n",
    "from math import pi\n",
    "\n",
    "fc=8*10**9;f=11*10**9;\n",
    "w=2*pi*f;\n",
    "wc=2*pi*fc;\n",
    "x=abs(w/wc)-1;\n",
    "print \"from table we see that an attenuation of 20 db at this frequency requires that N>=8 for x = \",x"
   ]
  },
  {
   "cell_type": "markdown",
   "metadata": {},
   "source": [
    "## Example:8.4 page.no:447"
   ]
  },
  {
   "cell_type": "code",
   "execution_count": 5,
   "metadata": {
    "collapsed": false
   },
   "outputs": [
    {
     "name": "stdout",
     "output_type": "stream",
     "text": [
      "g1 =  0.618\n",
      "g2 =  1.618\n",
      "g3 =  2.0\n",
      "g4 =  1.618\n",
      "g5 =  0.618\n"
     ]
    }
   ],
   "source": [
    "# program to design a maximum flat low pass filter with cut off frequency of 2 GHZ.\n",
    "from math import pi\n",
    "\n",
    "fc=2*10**9;f=3*10**9;\n",
    "w=2*pi*f;\n",
    "wc=2*pi*fc;\n",
    "x=abs(w/wc)-1;\n",
    "# from table we can see that N=5 will be sufficient .\n",
    "# then prototype element values are:\n",
    "g1 =0.618; g2 =1.618; g3 =2.000; g4 =1.618; g5 =0.618;\n",
    "print \"g1 = \",g1\n",
    "print \"g2 = \",g2\n",
    "print \"g3 = \",g3\n",
    "print \"g4 = \",g4\n",
    "print \"g5 = \",g5"
   ]
  },
  {
   "cell_type": "markdown",
   "metadata": {},
   "source": [
    "## Example:8.5 page.no:460"
   ]
  },
  {
   "cell_type": "code",
   "execution_count": 6,
   "metadata": {
    "collapsed": false
   },
   "outputs": [
    {
     "name": "stdout",
     "output_type": "stream",
     "text": [
      "L1- 1.27e-16\n",
      "L2- 7.26e-01\n",
      "L3- 1.27e-16\n",
      "C1- 1.99e-04\n",
      "C2- 3.49e-20\n",
      "C3- 1.99e-04\n"
     ]
    }
   ],
   "source": [
    "# design a band pass filter having a 0.5 db equal ripple respnse with N=3.\n",
    "from math import pi\n",
    "\n",
    "N=3;Zo=50;f=1*10**9;delta=1*10**8;\n",
    "L1 =1.596; L3 =1.5963; C2 =1.0967; Rl =1.000;\n",
    "L_1=(L1*Zo)/(2*pi*f*delta);\n",
    "C_1=delta/(2*pi*f*L1*Zo);\n",
    "L_2=(delta*Zo)/(2*pi*f*C2);\n",
    "C_2=C2/(2*pi*f*delta*Zo);\n",
    "L_3=(L3*Zo)/(2*pi*f*delta); \n",
    "C_3=delta/(2*pi*f*L3*Zo);\n",
    "print \"L1- %.2e\"%L_1\n",
    "print \"L2- %.2e\"%L_2\n",
    "print \"L3- %.2e\"%L_3\n",
    "print \"C1- %.2e\"%C_1\n",
    "print \"C2- %.2e\"%C_2\n",
    "print \"C3- %.2e\"%C_3"
   ]
  },
  {
   "cell_type": "markdown",
   "metadata": {},
   "source": [
    "## Example:8.6 page.no:466"
   ]
  },
  {
   "cell_type": "code",
   "execution_count": 7,
   "metadata": {
    "collapsed": false
   },
   "outputs": [
    {
     "name": "stdout",
     "output_type": "stream",
     "text": [
      "from table , the normalized low pass prototype element values are = \n",
      "3.3487\n",
      "1.0\n",
      "0.7117\n",
      "3.3487\n",
      "1.299\n"
     ]
    }
   ],
   "source": [
    "# design a low pass filter for fabrication using ￼micrstrip lines .\n",
    "print \"from table , the normalized low pass prototype element values are = \"\n",
    "L1 =3.3487; C2 =0.7117; L3 =3.3487; Rl =1.0000;\n",
    "n=1+(1/3.3487);\n",
    "print(L1)\n",
    "print(Rl)\n",
    "print(C2)\n",
    "print(L3)\n",
    "print \"%.3f\"%n"
   ]
  },
  {
   "cell_type": "markdown",
   "metadata": {},
   "source": [
    "## Example:8.7 page.no:472"
   ]
  },
  {
   "cell_type": "code",
   "execution_count": 8,
   "metadata": {
    "collapsed": false
   },
   "outputs": [
    {
     "name": "stdout",
     "output_type": "stream",
     "text": [
      "5.92438360165\n",
      "27.0054107438\n",
      "22.1390892039\n",
      "36.8984820064\n",
      "16.2032464463\n",
      "9.87397266942\n"
     ]
    }
   ],
   "source": [
    "# design a steppedimpedence low pass filter having a maximally flat response and a cutoff frequency of 2.5 GHZ.\n",
    "from math import pi\n",
    "\n",
    "w=4*10**9;wc=2.5*10**9;Zh=150;Ro=50;Zl=10; 62\n",
    "C1 =0.517; L2 =1.414; C3 =1.932; L4 =1.932; C5 =1.414; L6 =0.517;\n",
    "# above values are taken from table.\n",
    "# for finding electrical lengths .\n",
    "x1=(C1*Zl/Ro)*(180/pi);\n",
    "x2=(L2*Ro/Zh)*(180/pi);\n",
    "x3=(C3*Zl/Ro)*(180/pi);\n",
    "x4=(L4*Ro/Zh)*(180/pi);\n",
    "x5=(C5*Zl/Ro)*(180/pi);\n",
    "x6=(L6*Ro/Zh)*(180/pi);\n",
    "print(x1)\n",
    "print(x2)\n",
    "print(x3)\n",
    "print(x4)\n",
    "print(x5)\n",
    "print(x6)"
   ]
  },
  {
   "cell_type": "markdown",
   "metadata": {},
   "source": [
    "## Example:8.8 page.no:486"
   ]
  },
  {
   "cell_type": "code",
   "execution_count": 9,
   "metadata": {
    "collapsed": false
   },
   "outputs": [
    {
     "name": "stdout",
     "output_type": "stream",
     "text": [
      "attenuation in db =  20\n"
     ]
    }
   ],
   "source": [
    "# design a coupled line band pass filter with N=3.\n",
    "\n",
    "delta=0.1;f=1.8*10889;fo=2*10889;Zo=50;fc=1;\n",
    "f=(1/delta)*((f/fo)-(fo/f));\n",
    "x=abs(f/fc)-1; # the value on the horizontal scale.\n",
    "attntn=20; # from above values .\n",
    "print \"attenuation in db = \",attntn"
   ]
  },
  {
   "cell_type": "markdown",
   "metadata": {},
   "source": [
    "## Example:8.9 page.no:489"
   ]
  },
  {
   "cell_type": "code",
   "execution_count": 10,
   "metadata": {
    "collapsed": false
   },
   "outputs": [
    {
     "name": "stdout",
     "output_type": "stream",
     "text": [
      "the cahracteristic impedence of a bandpass filter is = 265.87\n",
      "for a bandpass filter using short circuited stub resonators , the corresponding result is = 3.69\n"
     ]
    }
   ],
   "source": [
    "# design a bandpass filter using three quarter wave open circuit stubs .\n",
    "from math import pi\n",
    "\n",
    "f=2*10**9;delta=0.15;Zo=50;N=3;gn=1.5963; 63\n",
    "Zon=4*Zo/(pi*gn*delta);\n",
    "Z_on=(pi*Zo*delta)/(4*gn);\n",
    "print \"the cahracteristic impedence of a bandpass filter is = %.2f\"%Zon\n",
    "print \"for a bandpass filter using short circuited stub resonators , the corresponding result is = %.2f\"%Z_on"
   ]
  },
  {
   "cell_type": "markdown",
   "metadata": {},
   "source": [
    "## Example:8.10 page.no:492"
   ]
  },
  {
   "cell_type": "code",
   "execution_count": 11,
   "metadata": {
    "collapsed": false
   },
   "outputs": [
    {
     "name": "stdout",
     "output_type": "stream",
     "text": [
      "thetao in degree =  155.813419985\n",
      "the coupling capacitor value in PF =  0.553745271333\n"
     ]
    }
   ],
   "source": [
    "# design a bandpass filter using capacitive coupled resonators , with a 0.5 db equal passband haracteristic .\n",
    "from math import pi,sqrt,atan\n",
    "\n",
    "fo=2*10**9;delta=0.1;Zo=50;\n",
    "f=2.2*10**9;g1=1.5963;\n",
    "g2 =1.0967;g3=1.5963;g4=1;\n",
    "f=(1/delta)*((f/fo)-(fo/f));\n",
    "x=abs(f/fo)-1; # the value on the horizontal scale.\n",
    "x0=sqrt((pi*delta)/(2*g1))/Zo; # x0=ZoJ1 ;\n",
    "x1=((pi*delta)/(2*sqrt(g1*g2)))/Zo; # x0=ZoJn ;\n",
    "B0=x0/(1-(Zo*x0)**2)\n",
    "B1=x1/(1-(Zo*x1)**2)\n",
    "theta0=(pi-0.5*(atan(2*Zo*B0)+atan(2*Zo*B1)))*(180/ pi);\n",
    "C0=(B0/(2*pi*fo))*10**12;\n",
    "print \"thetao in degree = \",theta0\n",
    "print \"the coupling capacitor value in PF = \",C0"
   ]
  }
 ],
 "metadata": {
  "kernelspec": {
   "display_name": "Python 2",
   "language": "python",
   "name": "python2"
  },
  "language_info": {
   "codemirror_mode": {
    "name": "ipython",
    "version": 2
   },
   "file_extension": ".py",
   "mimetype": "text/x-python",
   "name": "python",
   "nbconvert_exporter": "python",
   "pygments_lexer": "ipython2",
   "version": "2.7.10"
  }
 },
 "nbformat": 4,
 "nbformat_minor": 0
}
