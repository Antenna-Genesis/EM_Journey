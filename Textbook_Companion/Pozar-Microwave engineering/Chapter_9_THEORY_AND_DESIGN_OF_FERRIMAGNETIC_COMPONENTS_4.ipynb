{
 "cells": [
  {
   "cell_type": "markdown",
   "metadata": {},
   "source": [
    "# Chapter 9 THEORY AND DESIGN OF FERRIMAGNETIC COMPONENTS"
   ]
  },
  {
   "cell_type": "markdown",
   "metadata": {
    "collapsed": true
   },
   "source": [
    "## Example:9.2 page.no:525"
   ]
  },
  {
   "cell_type": "code",
   "execution_count": 1,
   "metadata": {
    "collapsed": false
   },
   "outputs": [
    {
     "name": "stdout",
     "output_type": "stream",
     "text": [
      "for total reverse attenuation of 20 db,the length of the slab in cm must be =  2.41935483871\n",
      "for total reverse attenuation to be at least 27 db, alpha in db/cm be >  11.16\n"
     ]
    }
   ],
   "source": [
    "# program to design an e plane resonance isolatorin x band waveguide .\n",
    "\n",
    "er =13; revatt =30;\n",
    "deltaH=200;x=1700; # x=4⇤pi⇤Ms.\n",
    "f=10*10**9;alpha_=12.4; # from graph 10.13.\n",
    "L=revatt/alpha_;\n",
    "alpha_1=27/L;\n",
    "print \"for total reverse attenuation of 20 db,the length of the slab in cm must be = \",L\n",
    "print \"for total reverse attenuation to be at least 27 db, alpha in db/cm be > \",alpha_1"
   ]
  },
  {
   "cell_type": "markdown",
   "metadata": {},
   "source": [
    "## Example:9.3 page.no:528"
   ]
  },
  {
   "cell_type": "code",
   "execution_count": 2,
   "metadata": {
    "collapsed": false
   },
   "outputs": [
    {
     "name": "stdout",
     "output_type": "stream",
     "text": [
      "the slab length required for 30db total reverse attenuation in cm =  15\n",
      "cut-off wave number in m-1 = 137.428\n",
      "propagation constant = 158.046\n"
     ]
    }
   ],
   "source": [
    "# program to design a resonance isolator using the H-plane ferrite slab geometry in x-band.\n",
    "from mpmath import atan\n",
    "from math import pi,sqrt\n",
    "\n",
    "f=10*10**9;delta_sbys=0.01;forpims=1700;deltaH=200;\n",
    "revatt=30;ko=(2*pi*f)/(3*10**8);\n",
    "Ho=f/(2.8*10**9);\n",
    "# for x-band waveguide , a=2.286 cm.\n",
    "a=2.286;\n",
    "kc=(pi*100)/a;\n",
    "betao=sqrt(ko**2-kc**2);\n",
    "x=(1/pi)*atan(kc/betao); # x=c/a .\n",
    "L=revatt/2;\n",
    "print \"the slab length required for 30db total reverse attenuation in cm = \",L\n",
    "print \"cut-off wave number in m-1 = %.3f\"%kc\n",
    "print \"propagation constant = %.3f\"%betao"
   ]
  },
  {
   "cell_type": "markdown",
   "metadata": {},
   "source": [
    "## Example:9.4 page.no:532"
   ]
  },
  {
   "cell_type": "code",
   "execution_count": 3,
   "metadata": {
    "collapsed": false
   },
   "outputs": [
    {
     "name": "stdout",
     "output_type": "stream",
     "text": [
      "the ferrite length required for the 180 deg phase shift section in cm =  3.75\n",
      "the ferrite length required for the 90 deg phase shift section in cm =  1.875\n"
     ]
    }
   ],
   "source": [
    "# program to design a two slab remanent phase shifter .\n",
    "from math import pi\n",
    "\n",
    "forpims=1786;er=13;f=10*10**9;\n",
    "uo=4*pi*10**-7;ko=(2* pi*f)/(3*10**10);\n",
    "fm=2.8;s=0.1;# s and a in cm.\n",
    "x=(2*pi*fm*forpims)/(2*pi*f);# x=wm/w = k/uo. 6 a=2.286; # for x-band.\n",
    "t=.274; #from figure 10.19;\n",
    "diffphaseshift=0.4*ko*(180/pi); # differential phase shift .\n",
    "L_1=180/diffphaseshift;\n",
    "L_2=90/diffphaseshift;\n",
    "print \"the ferrite length required for the 180 deg phase shift section in cm = \",L_1\n",
    "print \"the ferrite length required for the 90 deg phase shift section in cm = \",L_2"
   ]
  }
 ],
 "metadata": {
  "kernelspec": {
   "display_name": "Python 2",
   "language": "python",
   "name": "python2"
  },
  "language_info": {
   "codemirror_mode": {
    "name": "ipython",
    "version": 2
   },
   "file_extension": ".py",
   "mimetype": "text/x-python",
   "name": "python",
   "nbconvert_exporter": "python",
   "pygments_lexer": "ipython2",
   "version": "2.7.10"
  }
 },
 "nbformat": 4,
 "nbformat_minor": 0
}
