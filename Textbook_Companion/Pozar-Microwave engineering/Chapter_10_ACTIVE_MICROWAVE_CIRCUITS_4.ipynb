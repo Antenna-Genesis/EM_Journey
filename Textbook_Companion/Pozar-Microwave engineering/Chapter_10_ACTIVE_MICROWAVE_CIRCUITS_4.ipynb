{
 "cells": [
  {
   "cell_type": "markdown",
   "metadata": {},
   "source": [
    "# Chapter 10 ACTIVE MICROWAVE CIRCUITS"
   ]
  },
  {
   "cell_type": "markdown",
   "metadata": {},
   "source": [
    "## Example:10.1 page.no:554"
   ]
  },
  {
   "cell_type": "code",
   "execution_count": 1,
   "metadata": {
    "collapsed": false
   },
   "outputs": [
    {
     "name": "stdout",
     "output_type": "stream",
     "text": [
      "the equivalent noise temperature in kelwin =  170.074792027\n",
      "the total noise power out of the amplifier in dBm will be =  -60.6767683732\n"
     ]
    }
   ],
   "source": [
    "# program to determine the equivalent noise temperature of the amplifier .\n",
    "from math import log10\n",
    "\n",
    "T1=290;P1=-62;G=100;B=10**9;k=1.38*10**-23;\n",
    "T2 =77; P2 = -64.7; Ts =450;\n",
    "Y=P1-P2; # Yfactor in db.\n",
    "Y=10**0.27;\n",
    "Te=(T1-Y*T2)/(Y-1);\n",
    "Po=G*k*B*(Ts+Te);\n",
    "Po=10*log10(Po/0.001); #/ converting in to dBm.\n",
    "print \"the equivalent noise temperature in kelwin = \",Te\n",
    "print \"the total noise power out of the amplifier in dBm will be = \",Po"
   ]
  },
  {
   "cell_type": "markdown",
   "metadata": {},
   "source": [
    "## Example:10.2 page.no:557"
   ]
  },
  {
   "cell_type": "code",
   "execution_count": 2,
   "metadata": {
    "collapsed": false
   },
   "outputs": [
    {
     "name": "stdout",
     "output_type": "stream",
     "text": [
      "the dynamic range in dB = 67.467\n"
     ]
    }
   ],
   "source": [
    "# program to find the dynamic range of the amplifier .\n",
    "from math import log10\n",
    "\n",
    "G=20;F=3.5; # in db.\n",
    "k=1.38*10**-23;To=290;B=2*10**9;\n",
    "# output noise power => No=G⇤F⇤k⇤To⇤B.so in dbm it will be\n",
    "No=20+3.5+10*log10((k*To*B)/0.001);\n",
    "DR=10-No;\n",
    "print \"the dynamic range in dB = %.3f\"%DR"
   ]
  },
  {
   "cell_type": "markdown",
   "metadata": {},
   "source": [
    "## Example:10.3 page.no:558"
   ]
  },
  {
   "cell_type": "code",
   "execution_count": 3,
   "metadata": {
    "collapsed": false
   },
   "outputs": [
    {
     "name": "stdout",
     "output_type": "stream",
     "text": [
      "the noise figure of the cascade in dB =  2.0\n",
      "the noise figure of the amplifier in dB =  0.0\n",
      "the noise figure of the line in dB =  2.0\n"
     ]
    }
   ],
   "source": [
    "# program to calculate the noise figure ig anteena is replaced by amplifier .\n",
    "from math import log10\n",
    "\n",
    "L=10**0.2;T=300;To=290;Te=150;\n",
    "Fl=1+(L-1.)*(T/To);\n",
    "Fld=10.*log10(Fl); # converting in to dBm.\n",
    "Fa=1.+(Te/To)\n",
    "Fad=10.*log10(Fa);# converting in to dBm.\n",
    "Fcas=Fl+L*(Fa-1.);\n",
    "Fcasd=10*log10(Fcas);# converting in to dBm.\n",
    "print \"the noise figure of the cascade in dB = \",Fcasd\n",
    "print \"the noise figure of the amplifier in dB = \",Fad\n",
    "print \"the noise figure of the line in dB = \",Fld"
   ]
  },
  {
   "cell_type": "markdown",
   "metadata": {},
   "source": [
    "## Example:10.4 page.no:562"
   ]
  },
  {
   "cell_type": "code",
   "execution_count": 4,
   "metadata": {
    "collapsed": false
   },
   "outputs": [
    {
     "name": "stdout",
     "output_type": "stream",
     "text": [
      "junction resistance for Io=0, in ohm =  250000.0\n",
      "junction resistance for Io=0, in ohm = 415.973\n"
     ]
    }
   ],
   "source": [
    "#program to calculate the impedence of the diode. 70\n",
    "\n",
    "Cp=0.1e-12;Lp=2e-9;Cj=0.15e-12;Rs=10.;Is =0.1e-6;\n",
    "Io1=0.;Io2=60e-6;alpha=0.04e3;\n",
    "R1j=1./(alpha*(Io1+Is)); # for Io=0.\n",
    "R2j=1./(alpha*(Io2+Is)); # for Io=60 mA.\n",
    "print \"junction resistance for Io=0, in ohm = \",R1j \n",
    "print \"junction resistance for Io=0, in ohm = %.3f\"%R2j"
   ]
  },
  {
   "cell_type": "markdown",
   "metadata": {
    "collapsed": true
   },
   "source": [
    "## Example:10.5 page.no:579"
   ]
  },
  {
   "cell_type": "code",
   "execution_count": 5,
   "metadata": {
    "collapsed": false
   },
   "outputs": [
    {
     "name": "stdout",
     "output_type": "stream",
     "text": [
      "for series circuit = 0.49\n",
      "for series circuit = 10.16\n",
      "for shunt circuit = 0.03\n",
      "for shunt circuit = 7.62\n"
     ]
    }
   ],
   "source": [
    "# program to obtain the greatest ratio of off to on attenuation .\n",
    "from math import pi,log10\n",
    "from sympy import I\n",
    "\n",
    "Cj=0.1*10**-12;Rr=1;Rf=5;\n",
    "Li=0.4*10**-9;f=5*10**9;Zo=50;\n",
    "w=2*pi*f;\n",
    "Zr=Rr+I*((w*Li)-(1/(w*Cj)));\n",
    "Zf=Rf+(I*w*Li);\n",
    "# for series circuit .\n",
    "ILon=-20*log10(abs((2*Zo)/(2*Zo+Zf)));\n",
    "ILoff=-20*log10(abs((2*Zo)/(2*Zo+Zr)));\n",
    "# for shunt circuit .\n",
    "ILon1=-20*log10(abs((2*Zr)/(2*Zr+Zo)));\n",
    "ILoff1=-20*log10(abs((2*Zf)/(2*Zf+Zo)));\n",
    "print \"for series circuit = %.2f\"%ILon\n",
    "print \"for series circuit = %.2f\"%ILoff\n",
    "print \"for shunt circuit = %.2f\"%ILon1\n",
    "print \"for shunt circuit = %.2f\"%ILoff1"
   ]
  }
 ],
 "metadata": {
  "kernelspec": {
   "display_name": "Python 2",
   "language": "python",
   "name": "python2"
  },
  "language_info": {
   "codemirror_mode": {
    "name": "ipython",
    "version": 2
   },
   "file_extension": ".py",
   "mimetype": "text/x-python",
   "name": "python",
   "nbconvert_exporter": "python",
   "pygments_lexer": "ipython2",
   "version": "2.7.10"
  }
 },
 "nbformat": 4,
 "nbformat_minor": 0
}
