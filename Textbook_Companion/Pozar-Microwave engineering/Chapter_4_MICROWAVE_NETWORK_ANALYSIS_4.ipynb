{
 "cells": [
  {
   "cell_type": "markdown",
   "metadata": {},
   "source": [
    "# Chapter 4 MICROWAVE NETWORK ANALYSIS"
   ]
  },
  {
   "cell_type": "markdown",
   "metadata": {},
   "source": [
    "## Example:4.1 page.no:187"
   ]
  },
  {
   "cell_type": "code",
   "execution_count": 1,
   "metadata": {
    "collapsed": false
   },
   "outputs": [
    {
     "name": "stdout",
     "output_type": "stream",
     "text": [
      "Matrix([[sqrt(2)*sqrt(a*b)/2], [sqrt(2)*Zte*sqrt(a*b)/2]])\n",
      "which completes the transmission line equivalence for the TE10 mode \n"
     ]
    }
   ],
   "source": [
    "#program to find the equivalent voltages and current .\n",
    "from sympy import symbols,sqrt,Matrix\n",
    "\n",
    "a,b,A,Zte,V,I,C1,C2,P=symbols('a,b,A,Zte,V,I,C1,C2,P');\n",
    "P=(a*b*A**2)/(4*Zte);\n",
    "c=(1/2)*V*I;\n",
    "d=(1/2)*(A**2)*C1*C2;\n",
    "C1=sqrt((a*b)/2); # on comparision .\n",
    "C2=sqrt((a*b)/2)*Zte; # on comparision .\n",
    "c=Matrix([C1,C2]);\n",
    "print c;\n",
    "print \"which completes the transmission line equivalence for the TE10 mode \""
   ]
  },
  {
   "cell_type": "markdown",
   "metadata": {},
   "source": [
    "## Example:4.2 page.no:188"
   ]
  },
  {
   "cell_type": "code",
   "execution_count": 2,
   "metadata": {
    "collapsed": false
   },
   "outputs": [
    {
     "name": "stdout",
     "output_type": "stream",
     "text": [
      "reflection coefficient -0.627245765824\n"
     ]
    }
   ],
   "source": [
    "#program to compute reflection coefficient .\n",
    "from math import pi,sqrt\n",
    "\n",
    "a=0.03485;b=0.01580;eipsilao=8.854*10**-12;muo=4*pi*10** -7;\n",
    "f=4.5*10**9;\n",
    "w=2*pi*f; # angular frequency .\n",
    "# for z<0 region air filled.\n",
    "eipsilar=2.56; # for z>0 region .\n",
    "ko=w*sqrt(muo*eipsilao);\n",
    "k=ko*sqrt(eipsilar);\n",
    "Ba=sqrt(ko**2-(pi/a)**2); # propagation constant in air region z<0.\n",
    "Bd=sqrt(k**2-(pi/a)**2); # propagation constant in dielectric region z>0.\n",
    "Zoa=(ko*377)/Ba;\n",
    "Zod=(ko*377)/Bd;\n",
    "tao=(Zod-Zoa)/(Zod+Zoa);\n",
    "print \"reflection coefficient\",tao"
   ]
  },
  {
   "cell_type": "markdown",
   "metadata": {},
   "source": [
    "## Example:4.3 page.no:195"
   ]
  },
  {
   "cell_type": "code",
   "execution_count": 3,
   "metadata": {
    "collapsed": false
   },
   "outputs": [
    {
     "name": "stdout",
     "output_type": "stream",
     "text": [
      "Z-parameter of two port network =  Matrix([[Za + Zc, Zc], [Zc, Zb + Zc]])\n"
     ]
    }
   ],
   "source": [
    "# program to find the z parameter of the two port network .\n",
    "from sympy import symbols,Matrix\n",
    "\n",
    "Z11,Z12,Z22,Z21,Za,Zb,Zc=symbols('Z11,Z12,Z22,Z21,Za,Zb,Zc');\n",
    "Z11=Za+Zc; # for I2=0.\n",
    "Z12=(Zc/(Zb+Zc))*(Zb+Zc); #for I1=0.\n",
    "Z21=(Zc/(Za+Zc))*(Za+Zc); # for I2=0.\n",
    "Z22=Zb+Zc; #for I1=0.\n",
    "Z=Matrix([[Z11,Z12],[Z21,Z22]]); # z_parameter matrix.\n",
    "print \"Z-parameter of two port network = \",Z"
   ]
  },
  {
   "cell_type": "markdown",
   "metadata": {},
   "source": [
    "## Example:4.4 page.no:198"
   ]
  },
  {
   "cell_type": "code",
   "execution_count": 4,
   "metadata": {
    "collapsed": false
   },
   "outputs": [
    {
     "name": "stdout",
     "output_type": "stream",
     "text": [
      "S-parameter of 3db attenuator circuit is =\n",
      "[[  4.43981086e-05   7.07663252e-01]\n",
      " [  7.07663252e-01   4.43981086e-05]]\n"
     ]
    }
   ],
   "source": [
    "# program to find the s-parameter of 3-dB attenuator circuit .\n",
    "from numpy import matrix\n",
    "\n",
    "Za=8.56;Zb=8.56;Zc=141.8;Zo=50.;\n",
    "S11=(((((Zo+Zb)*Zc)/(Zo+Zb+Zc))+Za)-Zo)/(((((Zo+Zb)*Zc)/(Zo+Zb+Zc))+Za)+Zo); # reflection coefficient seen at port 1.\n",
    "S22=(((((Zo+Za)*Zc)/(Zo+Za+Zc))+Zb)-Zo)/(((((Zo+Za)* Zc)/(Zo+Za+Zc))+Zb)+Zo); # reflection coefficient seen at port 2.\n",
    "S12=(((1/((((Zo+Za)*Zc)/(Zo+Za+Zc))+Zb))*(((Zo+Za)* Zc)/(Zo+Za+Zc)))*(Zo/(Zo+Za))); # transmission coefficient from port 2 to 1.\n",
    "S21=(((1/((((Zo+Zb)*Zc)/(Zo+Zb+Zc))+Za))*(((Zo+Zb)* Zc)/(Zo+Zb+Zc)))*(Zo/(Zo+Zb))); # transmission coefficient from port 1 to 2.\n",
    "S=matrix([[S11,S12],[S21,S22]]); # sparameter matrix.\n",
    "print \"S-parameter of 3db attenuator circuit is =\"\n",
    "print S"
   ]
  },
  {
   "cell_type": "markdown",
   "metadata": {},
   "source": [
    "## Example:4.5 page.no:202"
   ]
  },
  {
   "cell_type": "code",
   "execution_count": 1,
   "metadata": {
    "collapsed": false
   },
   "outputs": [
    {
     "name": "stdout",
     "output_type": "stream",
     "text": [
      "the network is reciprocal .\n",
      "the network is lossy .\n",
      "return loss at port 1 in dB= 3.967\n"
     ]
    }
   ],
   "source": [
    "#program to determine the reciprccity and lossless of two port network and find return loss.\n",
    "from sympy import symbols,I\n",
    "from numpy import matrix\n",
    "from math import log10\n",
    "\n",
    "Rl,tao=symbols('Rl,tao');\n",
    "S=matrix([[0.1,0.8*I],[0.8*I,0.2]]); # s-parameter matrix.\n",
    "if (S[0,1]==S[1,0]):\n",
    "    print \"the network is reciprocal .\"\n",
    "else:\n",
    "    print \"the network is not reciprocal .\"\n",
    "if (S[0,0]**2+S[0,1]**2==1):\n",
    "    print \"the network is lossless .\"\n",
    "else:\n",
    "    print \"the network is lossy .\"\n",
    "tao=S[0,0]-(S[0,1]*S[1,0])/(1+S[1,1]); #input reflection coefficient .\n",
    "Rl=-20*log10(abs(tao)); # return loss in dB.\n",
    "#result\n",
    "print \"return loss at port 1 in dB= %.3f\"%Rl"
   ]
  },
  {
   "cell_type": "markdown",
   "metadata": {},
   "source": [
    "## Example:4.6 page.no:208"
   ]
  },
  {
   "cell_type": "code",
   "execution_count": 6,
   "metadata": {
    "collapsed": false
   },
   "outputs": [
    {
     "name": "stdout",
     "output_type": "stream",
     "text": [
      "abcd parameter\n",
      "Matrix([[1, Z], [0, 1]])\n"
     ]
    }
   ],
   "source": [
    "#program to find the ABCD parameter of a two-port network .\n",
    "from sympy import symbols,Matrix\n",
    "\n",
    "A,B,C,D,V1,V2,I1,I2,Z=symbols('A,B,C,D,V1,V2,I1,I2,Z');\n",
    "#A=V1/V2; #for i2=0;\n",
    "A=1;\n",
    "B=V1/(V1/Z);\n",
    "C=0;\n",
    "D=I1/I1;\n",
    "ABCD=Matrix([[A,B],[C,D]]);\n",
    "#result\n",
    "print \"abcd parameter\"\n",
    "print ABCD"
   ]
  },
  {
   "cell_type": "markdown",
   "metadata": {},
   "source": [
    "## Example:4.7 page.no:226"
   ]
  },
  {
   "cell_type": "code",
   "execution_count": 7,
   "metadata": {
    "collapsed": false
   },
   "outputs": [
    {
     "name": "stdout",
     "output_type": "stream",
     "text": [
      "admittance matrix for bridge-T network=\n",
      "Matrix([[1/(Z1 + Z2) + 1/Z3 + Z2**2/(Z1*(Z1 + Z2)*(Z1 + 2*Z2)), -1/Z3 - Z2/(Z1*(Z1 + 2*Z2))], [-1/Z3 - Z2/(Z1*(Z1 + 2*Z2)), 1/Z3 + (Z1 + Z2)/(Z1*(Z1 + 2*Z2))]])\n"
     ]
    }
   ],
   "source": [
    "# program to find the admittance matrix for bridge-T network.\n",
    "from sympy import symbols,Matrix\n",
    "\n",
    "Za,Z1,Z2,Z3,Y,Ya,Yb,D=symbols('Za,Z1,Z2,Z3,Y,Ya,Yb,D');\n",
    "Za=Matrix([[Z1+Z2,Z2],[Z2,Z1+Z2]]);\n",
    "Yb=Matrix([[1/Z3,-1/Z3],[-1/Z3,1/Z3]]);\n",
    "Y1=1/Z1;Y2=1/Z2;\n",
    "Ya=Za**-1\n",
    "Y=Ya+Yb;\n",
    "D=((Z2+Z1)**2-Z2**2);\n",
    "# result\n",
    "print  \"admittance matrix for bridge-T network=\"\n",
    "print Y"
   ]
  }
 ],
 "metadata": {
  "kernelspec": {
   "display_name": "Python 2",
   "language": "python",
   "name": "python2"
  },
  "language_info": {
   "codemirror_mode": {
    "name": "ipython",
    "version": 2
   },
   "file_extension": ".py",
   "mimetype": "text/x-python",
   "name": "python",
   "nbconvert_exporter": "python",
   "pygments_lexer": "ipython2",
   "version": "2.7.10"
  }
 },
 "nbformat": 4,
 "nbformat_minor": 0
}
